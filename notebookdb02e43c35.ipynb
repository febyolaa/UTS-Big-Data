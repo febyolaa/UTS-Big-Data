{
 "cells": [
  {
   "cell_type": "code",
   "execution_count": 1,
   "id": "d92376c3",
   "metadata": {
    "_cell_guid": "b1076dfc-b9ad-4769-8c92-a6c4dae69d19",
    "_uuid": "8f2839f25d086af736a60e9eeb907d3b93b6e0e5",
    "execution": {
     "iopub.execute_input": "2022-04-20T05:39:03.213056Z",
     "iopub.status.busy": "2022-04-20T05:39:03.212582Z",
     "iopub.status.idle": "2022-04-20T05:39:03.234329Z",
     "shell.execute_reply": "2022-04-20T05:39:03.232864Z"
    },
    "papermill": {
     "duration": 0.063998,
     "end_time": "2022-04-20T05:39:03.236559",
     "exception": false,
     "start_time": "2022-04-20T05:39:03.172561",
     "status": "completed"
    },
    "tags": []
   },
   "outputs": [
    {
     "name": "stdout",
     "output_type": "stream",
     "text": [
      "/kaggle/input/property-dataset/Dataset property.csv\n",
      "/kaggle/input/property-dataset/data Emitten Property Febyola.csv\n"
     ]
    }
   ],
   "source": [
    "# This Python 3 environment comes with many helpful analytics libraries installed\n",
    "# It is defined by the kaggle/python Docker image: https://github.com/kaggle/docker-python\n",
    "# For example, here's several helpful packages to load\n",
    "\n",
    "import numpy as np # linear algebra\n",
    "import pandas as pd # data processing, CSV file I/O (e.g. pd.read_csv)\n",
    "\n",
    "# Input data files are available in the read-only \"../input/\" directory\n",
    "# For example, running this (by clicking run or pressing Shift+Enter) will list all files under the input directory\n",
    "\n",
    "import os\n",
    "for dirname, _, filenames in os.walk('/kaggle/input'):\n",
    "    for filename in filenames:\n",
    "        print(os.path.join(dirname, filename))\n",
    "\n",
    "# You can write up to 20GB to the current directory (/kaggle/working/) that gets preserved as output when you create a version using \"Save & Run All\" \n",
    "# You can also write temporary files to /kaggle/temp/, but they won't be saved outside of the current session"
   ]
  },
  {
   "cell_type": "code",
   "execution_count": 2,
   "id": "fe25155d",
   "metadata": {
    "execution": {
     "iopub.execute_input": "2022-04-20T05:39:03.313435Z",
     "iopub.status.busy": "2022-04-20T05:39:03.312665Z",
     "iopub.status.idle": "2022-04-20T05:39:04.413260Z",
     "shell.execute_reply": "2022-04-20T05:39:04.412273Z"
    },
    "papermill": {
     "duration": 1.141428,
     "end_time": "2022-04-20T05:39:04.415753",
     "exception": false,
     "start_time": "2022-04-20T05:39:03.274325",
     "status": "completed"
    },
    "tags": []
   },
   "outputs": [],
   "source": [
    "import pandas as pd \n",
    "import numpy as np\n",
    "import matplotlib.pyplot as plt\n",
    "import seaborn as sns\n",
    "from matplotlib.colors import ListedColormap\n",
    "%matplotlib inline\n",
    "from scipy import stats"
   ]
  },
  {
   "cell_type": "code",
   "execution_count": 3,
   "id": "cb2be2cc",
   "metadata": {
    "execution": {
     "iopub.execute_input": "2022-04-20T05:39:04.492018Z",
     "iopub.status.busy": "2022-04-20T05:39:04.491024Z",
     "iopub.status.idle": "2022-04-20T05:39:04.527560Z",
     "shell.execute_reply": "2022-04-20T05:39:04.526615Z"
    },
    "papermill": {
     "duration": 0.076933,
     "end_time": "2022-04-20T05:39:04.529802",
     "exception": false,
     "start_time": "2022-04-20T05:39:04.452869",
     "status": "completed"
    },
    "tags": []
   },
   "outputs": [
    {
     "name": "stdout",
     "output_type": "stream",
     "text": [
      "<class 'pandas.core.frame.DataFrame'>\n",
      "RangeIndex: 20 entries, 0 to 19\n",
      "Data columns (total 6 columns):\n",
      " #   Column                   Non-Null Count  Dtype  \n",
      "---  ------                   --------------  -----  \n",
      " 0   Emitten                  20 non-null     object \n",
      " 1   DER                      20 non-null     float64\n",
      " 2   Operating Profit Margin  20 non-null     float64\n",
      " 3   ROA                      20 non-null     float64\n",
      " 4   Sales Growth             20 non-null     float64\n",
      " 5   Category                 0 non-null      float64\n",
      "dtypes: float64(5), object(1)\n",
      "memory usage: 1.1+ KB\n"
     ]
    }
   ],
   "source": [
    "df0 = pd.read_csv('../input/property-dataset/Dataset property.csv')\n",
    "df0.info()"
   ]
  },
  {
   "cell_type": "code",
   "execution_count": 4,
   "id": "1cf3a695",
   "metadata": {
    "execution": {
     "iopub.execute_input": "2022-04-20T05:39:04.605640Z",
     "iopub.status.busy": "2022-04-20T05:39:04.605349Z",
     "iopub.status.idle": "2022-04-20T05:39:04.640335Z",
     "shell.execute_reply": "2022-04-20T05:39:04.639325Z"
    },
    "papermill": {
     "duration": 0.075912,
     "end_time": "2022-04-20T05:39:04.642909",
     "exception": false,
     "start_time": "2022-04-20T05:39:04.566997",
     "status": "completed"
    },
    "tags": []
   },
   "outputs": [
    {
     "data": {
      "text/html": [
       "<div>\n",
       "<style scoped>\n",
       "    .dataframe tbody tr th:only-of-type {\n",
       "        vertical-align: middle;\n",
       "    }\n",
       "\n",
       "    .dataframe tbody tr th {\n",
       "        vertical-align: top;\n",
       "    }\n",
       "\n",
       "    .dataframe thead th {\n",
       "        text-align: right;\n",
       "    }\n",
       "</style>\n",
       "<table border=\"1\" class=\"dataframe\">\n",
       "  <thead>\n",
       "    <tr style=\"text-align: right;\">\n",
       "      <th></th>\n",
       "      <th>DER</th>\n",
       "      <th>Operating Profit Margin</th>\n",
       "      <th>ROA</th>\n",
       "      <th>Sales Growth</th>\n",
       "      <th>Category</th>\n",
       "    </tr>\n",
       "  </thead>\n",
       "  <tbody>\n",
       "    <tr>\n",
       "      <th>count</th>\n",
       "      <td>20.000000</td>\n",
       "      <td>20.000000</td>\n",
       "      <td>20.000000</td>\n",
       "      <td>20.000000</td>\n",
       "      <td>0.0</td>\n",
       "    </tr>\n",
       "    <tr>\n",
       "      <th>mean</th>\n",
       "      <td>0.086500</td>\n",
       "      <td>5.504421</td>\n",
       "      <td>0.009500</td>\n",
       "      <td>-2.470423</td>\n",
       "      <td>NaN</td>\n",
       "    </tr>\n",
       "    <tr>\n",
       "      <th>std</th>\n",
       "      <td>3.345791</td>\n",
       "      <td>5.914422</td>\n",
       "      <td>0.043222</td>\n",
       "      <td>8.480276</td>\n",
       "      <td>NaN</td>\n",
       "    </tr>\n",
       "    <tr>\n",
       "      <th>min</th>\n",
       "      <td>-13.780000</td>\n",
       "      <td>-0.025778</td>\n",
       "      <td>-0.060000</td>\n",
       "      <td>-18.231694</td>\n",
       "      <td>NaN</td>\n",
       "    </tr>\n",
       "    <tr>\n",
       "      <th>25%</th>\n",
       "      <td>0.212500</td>\n",
       "      <td>0.188384</td>\n",
       "      <td>-0.012500</td>\n",
       "      <td>-7.522221</td>\n",
       "      <td>NaN</td>\n",
       "    </tr>\n",
       "    <tr>\n",
       "      <th>50%</th>\n",
       "      <td>0.540000</td>\n",
       "      <td>1.982973</td>\n",
       "      <td>0.000000</td>\n",
       "      <td>-1.706950</td>\n",
       "      <td>NaN</td>\n",
       "    </tr>\n",
       "    <tr>\n",
       "      <th>75%</th>\n",
       "      <td>1.145000</td>\n",
       "      <td>10.938139</td>\n",
       "      <td>0.032500</td>\n",
       "      <td>4.489220</td>\n",
       "      <td>NaN</td>\n",
       "    </tr>\n",
       "    <tr>\n",
       "      <th>max</th>\n",
       "      <td>3.100000</td>\n",
       "      <td>15.019076</td>\n",
       "      <td>0.130000</td>\n",
       "      <td>10.221301</td>\n",
       "      <td>NaN</td>\n",
       "    </tr>\n",
       "  </tbody>\n",
       "</table>\n",
       "</div>"
      ],
      "text/plain": [
       "             DER  Operating Profit Margin        ROA  Sales Growth  Category\n",
       "count  20.000000                20.000000  20.000000     20.000000       0.0\n",
       "mean    0.086500                 5.504421   0.009500     -2.470423       NaN\n",
       "std     3.345791                 5.914422   0.043222      8.480276       NaN\n",
       "min   -13.780000                -0.025778  -0.060000    -18.231694       NaN\n",
       "25%     0.212500                 0.188384  -0.012500     -7.522221       NaN\n",
       "50%     0.540000                 1.982973   0.000000     -1.706950       NaN\n",
       "75%     1.145000                10.938139   0.032500      4.489220       NaN\n",
       "max     3.100000                15.019076   0.130000     10.221301       NaN"
      ]
     },
     "execution_count": 4,
     "metadata": {},
     "output_type": "execute_result"
    }
   ],
   "source": [
    "df0.describe()"
   ]
  },
  {
   "cell_type": "code",
   "execution_count": 5,
   "id": "3677d70e",
   "metadata": {
    "execution": {
     "iopub.execute_input": "2022-04-20T05:39:04.722367Z",
     "iopub.status.busy": "2022-04-20T05:39:04.722101Z",
     "iopub.status.idle": "2022-04-20T05:39:04.727065Z",
     "shell.execute_reply": "2022-04-20T05:39:04.726185Z"
    },
    "papermill": {
     "duration": 0.046848,
     "end_time": "2022-04-20T05:39:04.729174",
     "exception": false,
     "start_time": "2022-04-20T05:39:04.682326",
     "status": "completed"
    },
    "tags": []
   },
   "outputs": [],
   "source": [
    "df0.drop([\"Emitten\",\"Category\"], axis=1, inplace=True)"
   ]
  },
  {
   "cell_type": "code",
   "execution_count": 6,
   "id": "ed248c5e",
   "metadata": {
    "execution": {
     "iopub.execute_input": "2022-04-20T05:39:04.806771Z",
     "iopub.status.busy": "2022-04-20T05:39:04.806453Z",
     "iopub.status.idle": "2022-04-20T05:39:06.716437Z",
     "shell.execute_reply": "2022-04-20T05:39:06.715603Z"
    },
    "papermill": {
     "duration": 1.950715,
     "end_time": "2022-04-20T05:39:06.718513",
     "exception": false,
     "start_time": "2022-04-20T05:39:04.767798",
     "status": "completed"
    },
    "tags": []
   },
   "outputs": [
    {
     "data": {
      "text/plain": [
       "<Figure size 1080x1080 with 0 Axes>"
      ]
     },
     "metadata": {},
     "output_type": "display_data"
    },
    {
     "data": {
      "image/png": "[encoded data removed]",
      "text/plain": [
       "<Figure size 540x540 with 12 Axes>"
      ]
     },
     "metadata": {
      "needs_background": "light"
     },
     "output_type": "display_data"
    }
   ],
   "source": [
    "plt.figure(figsize=(15, 15))\n",
    "sns.pairplot(df0, vars = df0.columns[1:13]);"
   ]
  },
  {
   "cell_type": "code",
   "execution_count": 7,
   "id": "1b06e3af",
   "metadata": {
    "execution": {
     "iopub.execute_input": "2022-04-20T05:39:06.799357Z",
     "iopub.status.busy": "2022-04-20T05:39:06.798910Z",
     "iopub.status.idle": "2022-04-20T05:39:06.828599Z",
     "shell.execute_reply": "2022-04-20T05:39:06.827798Z"
    },
    "papermill": {
     "duration": 0.072756,
     "end_time": "2022-04-20T05:39:06.830614",
     "exception": false,
     "start_time": "2022-04-20T05:39:06.757858",
     "status": "completed"
    },
    "tags": []
   },
   "outputs": [
    {
     "data": {
      "text/html": [
       "<div>\n",
       "<style scoped>\n",
       "    .dataframe tbody tr th:only-of-type {\n",
       "        vertical-align: middle;\n",
       "    }\n",
       "\n",
       "    .dataframe tbody tr th {\n",
       "        vertical-align: top;\n",
       "    }\n",
       "\n",
       "    .dataframe thead th {\n",
       "        text-align: right;\n",
       "    }\n",
       "</style>\n",
       "<table border=\"1\" class=\"dataframe\">\n",
       "  <thead>\n",
       "    <tr style=\"text-align: right;\">\n",
       "      <th></th>\n",
       "      <th>DER</th>\n",
       "      <th>Operating Profit Margin</th>\n",
       "      <th>ROA</th>\n",
       "      <th>Sales Growth</th>\n",
       "      <th>Category</th>\n",
       "    </tr>\n",
       "  </thead>\n",
       "  <tbody>\n",
       "    <tr>\n",
       "      <th>count</th>\n",
       "      <td>20.000000</td>\n",
       "      <td>20.000000</td>\n",
       "      <td>20.000000</td>\n",
       "      <td>20.000000</td>\n",
       "      <td>0.0</td>\n",
       "    </tr>\n",
       "    <tr>\n",
       "      <th>mean</th>\n",
       "      <td>0.086500</td>\n",
       "      <td>5.504421</td>\n",
       "      <td>0.009500</td>\n",
       "      <td>-2.470423</td>\n",
       "      <td>NaN</td>\n",
       "    </tr>\n",
       "    <tr>\n",
       "      <th>std</th>\n",
       "      <td>3.345791</td>\n",
       "      <td>5.914422</td>\n",
       "      <td>0.043222</td>\n",
       "      <td>8.480276</td>\n",
       "      <td>NaN</td>\n",
       "    </tr>\n",
       "    <tr>\n",
       "      <th>min</th>\n",
       "      <td>-13.780000</td>\n",
       "      <td>-0.025778</td>\n",
       "      <td>-0.060000</td>\n",
       "      <td>-18.231694</td>\n",
       "      <td>NaN</td>\n",
       "    </tr>\n",
       "    <tr>\n",
       "      <th>25%</th>\n",
       "      <td>0.212500</td>\n",
       "      <td>0.188384</td>\n",
       "      <td>-0.012500</td>\n",
       "      <td>-7.522221</td>\n",
       "      <td>NaN</td>\n",
       "    </tr>\n",
       "    <tr>\n",
       "      <th>50%</th>\n",
       "      <td>0.540000</td>\n",
       "      <td>1.982973</td>\n",
       "      <td>0.000000</td>\n",
       "      <td>-1.706950</td>\n",
       "      <td>NaN</td>\n",
       "    </tr>\n",
       "    <tr>\n",
       "      <th>75%</th>\n",
       "      <td>1.145000</td>\n",
       "      <td>10.938139</td>\n",
       "      <td>0.032500</td>\n",
       "      <td>4.489220</td>\n",
       "      <td>NaN</td>\n",
       "    </tr>\n",
       "    <tr>\n",
       "      <th>max</th>\n",
       "      <td>3.100000</td>\n",
       "      <td>15.019076</td>\n",
       "      <td>0.130000</td>\n",
       "      <td>10.221301</td>\n",
       "      <td>NaN</td>\n",
       "    </tr>\n",
       "  </tbody>\n",
       "</table>\n",
       "</div>"
      ],
      "text/plain": [
       "             DER  Operating Profit Margin        ROA  Sales Growth  Category\n",
       "count  20.000000                20.000000  20.000000     20.000000       0.0\n",
       "mean    0.086500                 5.504421   0.009500     -2.470423       NaN\n",
       "std     3.345791                 5.914422   0.043222      8.480276       NaN\n",
       "min   -13.780000                -0.025778  -0.060000    -18.231694       NaN\n",
       "25%     0.212500                 0.188384  -0.012500     -7.522221       NaN\n",
       "50%     0.540000                 1.982973   0.000000     -1.706950       NaN\n",
       "75%     1.145000                10.938139   0.032500      4.489220       NaN\n",
       "max     3.100000                15.019076   0.130000     10.221301       NaN"
      ]
     },
     "execution_count": 7,
     "metadata": {},
     "output_type": "execute_result"
    }
   ],
   "source": [
    "df0 = pd.read_csv('../input/property-dataset/Dataset property.csv')\n",
    "df1 = df0[['DER','Operating Profit Margin' ,'ROA','Sales Growth','Category']]\n",
    "df1.describe()"
   ]
  },
  {
   "cell_type": "code",
   "execution_count": 8,
   "id": "5d259313",
   "metadata": {
    "execution": {
     "iopub.execute_input": "2022-04-20T05:39:06.912159Z",
     "iopub.status.busy": "2022-04-20T05:39:06.911734Z",
     "iopub.status.idle": "2022-04-20T05:39:07.196513Z",
     "shell.execute_reply": "2022-04-20T05:39:07.195806Z"
    },
    "papermill": {
     "duration": 0.328081,
     "end_time": "2022-04-20T05:39:07.198556",
     "exception": false,
     "start_time": "2022-04-20T05:39:06.870475",
     "status": "completed"
    },
    "tags": []
   },
   "outputs": [
    {
     "data": {
      "text/plain": [
       "<AxesSubplot:xlabel='Emitten', ylabel='Operating Profit Margin'>"
      ]
     },
     "execution_count": 8,
     "metadata": {},
     "output_type": "execute_result"
    },
    {
     "data": {
      "image/png": "[encoded data removed]",
      "text/plain": [
       "<Figure size 1296x288 with 1 Axes>"
      ]
     },
     "metadata": {
      "needs_background": "light"
     },
     "output_type": "display_data"
    }
   ],
   "source": [
    "plt.figure(figsize=(18, 4))\n",
    "plt.xticks(rotation=45)\n",
    "sns.scatterplot(x='Emitten', y='Operating Profit Margin', \n",
    "                data=df0, s=80)"
   ]
  },
  {
   "cell_type": "code",
   "execution_count": 9,
   "id": "4ce88472",
   "metadata": {
    "execution": {
     "iopub.execute_input": "2022-04-20T05:39:07.283231Z",
     "iopub.status.busy": "2022-04-20T05:39:07.282950Z",
     "iopub.status.idle": "2022-04-20T05:39:07.710839Z",
     "shell.execute_reply": "2022-04-20T05:39:07.710013Z"
    },
    "papermill": {
     "duration": 0.473169,
     "end_time": "2022-04-20T05:39:07.712981",
     "exception": false,
     "start_time": "2022-04-20T05:39:07.239812",
     "status": "completed"
    },
    "tags": []
   },
   "outputs": [
    {
     "data": {
      "text/plain": [
       "<AxesSubplot:xlabel='Emitten', ylabel='Operating Profit Margin'>"
      ]
     },
     "execution_count": 9,
     "metadata": {},
     "output_type": "execute_result"
    },
    {
     "data": {
      "image/png": "[encoded data removed]",
      "text/plain": [
       "<Figure size 1296x288 with 1 Axes>"
      ]
     },
     "metadata": {
      "needs_background": "light"
     },
     "output_type": "display_data"
    }
   ],
   "source": [
    "plt.figure(figsize=(18, 4))\n",
    "plt.xticks(rotation=45)\n",
    "sns.scatterplot(x='Emitten', y='Operating Profit Margin', \n",
    "                data=df0, s=80)"
   ]
  },
  {
   "cell_type": "code",
   "execution_count": 10,
   "id": "6bfffdf6",
   "metadata": {
    "execution": {
     "iopub.execute_input": "2022-04-20T05:39:07.802996Z",
     "iopub.status.busy": "2022-04-20T05:39:07.802700Z",
     "iopub.status.idle": "2022-04-20T05:39:08.087583Z",
     "shell.execute_reply": "2022-04-20T05:39:08.086922Z"
    },
    "papermill": {
     "duration": 0.332017,
     "end_time": "2022-04-20T05:39:08.089592",
     "exception": false,
     "start_time": "2022-04-20T05:39:07.757575",
     "status": "completed"
    },
    "tags": []
   },
   "outputs": [
    {
     "data": {
      "text/plain": [
       "<AxesSubplot:xlabel='Emitten', ylabel='Sales Growth'>"
      ]
     },
     "execution_count": 10,
     "metadata": {},
     "output_type": "execute_result"
    },
    {
     "data": {
      "image/png": "[encoded data removed]",
      "text/plain": [
       "<Figure size 1296x288 with 1 Axes>"
      ]
     },
     "metadata": {
      "needs_background": "light"
     },
     "output_type": "display_data"
    }
   ],
   "source": [
    "plt.figure(figsize=(18, 4))\n",
    "plt.xticks(rotation=45)\n",
    "sns.scatterplot(x='Emitten', y='Sales Growth', \n",
    "                data=df0, s=80)"
   ]
  },
  {
   "cell_type": "code",
   "execution_count": 11,
   "id": "5b1ff4e5",
   "metadata": {
    "execution": {
     "iopub.execute_input": "2022-04-20T05:39:08.182508Z",
     "iopub.status.busy": "2022-04-20T05:39:08.181961Z",
     "iopub.status.idle": "2022-04-20T05:39:08.191928Z",
     "shell.execute_reply": "2022-04-20T05:39:08.190260Z"
    },
    "papermill": {
     "duration": 0.059892,
     "end_time": "2022-04-20T05:39:08.194339",
     "exception": false,
     "start_time": "2022-04-20T05:39:08.134447",
     "status": "completed"
    },
    "tags": []
   },
   "outputs": [
    {
     "name": "stdout",
     "output_type": "stream",
     "text": [
      "Jumlah baris sebelum memfilter outlier: 20\n",
      "Jumlah baris setelah memfilter outlier: 20\n"
     ]
    }
   ],
   "source": [
    "print(f'Jumlah baris sebelum memfilter outlier: {len(df1)}')\n",
    "\n",
    "filtered_entries = np.array([False] * len(df1))\n",
    "for col in ['Operating Profit Margin']:\n",
    "    zscore = abs(stats.zscore(df1[col]))\n",
    "    filtered_entries = (zscore < 3) | filtered_entries\n",
    "    \n",
    "df1 = df1[filtered_entries]\n",
    "\n",
    "print(f'Jumlah baris setelah memfilter outlier: {len(df1)}')"
   ]
  },
  {
   "cell_type": "code",
   "execution_count": 12,
   "id": "8d27f6bc",
   "metadata": {
    "execution": {
     "iopub.execute_input": "2022-04-20T05:39:08.287560Z",
     "iopub.status.busy": "2022-04-20T05:39:08.286826Z",
     "iopub.status.idle": "2022-04-20T05:39:08.312392Z",
     "shell.execute_reply": "2022-04-20T05:39:08.311349Z"
    },
    "papermill": {
     "duration": 0.074089,
     "end_time": "2022-04-20T05:39:08.314637",
     "exception": false,
     "start_time": "2022-04-20T05:39:08.240548",
     "status": "completed"
    },
    "tags": []
   },
   "outputs": [
    {
     "data": {
      "text/html": [
       "<div>\n",
       "<style scoped>\n",
       "    .dataframe tbody tr th:only-of-type {\n",
       "        vertical-align: middle;\n",
       "    }\n",
       "\n",
       "    .dataframe tbody tr th {\n",
       "        vertical-align: top;\n",
       "    }\n",
       "\n",
       "    .dataframe thead th {\n",
       "        text-align: right;\n",
       "    }\n",
       "</style>\n",
       "<table border=\"1\" class=\"dataframe\">\n",
       "  <thead>\n",
       "    <tr style=\"text-align: right;\">\n",
       "      <th></th>\n",
       "      <th>DER</th>\n",
       "      <th>Operating Profit Margin</th>\n",
       "      <th>ROA</th>\n",
       "      <th>Sales Growth</th>\n",
       "      <th>Category</th>\n",
       "    </tr>\n",
       "  </thead>\n",
       "  <tbody>\n",
       "    <tr>\n",
       "      <th>count</th>\n",
       "      <td>20.000000</td>\n",
       "      <td>20.000000</td>\n",
       "      <td>20.000000</td>\n",
       "      <td>20.000000</td>\n",
       "      <td>0.0</td>\n",
       "    </tr>\n",
       "    <tr>\n",
       "      <th>mean</th>\n",
       "      <td>0.086500</td>\n",
       "      <td>5.504421</td>\n",
       "      <td>0.009500</td>\n",
       "      <td>-2.470423</td>\n",
       "      <td>NaN</td>\n",
       "    </tr>\n",
       "    <tr>\n",
       "      <th>std</th>\n",
       "      <td>3.345791</td>\n",
       "      <td>5.914422</td>\n",
       "      <td>0.043222</td>\n",
       "      <td>8.480276</td>\n",
       "      <td>NaN</td>\n",
       "    </tr>\n",
       "    <tr>\n",
       "      <th>min</th>\n",
       "      <td>-13.780000</td>\n",
       "      <td>-0.025778</td>\n",
       "      <td>-0.060000</td>\n",
       "      <td>-18.231694</td>\n",
       "      <td>NaN</td>\n",
       "    </tr>\n",
       "    <tr>\n",
       "      <th>25%</th>\n",
       "      <td>0.212500</td>\n",
       "      <td>0.188384</td>\n",
       "      <td>-0.012500</td>\n",
       "      <td>-7.522221</td>\n",
       "      <td>NaN</td>\n",
       "    </tr>\n",
       "    <tr>\n",
       "      <th>50%</th>\n",
       "      <td>0.540000</td>\n",
       "      <td>1.982973</td>\n",
       "      <td>0.000000</td>\n",
       "      <td>-1.706950</td>\n",
       "      <td>NaN</td>\n",
       "    </tr>\n",
       "    <tr>\n",
       "      <th>75%</th>\n",
       "      <td>1.145000</td>\n",
       "      <td>10.938139</td>\n",
       "      <td>0.032500</td>\n",
       "      <td>4.489220</td>\n",
       "      <td>NaN</td>\n",
       "    </tr>\n",
       "    <tr>\n",
       "      <th>max</th>\n",
       "      <td>3.100000</td>\n",
       "      <td>15.019076</td>\n",
       "      <td>0.130000</td>\n",
       "      <td>10.221301</td>\n",
       "      <td>NaN</td>\n",
       "    </tr>\n",
       "  </tbody>\n",
       "</table>\n",
       "</div>"
      ],
      "text/plain": [
       "             DER  Operating Profit Margin        ROA  Sales Growth  Category\n",
       "count  20.000000                20.000000  20.000000     20.000000       0.0\n",
       "mean    0.086500                 5.504421   0.009500     -2.470423       NaN\n",
       "std     3.345791                 5.914422   0.043222      8.480276       NaN\n",
       "min   -13.780000                -0.025778  -0.060000    -18.231694       NaN\n",
       "25%     0.212500                 0.188384  -0.012500     -7.522221       NaN\n",
       "50%     0.540000                 1.982973   0.000000     -1.706950       NaN\n",
       "75%     1.145000                10.938139   0.032500      4.489220       NaN\n",
       "max     3.100000                15.019076   0.130000     10.221301       NaN"
      ]
     },
     "execution_count": 12,
     "metadata": {},
     "output_type": "execute_result"
    }
   ],
   "source": [
    "df1.describe()"
   ]
  },
  {
   "cell_type": "code",
   "execution_count": 13,
   "id": "f216edbb",
   "metadata": {
    "execution": {
     "iopub.execute_input": "2022-04-20T05:39:08.406504Z",
     "iopub.status.busy": "2022-04-20T05:39:08.406199Z",
     "iopub.status.idle": "2022-04-20T05:39:08.565738Z",
     "shell.execute_reply": "2022-04-20T05:39:08.564892Z"
    },
    "papermill": {
     "duration": 0.20823,
     "end_time": "2022-04-20T05:39:08.568007",
     "exception": false,
     "start_time": "2022-04-20T05:39:08.359777",
     "status": "completed"
    },
    "tags": []
   },
   "outputs": [
    {
     "data": {
      "text/html": [
       "<div>\n",
       "<style scoped>\n",
       "    .dataframe tbody tr th:only-of-type {\n",
       "        vertical-align: middle;\n",
       "    }\n",
       "\n",
       "    .dataframe tbody tr th {\n",
       "        vertical-align: top;\n",
       "    }\n",
       "\n",
       "    .dataframe thead th {\n",
       "        text-align: right;\n",
       "    }\n",
       "</style>\n",
       "<table border=\"1\" class=\"dataframe\">\n",
       "  <thead>\n",
       "    <tr style=\"text-align: right;\">\n",
       "      <th></th>\n",
       "      <th>DER</th>\n",
       "      <th>Operating Profit Margin</th>\n",
       "      <th>Sales Growth</th>\n",
       "    </tr>\n",
       "  </thead>\n",
       "  <tbody>\n",
       "    <tr>\n",
       "      <th>count</th>\n",
       "      <td>2.000000e+01</td>\n",
       "      <td>2.000000e+01</td>\n",
       "      <td>2.000000e+01</td>\n",
       "    </tr>\n",
       "    <tr>\n",
       "      <th>mean</th>\n",
       "      <td>6.938894e-18</td>\n",
       "      <td>1.110223e-16</td>\n",
       "      <td>7.771561e-17</td>\n",
       "    </tr>\n",
       "    <tr>\n",
       "      <th>std</th>\n",
       "      <td>1.025978e+00</td>\n",
       "      <td>1.025978e+00</td>\n",
       "      <td>1.025978e+00</td>\n",
       "    </tr>\n",
       "    <tr>\n",
       "      <th>min</th>\n",
       "      <td>-4.252127e+00</td>\n",
       "      <td>-9.593269e-01</td>\n",
       "      <td>-1.906863e+00</td>\n",
       "    </tr>\n",
       "    <tr>\n",
       "      <th>25%</th>\n",
       "      <td>3.863758e-02</td>\n",
       "      <td>-9.221760e-01</td>\n",
       "      <td>-6.111871e-01</td>\n",
       "    </tr>\n",
       "    <tr>\n",
       "      <th>50%</th>\n",
       "      <td>1.390646e-01</td>\n",
       "      <td>-6.108677e-01</td>\n",
       "      <td>9.236812e-02</td>\n",
       "    </tr>\n",
       "    <tr>\n",
       "      <th>75%</th>\n",
       "      <td>3.245863e-01</td>\n",
       "      <td>9.425903e-01</td>\n",
       "      <td>8.420060e-01</td>\n",
       "    </tr>\n",
       "    <tr>\n",
       "      <th>max</th>\n",
       "      <td>9.240821e-01</td>\n",
       "      <td>1.650513e+00</td>\n",
       "      <td>1.535497e+00</td>\n",
       "    </tr>\n",
       "  </tbody>\n",
       "</table>\n",
       "</div>"
      ],
      "text/plain": [
       "                DER  Operating Profit Margin  Sales Growth\n",
       "count  2.000000e+01             2.000000e+01  2.000000e+01\n",
       "mean   6.938894e-18             1.110223e-16  7.771561e-17\n",
       "std    1.025978e+00             1.025978e+00  1.025978e+00\n",
       "min   -4.252127e+00            -9.593269e-01 -1.906863e+00\n",
       "25%    3.863758e-02            -9.221760e-01 -6.111871e-01\n",
       "50%    1.390646e-01            -6.108677e-01  9.236812e-02\n",
       "75%    3.245863e-01             9.425903e-01  8.420060e-01\n",
       "max    9.240821e-01             1.650513e+00  1.535497e+00"
      ]
     },
     "execution_count": 13,
     "metadata": {},
     "output_type": "execute_result"
    }
   ],
   "source": [
    "feats = ['DER','Operating Profit Margin','Sales Growth']\n",
    "X = df1[feats].values\n",
    "y = df1['Category'].values\n",
    "\n",
    "from sklearn.preprocessing import StandardScaler\n",
    "X_std = StandardScaler().fit_transform(X)\n",
    "new_df = pd.DataFrame(data = X_std, columns = feats)\n",
    "new_df.describe()"
   ]
  },
  {
   "cell_type": "code",
   "execution_count": 14,
   "id": "7541d288",
   "metadata": {
    "execution": {
     "iopub.execute_input": "2022-04-20T05:39:08.662653Z",
     "iopub.status.busy": "2022-04-20T05:39:08.662375Z",
     "iopub.status.idle": "2022-04-20T05:39:08.935685Z",
     "shell.execute_reply": "2022-04-20T05:39:08.934797Z"
    },
    "papermill": {
     "duration": 0.32422,
     "end_time": "2022-04-20T05:39:08.938383",
     "exception": false,
     "start_time": "2022-04-20T05:39:08.614163",
     "status": "completed"
    },
    "tags": []
   },
   "outputs": [],
   "source": [
    "from sklearn.cluster import KMeans\n",
    "wcss=[]"
   ]
  },
  {
   "cell_type": "code",
   "execution_count": 15,
   "id": "543cfb5e",
   "metadata": {
    "execution": {
     "iopub.execute_input": "2022-04-20T05:39:09.034039Z",
     "iopub.status.busy": "2022-04-20T05:39:09.033743Z",
     "iopub.status.idle": "2022-04-20T05:39:09.039561Z",
     "shell.execute_reply": "2022-04-20T05:39:09.038740Z"
    },
    "papermill": {
     "duration": 0.055778,
     "end_time": "2022-04-20T05:39:09.041561",
     "exception": false,
     "start_time": "2022-04-20T05:39:08.985783",
     "status": "completed"
    },
    "tags": []
   },
   "outputs": [
    {
     "data": {
      "text/plain": [
       "(20, 6)"
      ]
     },
     "execution_count": 15,
     "metadata": {},
     "output_type": "execute_result"
    }
   ],
   "source": [
    "df0.shape"
   ]
  },
  {
   "cell_type": "code",
   "execution_count": 16,
   "id": "e22f1fd6",
   "metadata": {
    "execution": {
     "iopub.execute_input": "2022-04-20T05:39:09.136368Z",
     "iopub.status.busy": "2022-04-20T05:39:09.136053Z",
     "iopub.status.idle": "2022-04-20T05:39:09.602720Z",
     "shell.execute_reply": "2022-04-20T05:39:09.601789Z"
    },
    "papermill": {
     "duration": 0.516534,
     "end_time": "2022-04-20T05:39:09.604869",
     "exception": false,
     "start_time": "2022-04-20T05:39:09.088335",
     "status": "completed"
    },
    "tags": []
   },
   "outputs": [
    {
     "data": {
      "text/plain": [
       "[<matplotlib.lines.Line2D at 0x7fac270450d0>]"
      ]
     },
     "execution_count": 16,
     "metadata": {},
     "output_type": "execute_result"
    },
    {
     "data": {
      "image/png": "[encoded data removed]",
      "text/plain": [
       "<Figure size 864x504 with 1 Axes>"
      ]
     },
     "metadata": {
      "needs_background": "light"
     },
     "output_type": "display_data"
    }
   ],
   "source": [
    "from sklearn.cluster import KMeans\n",
    "inertia = []\n",
    "\n",
    "for i in range(1, 7):\n",
    "  kmeans = KMeans(n_clusters=i, init='k-means++', max_iter=300, n_init=10, random_state=0)\n",
    "  kmeans.fit(new_df.values)\n",
    "  inertia.append(kmeans.inertia_)\n",
    "\n",
    "plt.figure(figsize=(12, 7))\n",
    "plt.plot(inertia) #Elbow Method"
   ]
  },
  {
   "cell_type": "code",
   "execution_count": 17,
   "id": "949ec96d",
   "metadata": {
    "execution": {
     "iopub.execute_input": "2022-04-20T05:39:09.703117Z",
     "iopub.status.busy": "2022-04-20T05:39:09.702768Z",
     "iopub.status.idle": "2022-04-20T05:39:09.739607Z",
     "shell.execute_reply": "2022-04-20T05:39:09.738405Z"
    },
    "papermill": {
     "duration": 0.089991,
     "end_time": "2022-04-20T05:39:09.742243",
     "exception": false,
     "start_time": "2022-04-20T05:39:09.652252",
     "status": "completed"
    },
    "tags": []
   },
   "outputs": [
    {
     "data": {
      "text/plain": [
       "KMeans(n_clusters=2, random_state=0)"
      ]
     },
     "execution_count": 17,
     "metadata": {},
     "output_type": "execute_result"
    }
   ],
   "source": [
    "from sklearn.cluster import KMeans\n",
    "kmeans = KMeans(n_clusters=2, init='k-means++', max_iter=300, n_init=10, random_state=0)\n",
    "kmeans.fit(new_df.values)"
   ]
  },
  {
   "cell_type": "code",
   "execution_count": 18,
   "id": "95e81319",
   "metadata": {
    "execution": {
     "iopub.execute_input": "2022-04-20T05:39:09.840767Z",
     "iopub.status.busy": "2022-04-20T05:39:09.840442Z",
     "iopub.status.idle": "2022-04-20T05:39:09.846442Z",
     "shell.execute_reply": "2022-04-20T05:39:09.845416Z"
    },
    "papermill": {
     "duration": 0.058201,
     "end_time": "2022-04-20T05:39:09.848575",
     "exception": false,
     "start_time": "2022-04-20T05:39:09.790374",
     "status": "completed"
    },
    "tags": []
   },
   "outputs": [],
   "source": [
    "new_df['target'] = y\n",
    "new_df['fit'] = kmeans.labels_"
   ]
  },
  {
   "cell_type": "code",
   "execution_count": 19,
   "id": "26866e5a",
   "metadata": {
    "execution": {
     "iopub.execute_input": "2022-04-20T05:39:09.946669Z",
     "iopub.status.busy": "2022-04-20T05:39:09.946379Z",
     "iopub.status.idle": "2022-04-20T05:39:10.176453Z",
     "shell.execute_reply": "2022-04-20T05:39:10.175363Z"
    },
    "papermill": {
     "duration": 0.282119,
     "end_time": "2022-04-20T05:39:10.178656",
     "exception": false,
     "start_time": "2022-04-20T05:39:09.896537",
     "status": "completed"
    },
    "tags": []
   },
   "outputs": [
    {
     "data": {
      "image/png": "[encoded data removed]",
      "text/plain": [
       "<Figure size 576x576 with 1 Axes>"
      ]
     },
     "metadata": {
      "needs_background": "light"
     },
     "output_type": "display_data"
    }
   ],
   "source": [
    "plt.rcParams[\"figure.figsize\"] = (8, 8)\n",
    "sns.scatterplot(x='DER', y='Operating Profit Margin', hue=new_df.target.to_list(), data=new_df);"
   ]
  },
  {
   "cell_type": "code",
   "execution_count": 20,
   "id": "0f3c7c51",
   "metadata": {
    "execution": {
     "iopub.execute_input": "2022-04-20T05:39:10.278816Z",
     "iopub.status.busy": "2022-04-20T05:39:10.277741Z",
     "iopub.status.idle": "2022-04-20T05:39:10.292533Z",
     "shell.execute_reply": "2022-04-20T05:39:10.291878Z"
    },
    "papermill": {
     "duration": 0.06697,
     "end_time": "2022-04-20T05:39:10.294530",
     "exception": false,
     "start_time": "2022-04-20T05:39:10.227560",
     "status": "completed"
    },
    "tags": []
   },
   "outputs": [
    {
     "data": {
      "text/html": [
       "<div>\n",
       "<style scoped>\n",
       "    .dataframe tbody tr th:only-of-type {\n",
       "        vertical-align: middle;\n",
       "    }\n",
       "\n",
       "    .dataframe tbody tr th {\n",
       "        vertical-align: top;\n",
       "    }\n",
       "\n",
       "    .dataframe thead th {\n",
       "        text-align: right;\n",
       "    }\n",
       "</style>\n",
       "<table border=\"1\" class=\"dataframe\">\n",
       "  <thead>\n",
       "    <tr style=\"text-align: right;\">\n",
       "      <th></th>\n",
       "      <th>DER</th>\n",
       "      <th>Operating Profit Margin</th>\n",
       "      <th>Sales Growth</th>\n",
       "      <th>target</th>\n",
       "      <th>fit</th>\n",
       "    </tr>\n",
       "  </thead>\n",
       "  <tbody>\n",
       "    <tr>\n",
       "      <th>0</th>\n",
       "      <td>0.096134</td>\n",
       "      <td>-0.946609</td>\n",
       "      <td>-0.160547</td>\n",
       "      <td>NaN</td>\n",
       "      <td>0</td>\n",
       "    </tr>\n",
       "    <tr>\n",
       "      <th>1</th>\n",
       "      <td>0.522374</td>\n",
       "      <td>1.046330</td>\n",
       "      <td>1.289051</td>\n",
       "      <td>NaN</td>\n",
       "      <td>0</td>\n",
       "    </tr>\n",
       "    <tr>\n",
       "      <th>2</th>\n",
       "      <td>0.387449</td>\n",
       "      <td>0.390790</td>\n",
       "      <td>1.108545</td>\n",
       "      <td>NaN</td>\n",
       "      <td>0</td>\n",
       "    </tr>\n",
       "    <tr>\n",
       "      <th>3</th>\n",
       "      <td>0.047070</td>\n",
       "      <td>-0.914342</td>\n",
       "      <td>0.988261</td>\n",
       "      <td>NaN</td>\n",
       "      <td>0</td>\n",
       "    </tr>\n",
       "    <tr>\n",
       "      <th>4</th>\n",
       "      <td>-0.005060</td>\n",
       "      <td>-0.913650</td>\n",
       "      <td>-0.102504</td>\n",
       "      <td>NaN</td>\n",
       "      <td>0</td>\n",
       "    </tr>\n",
       "    <tr>\n",
       "      <th>5</th>\n",
       "      <td>0.117599</td>\n",
       "      <td>-0.946424</td>\n",
       "      <td>0.287241</td>\n",
       "      <td>NaN</td>\n",
       "      <td>0</td>\n",
       "    </tr>\n",
       "    <tr>\n",
       "      <th>6</th>\n",
       "      <td>0.323053</td>\n",
       "      <td>-0.959327</td>\n",
       "      <td>-0.539473</td>\n",
       "      <td>NaN</td>\n",
       "      <td>0</td>\n",
       "    </tr>\n",
       "    <tr>\n",
       "      <th>7</th>\n",
       "      <td>0.102267</td>\n",
       "      <td>0.523735</td>\n",
       "      <td>-0.723204</td>\n",
       "      <td>NaN</td>\n",
       "      <td>0</td>\n",
       "    </tr>\n",
       "    <tr>\n",
       "      <th>8</th>\n",
       "      <td>-4.252127</td>\n",
       "      <td>0.908010</td>\n",
       "      <td>1.142541</td>\n",
       "      <td>NaN</td>\n",
       "      <td>1</td>\n",
       "    </tr>\n",
       "    <tr>\n",
       "      <th>9</th>\n",
       "      <td>0.197328</td>\n",
       "      <td>-0.632036</td>\n",
       "      <td>-0.850293</td>\n",
       "      <td>NaN</td>\n",
       "      <td>0</td>\n",
       "    </tr>\n",
       "    <tr>\n",
       "      <th>10</th>\n",
       "      <td>0.160530</td>\n",
       "      <td>-0.589700</td>\n",
       "      <td>0.750211</td>\n",
       "      <td>NaN</td>\n",
       "      <td>0</td>\n",
       "    </tr>\n",
       "    <tr>\n",
       "      <th>11</th>\n",
       "      <td>0.185062</td>\n",
       "      <td>1.281839</td>\n",
       "      <td>-0.573848</td>\n",
       "      <td>NaN</td>\n",
       "      <td>0</td>\n",
       "    </tr>\n",
       "    <tr>\n",
       "      <th>12</th>\n",
       "      <td>0.010273</td>\n",
       "      <td>-0.910441</td>\n",
       "      <td>-0.573848</td>\n",
       "      <td>NaN</td>\n",
       "      <td>0</td>\n",
       "    </tr>\n",
       "    <tr>\n",
       "      <th>13</th>\n",
       "      <td>0.924082</td>\n",
       "      <td>-0.812854</td>\n",
       "      <td>0.313400</td>\n",
       "      <td>NaN</td>\n",
       "      <td>0</td>\n",
       "    </tr>\n",
       "    <tr>\n",
       "      <th>14</th>\n",
       "      <td>0.013339</td>\n",
       "      <td>-0.952703</td>\n",
       "      <td>0.398189</td>\n",
       "      <td>NaN</td>\n",
       "      <td>0</td>\n",
       "    </tr>\n",
       "    <tr>\n",
       "      <th>15</th>\n",
       "      <td>0.329186</td>\n",
       "      <td>1.650513</td>\n",
       "      <td>0.793254</td>\n",
       "      <td>NaN</td>\n",
       "      <td>0</td>\n",
       "    </tr>\n",
       "    <tr>\n",
       "      <th>16</th>\n",
       "      <td>0.280122</td>\n",
       "      <td>-0.945678</td>\n",
       "      <td>-1.906863</td>\n",
       "      <td>NaN</td>\n",
       "      <td>0</td>\n",
       "    </tr>\n",
       "    <tr>\n",
       "      <th>17</th>\n",
       "      <td>0.454911</td>\n",
       "      <td>1.476168</td>\n",
       "      <td>-1.706130</td>\n",
       "      <td>NaN</td>\n",
       "      <td>0</td>\n",
       "    </tr>\n",
       "    <tr>\n",
       "      <th>18</th>\n",
       "      <td>0.010273</td>\n",
       "      <td>0.838113</td>\n",
       "      <td>1.535497</td>\n",
       "      <td>NaN</td>\n",
       "      <td>0</td>\n",
       "    </tr>\n",
       "    <tr>\n",
       "      <th>19</th>\n",
       "      <td>0.096134</td>\n",
       "      <td>1.408265</td>\n",
       "      <td>-1.469479</td>\n",
       "      <td>NaN</td>\n",
       "      <td>0</td>\n",
       "    </tr>\n",
       "  </tbody>\n",
       "</table>\n",
       "</div>"
      ],
      "text/plain": [
       "         DER  Operating Profit Margin  Sales Growth  target  fit\n",
       "0   0.096134                -0.946609     -0.160547     NaN    0\n",
       "1   0.522374                 1.046330      1.289051     NaN    0\n",
       "2   0.387449                 0.390790      1.108545     NaN    0\n",
       "3   0.047070                -0.914342      0.988261     NaN    0\n",
       "4  -0.005060                -0.913650     -0.102504     NaN    0\n",
       "5   0.117599                -0.946424      0.287241     NaN    0\n",
       "6   0.323053                -0.959327     -0.539473     NaN    0\n",
       "7   0.102267                 0.523735     -0.723204     NaN    0\n",
       "8  -4.252127                 0.908010      1.142541     NaN    1\n",
       "9   0.197328                -0.632036     -0.850293     NaN    0\n",
       "10  0.160530                -0.589700      0.750211     NaN    0\n",
       "11  0.185062                 1.281839     -0.573848     NaN    0\n",
       "12  0.010273                -0.910441     -0.573848     NaN    0\n",
       "13  0.924082                -0.812854      0.313400     NaN    0\n",
       "14  0.013339                -0.952703      0.398189     NaN    0\n",
       "15  0.329186                 1.650513      0.793254     NaN    0\n",
       "16  0.280122                -0.945678     -1.906863     NaN    0\n",
       "17  0.454911                 1.476168     -1.706130     NaN    0\n",
       "18  0.010273                 0.838113      1.535497     NaN    0\n",
       "19  0.096134                 1.408265     -1.469479     NaN    0"
      ]
     },
     "execution_count": 20,
     "metadata": {},
     "output_type": "execute_result"
    }
   ],
   "source": [
    " new_df.head(20)"
   ]
  },
  {
   "cell_type": "code",
   "execution_count": 21,
   "id": "a6067982",
   "metadata": {
    "execution": {
     "iopub.execute_input": "2022-04-20T05:39:10.398525Z",
     "iopub.status.busy": "2022-04-20T05:39:10.397975Z",
     "iopub.status.idle": "2022-04-20T05:39:10.420859Z",
     "shell.execute_reply": "2022-04-20T05:39:10.419967Z"
    },
    "papermill": {
     "duration": 0.077517,
     "end_time": "2022-04-20T05:39:10.423055",
     "exception": false,
     "start_time": "2022-04-20T05:39:10.345538",
     "status": "completed"
    },
    "tags": []
   },
   "outputs": [
    {
     "data": {
      "text/html": [
       "<div>\n",
       "<style scoped>\n",
       "    .dataframe tbody tr th:only-of-type {\n",
       "        vertical-align: middle;\n",
       "    }\n",
       "\n",
       "    .dataframe tbody tr th {\n",
       "        vertical-align: top;\n",
       "    }\n",
       "\n",
       "    .dataframe thead th {\n",
       "        text-align: right;\n",
       "    }\n",
       "</style>\n",
       "<table border=\"1\" class=\"dataframe\">\n",
       "  <thead>\n",
       "    <tr style=\"text-align: right;\">\n",
       "      <th></th>\n",
       "      <th>Category</th>\n",
       "      <th>DER</th>\n",
       "      <th>Operating Profit Margin</th>\n",
       "      <th>Sales Growth</th>\n",
       "      <th>target</th>\n",
       "      <th>fit</th>\n",
       "    </tr>\n",
       "  </thead>\n",
       "  <tbody>\n",
       "    <tr>\n",
       "      <th>0</th>\n",
       "      <td>2</td>\n",
       "      <td>0.096134</td>\n",
       "      <td>-0.946609</td>\n",
       "      <td>-0.160547</td>\n",
       "      <td>NaN</td>\n",
       "      <td>0</td>\n",
       "    </tr>\n",
       "    <tr>\n",
       "      <th>1</th>\n",
       "      <td>2</td>\n",
       "      <td>0.522374</td>\n",
       "      <td>1.046330</td>\n",
       "      <td>1.289051</td>\n",
       "      <td>NaN</td>\n",
       "      <td>0</td>\n",
       "    </tr>\n",
       "    <tr>\n",
       "      <th>2</th>\n",
       "      <td>2</td>\n",
       "      <td>0.387449</td>\n",
       "      <td>0.390790</td>\n",
       "      <td>1.108545</td>\n",
       "      <td>NaN</td>\n",
       "      <td>0</td>\n",
       "    </tr>\n",
       "    <tr>\n",
       "      <th>3</th>\n",
       "      <td>2</td>\n",
       "      <td>0.047070</td>\n",
       "      <td>-0.914342</td>\n",
       "      <td>0.988261</td>\n",
       "      <td>NaN</td>\n",
       "      <td>0</td>\n",
       "    </tr>\n",
       "    <tr>\n",
       "      <th>4</th>\n",
       "      <td>2</td>\n",
       "      <td>-0.005060</td>\n",
       "      <td>-0.913650</td>\n",
       "      <td>-0.102504</td>\n",
       "      <td>NaN</td>\n",
       "      <td>0</td>\n",
       "    </tr>\n",
       "    <tr>\n",
       "      <th>5</th>\n",
       "      <td>2</td>\n",
       "      <td>0.117599</td>\n",
       "      <td>-0.946424</td>\n",
       "      <td>0.287241</td>\n",
       "      <td>NaN</td>\n",
       "      <td>0</td>\n",
       "    </tr>\n",
       "    <tr>\n",
       "      <th>6</th>\n",
       "      <td>2</td>\n",
       "      <td>0.323053</td>\n",
       "      <td>-0.959327</td>\n",
       "      <td>-0.539473</td>\n",
       "      <td>NaN</td>\n",
       "      <td>0</td>\n",
       "    </tr>\n",
       "    <tr>\n",
       "      <th>7</th>\n",
       "      <td>2</td>\n",
       "      <td>0.102267</td>\n",
       "      <td>0.523735</td>\n",
       "      <td>-0.723204</td>\n",
       "      <td>NaN</td>\n",
       "      <td>0</td>\n",
       "    </tr>\n",
       "    <tr>\n",
       "      <th>8</th>\n",
       "      <td>4</td>\n",
       "      <td>-4.252127</td>\n",
       "      <td>0.908010</td>\n",
       "      <td>1.142541</td>\n",
       "      <td>NaN</td>\n",
       "      <td>1</td>\n",
       "    </tr>\n",
       "    <tr>\n",
       "      <th>9</th>\n",
       "      <td>2</td>\n",
       "      <td>0.197328</td>\n",
       "      <td>-0.632036</td>\n",
       "      <td>-0.850293</td>\n",
       "      <td>NaN</td>\n",
       "      <td>0</td>\n",
       "    </tr>\n",
       "    <tr>\n",
       "      <th>10</th>\n",
       "      <td>2</td>\n",
       "      <td>0.160530</td>\n",
       "      <td>-0.589700</td>\n",
       "      <td>0.750211</td>\n",
       "      <td>NaN</td>\n",
       "      <td>0</td>\n",
       "    </tr>\n",
       "    <tr>\n",
       "      <th>11</th>\n",
       "      <td>2</td>\n",
       "      <td>0.185062</td>\n",
       "      <td>1.281839</td>\n",
       "      <td>-0.573848</td>\n",
       "      <td>NaN</td>\n",
       "      <td>0</td>\n",
       "    </tr>\n",
       "    <tr>\n",
       "      <th>12</th>\n",
       "      <td>2</td>\n",
       "      <td>0.010273</td>\n",
       "      <td>-0.910441</td>\n",
       "      <td>-0.573848</td>\n",
       "      <td>NaN</td>\n",
       "      <td>0</td>\n",
       "    </tr>\n",
       "    <tr>\n",
       "      <th>13</th>\n",
       "      <td>2</td>\n",
       "      <td>0.924082</td>\n",
       "      <td>-0.812854</td>\n",
       "      <td>0.313400</td>\n",
       "      <td>NaN</td>\n",
       "      <td>0</td>\n",
       "    </tr>\n",
       "    <tr>\n",
       "      <th>14</th>\n",
       "      <td>2</td>\n",
       "      <td>0.013339</td>\n",
       "      <td>-0.952703</td>\n",
       "      <td>0.398189</td>\n",
       "      <td>NaN</td>\n",
       "      <td>0</td>\n",
       "    </tr>\n",
       "    <tr>\n",
       "      <th>15</th>\n",
       "      <td>2</td>\n",
       "      <td>0.329186</td>\n",
       "      <td>1.650513</td>\n",
       "      <td>0.793254</td>\n",
       "      <td>NaN</td>\n",
       "      <td>0</td>\n",
       "    </tr>\n",
       "    <tr>\n",
       "      <th>16</th>\n",
       "      <td>2</td>\n",
       "      <td>0.280122</td>\n",
       "      <td>-0.945678</td>\n",
       "      <td>-1.906863</td>\n",
       "      <td>NaN</td>\n",
       "      <td>0</td>\n",
       "    </tr>\n",
       "    <tr>\n",
       "      <th>17</th>\n",
       "      <td>2</td>\n",
       "      <td>0.454911</td>\n",
       "      <td>1.476168</td>\n",
       "      <td>-1.706130</td>\n",
       "      <td>NaN</td>\n",
       "      <td>0</td>\n",
       "    </tr>\n",
       "    <tr>\n",
       "      <th>18</th>\n",
       "      <td>2</td>\n",
       "      <td>0.010273</td>\n",
       "      <td>0.838113</td>\n",
       "      <td>1.535497</td>\n",
       "      <td>NaN</td>\n",
       "      <td>0</td>\n",
       "    </tr>\n",
       "    <tr>\n",
       "      <th>19</th>\n",
       "      <td>2</td>\n",
       "      <td>0.096134</td>\n",
       "      <td>1.408265</td>\n",
       "      <td>-1.469479</td>\n",
       "      <td>NaN</td>\n",
       "      <td>0</td>\n",
       "    </tr>\n",
       "  </tbody>\n",
       "</table>\n",
       "</div>"
      ],
      "text/plain": [
       "    Category       DER  Operating Profit Margin  Sales Growth  target  fit\n",
       "0          2  0.096134                -0.946609     -0.160547     NaN    0\n",
       "1          2  0.522374                 1.046330      1.289051     NaN    0\n",
       "2          2  0.387449                 0.390790      1.108545     NaN    0\n",
       "3          2  0.047070                -0.914342      0.988261     NaN    0\n",
       "4          2 -0.005060                -0.913650     -0.102504     NaN    0\n",
       "5          2  0.117599                -0.946424      0.287241     NaN    0\n",
       "6          2  0.323053                -0.959327     -0.539473     NaN    0\n",
       "7          2  0.102267                 0.523735     -0.723204     NaN    0\n",
       "8          4 -4.252127                 0.908010      1.142541     NaN    1\n",
       "9          2  0.197328                -0.632036     -0.850293     NaN    0\n",
       "10         2  0.160530                -0.589700      0.750211     NaN    0\n",
       "11         2  0.185062                 1.281839     -0.573848     NaN    0\n",
       "12         2  0.010273                -0.910441     -0.573848     NaN    0\n",
       "13         2  0.924082                -0.812854      0.313400     NaN    0\n",
       "14         2  0.013339                -0.952703      0.398189     NaN    0\n",
       "15         2  0.329186                 1.650513      0.793254     NaN    0\n",
       "16         2  0.280122                -0.945678     -1.906863     NaN    0\n",
       "17         2  0.454911                 1.476168     -1.706130     NaN    0\n",
       "18         2  0.010273                 0.838113      1.535497     NaN    0\n",
       "19         2  0.096134                 1.408265     -1.469479     NaN    0"
      ]
     },
     "execution_count": 21,
     "metadata": {},
     "output_type": "execute_result"
    }
   ],
   "source": [
    "new_df.insert(0,\"Category\",np.nan,True)\n",
    "new_df.loc[new_df['fit'] == 0, 'Category'] = 2\n",
    "new_df.loc[new_df['fit'] == 1, 'Category'] = 4\n",
    "new_df.loc[new_df['fit'] == 2, 'Category'] = 1\n",
    "new_df.loc[new_df['fit'] == 3, 'Category'] = 0\n",
    "new_df.loc[new_df['fit'] == 4, 'Category'] = 3\n",
    "new_df['Category'] = new_df['Category'].astype(int)\n",
    "new_df.head(20)"
   ]
  },
  {
   "cell_type": "code",
   "execution_count": 22,
   "id": "2d0a8885",
   "metadata": {
    "execution": {
     "iopub.execute_input": "2022-04-20T05:39:10.526375Z",
     "iopub.status.busy": "2022-04-20T05:39:10.525199Z",
     "iopub.status.idle": "2022-04-20T05:39:10.541946Z",
     "shell.execute_reply": "2022-04-20T05:39:10.540790Z"
    },
    "papermill": {
     "duration": 0.071202,
     "end_time": "2022-04-20T05:39:10.544798",
     "exception": false,
     "start_time": "2022-04-20T05:39:10.473596",
     "status": "completed"
    },
    "tags": []
   },
   "outputs": [
    {
     "name": "stdout",
     "output_type": "stream",
     "text": [
      "<class 'pandas.core.frame.DataFrame'>\n",
      "RangeIndex: 20 entries, 0 to 19\n",
      "Data columns (total 4 columns):\n",
      " #   Column                         Non-Null Count  Dtype  \n",
      "---  ------                         --------------  -----  \n",
      " 0   Category                       20 non-null     int64  \n",
      " 1   DER (St.)                      20 non-null     float64\n",
      " 2   Operating Profit Margin (St.)  20 non-null     float64\n",
      " 3   Sales Growth (St.)             20 non-null     float64\n",
      "dtypes: float64(3), int64(1)\n",
      "memory usage: 768.0 bytes\n"
     ]
    }
   ],
   "source": [
    "new_df.drop([\"fit\",\"target\"], axis=1, inplace=True)\n",
    "new_df.columns = ['Category','DER (St.)','Operating Profit Margin (St.)', 'Sales Growth (St.)']\n",
    "new_df.info()"
   ]
  },
  {
   "cell_type": "code",
   "execution_count": 23,
   "id": "5e143575",
   "metadata": {
    "execution": {
     "iopub.execute_input": "2022-04-20T05:39:10.666985Z",
     "iopub.status.busy": "2022-04-20T05:39:10.666167Z",
     "iopub.status.idle": "2022-04-20T05:39:11.216375Z",
     "shell.execute_reply": "2022-04-20T05:39:11.215520Z"
    },
    "papermill": {
     "duration": 0.617778,
     "end_time": "2022-04-20T05:39:11.221077",
     "exception": false,
     "start_time": "2022-04-20T05:39:10.603299",
     "status": "completed"
    },
    "tags": []
   },
   "outputs": [
    {
     "data": {
      "image/png": "[encoded data removed]",
      "text/plain": [
       "<Figure size 576x576 with 1 Axes>"
      ]
     },
     "metadata": {
      "needs_background": "light"
     },
     "output_type": "display_data"
    }
   ],
   "source": [
    "from mpl_toolkits.mplot3d import Axes3D\n",
    "\n",
    "fig = plt.figure()\n",
    "ax = fig.add_subplot(111, projection = '3d')\n",
    "\n",
    "\n",
    "x = new_df['DER (St.)']\n",
    "y = new_df['Operating Profit Margin (St.)']\n",
    "z = new_df['Sales Growth (St.)']\n",
    "\n",
    "ax.set_xlabel(\"DER (St.)\")\n",
    "ax.set_ylabel(\"Operating Profit Margin (St.)\")\n",
    "ax.set_zlabel(\"Sales Growth (St.)\")\n",
    "\n",
    "cmap = ListedColormap(sns.color_palette(\"RdYlGn\", 256).as_hex())\n",
    "\n",
    "sc = ax.scatter(x, y, z, s=40, c=new_df['Category'], marker='o', cmap=cmap, alpha=1)\n",
    "plt.legend(*sc.legend_elements(), bbox_to_anchor=(1.05, 1), loc=2)\n",
    "\n",
    "plt.show()"
   ]
  },
  {
   "cell_type": "code",
   "execution_count": 24,
   "id": "a0e9f384",
   "metadata": {
    "execution": {
     "iopub.execute_input": "2022-04-20T05:39:11.335607Z",
     "iopub.status.busy": "2022-04-20T05:39:11.335247Z",
     "iopub.status.idle": "2022-04-20T05:39:11.609746Z",
     "shell.execute_reply": "2022-04-20T05:39:11.608801Z"
    },
    "papermill": {
     "duration": 0.333298,
     "end_time": "2022-04-20T05:39:11.612151",
     "exception": false,
     "start_time": "2022-04-20T05:39:11.278853",
     "status": "completed"
    },
    "tags": []
   },
   "outputs": [
    {
     "data": {
      "image/png": "[encoded data removed]",
      "text/plain": [
       "<Figure size 576x576 with 1 Axes>"
      ]
     },
     "metadata": {
      "needs_background": "light"
     },
     "output_type": "display_data"
    }
   ],
   "source": [
    "# color palette as dictionary\n",
    "palette = {0:\"tab:red\",\n",
    "           1:\"tab:orange\", \n",
    "           2:\"yellow\",\n",
    "           3:\"lime\",\n",
    "           4:\"darkgreen\"}\n",
    "\n",
    "sns.scatterplot(x='DER (St.)', y='Sales Growth (St.)', \n",
    "                hue='Category', data=new_df, s=80,\n",
    "                palette=palette)\n",
    "plt.title(\"DER vs Sales Growth (Standardisasi)\", fontsize=18, y=1.05)\n",
    "plt.show()"
   ]
  },
  {
   "cell_type": "code",
   "execution_count": 25,
   "id": "081afb82",
   "metadata": {
    "execution": {
     "iopub.execute_input": "2022-04-20T05:39:11.724941Z",
     "iopub.status.busy": "2022-04-20T05:39:11.724630Z",
     "iopub.status.idle": "2022-04-20T05:39:11.952866Z",
     "shell.execute_reply": "2022-04-20T05:39:11.951733Z"
    },
    "papermill": {
     "duration": 0.287946,
     "end_time": "2022-04-20T05:39:11.955087",
     "exception": false,
     "start_time": "2022-04-20T05:39:11.667141",
     "status": "completed"
    },
    "tags": []
   },
   "outputs": [
    {
     "data": {
      "image/png": "[encoded data removed]",
      "text/plain": [
       "<Figure size 576x576 with 1 Axes>"
      ]
     },
     "metadata": {
      "needs_background": "light"
     },
     "output_type": "display_data"
    }
   ],
   "source": [
    "sns.scatterplot(x='Operating Profit Margin (St.)', y='Sales Growth (St.)', \n",
    "                hue='Category', data=new_df, s=80,\n",
    "                palette=palette)\n",
    "plt.title(\"Operating Profit Margin vs Sales Growth (Standardisasi)\", fontsize=18, y=1.05)\n",
    "plt.show()"
   ]
  },
  {
   "cell_type": "code",
   "execution_count": 26,
   "id": "04f62e6c",
   "metadata": {
    "execution": {
     "iopub.execute_input": "2022-04-20T05:39:12.070644Z",
     "iopub.status.busy": "2022-04-20T05:39:12.070373Z",
     "iopub.status.idle": "2022-04-20T05:39:12.286219Z",
     "shell.execute_reply": "2022-04-20T05:39:12.285256Z"
    },
    "papermill": {
     "duration": 0.27599,
     "end_time": "2022-04-20T05:39:12.288651",
     "exception": false,
     "start_time": "2022-04-20T05:39:12.012661",
     "status": "completed"
    },
    "tags": []
   },
   "outputs": [
    {
     "data": {
      "image/png": "[encoded data removed]",
      "text/plain": [
       "<Figure size 576x576 with 1 Axes>"
      ]
     },
     "metadata": {
      "needs_background": "light"
     },
     "output_type": "display_data"
    }
   ],
   "source": [
    "sns.scatterplot(x='DER (St.)', y='Operating Profit Margin (St.)', \n",
    "                hue='Category', data=new_df, s=80,\n",
    "                palette=palette)\n",
    "plt.title(\"DER vs Operating Profit Margin (Standardisasi)\", fontsize=18, y=1.05)\n",
    "plt.show()"
   ]
  },
  {
   "cell_type": "code",
   "execution_count": 27,
   "id": "84d12cd0",
   "metadata": {
    "execution": {
     "iopub.execute_input": "2022-04-20T05:39:12.404075Z",
     "iopub.status.busy": "2022-04-20T05:39:12.403808Z",
     "iopub.status.idle": "2022-04-20T05:39:12.411215Z",
     "shell.execute_reply": "2022-04-20T05:39:12.410543Z"
    },
    "papermill": {
     "duration": 0.067464,
     "end_time": "2022-04-20T05:39:12.413070",
     "exception": false,
     "start_time": "2022-04-20T05:39:12.345606",
     "status": "completed"
    },
    "tags": []
   },
   "outputs": [],
   "source": [
    "# drop these row indexes\n",
    "# from dataFrame\n",
    "index_names = df0[ df0['Emitten'] == 'ARTO' ].index\n",
    "df0.drop(index_names, inplace = True)\n",
    "df0.reset_index(drop=True, inplace=True)\n",
    "df0.drop([\"Category\"\n",
    "         ], axis=1, inplace=True)"
   ]
  },
  {
   "cell_type": "code",
   "execution_count": 28,
   "id": "dbfa343c",
   "metadata": {
    "execution": {
     "iopub.execute_input": "2022-04-20T05:39:12.528993Z",
     "iopub.status.busy": "2022-04-20T05:39:12.528496Z",
     "iopub.status.idle": "2022-04-20T05:39:12.559383Z",
     "shell.execute_reply": "2022-04-20T05:39:12.558546Z"
    },
    "papermill": {
     "duration": 0.091201,
     "end_time": "2022-04-20T05:39:12.561517",
     "exception": false,
     "start_time": "2022-04-20T05:39:12.470316",
     "status": "completed"
    },
    "tags": []
   },
   "outputs": [
    {
     "data": {
      "text/html": [
       "<div>\n",
       "<style scoped>\n",
       "    .dataframe tbody tr th:only-of-type {\n",
       "        vertical-align: middle;\n",
       "    }\n",
       "\n",
       "    .dataframe tbody tr th {\n",
       "        vertical-align: top;\n",
       "    }\n",
       "\n",
       "    .dataframe thead th {\n",
       "        text-align: right;\n",
       "    }\n",
       "</style>\n",
       "<table border=\"1\" class=\"dataframe\">\n",
       "  <thead>\n",
       "    <tr style=\"text-align: right;\">\n",
       "      <th></th>\n",
       "      <th>Emitten;Company</th>\n",
       "      <th>Category</th>\n",
       "      <th>DER (St.)</th>\n",
       "      <th>Operating Profit Margin (St.)</th>\n",
       "      <th>Sales Growth (St.)</th>\n",
       "      <th>Emitten</th>\n",
       "      <th>DER</th>\n",
       "      <th>Operating Profit Margin</th>\n",
       "      <th>ROA</th>\n",
       "      <th>Sales Growth</th>\n",
       "    </tr>\n",
       "  </thead>\n",
       "  <tbody>\n",
       "    <tr>\n",
       "      <th>0</th>\n",
       "      <td>AMAN;Makmur Berkah Amanda Tbk</td>\n",
       "      <td>2</td>\n",
       "      <td>0.096134</td>\n",
       "      <td>-0.946609</td>\n",
       "      <td>-0.160547</td>\n",
       "      <td>AMAN</td>\n",
       "      <td>0.40</td>\n",
       "      <td>0.047536</td>\n",
       "      <td>0.01</td>\n",
       "      <td>-3.797435</td>\n",
       "    </tr>\n",
       "    <tr>\n",
       "      <th>1</th>\n",
       "      <td>APLN;Agung Podomoro Land Tbk</td>\n",
       "      <td>2</td>\n",
       "      <td>0.522374</td>\n",
       "      <td>1.046330</td>\n",
       "      <td>1.289051</td>\n",
       "      <td>APLN</td>\n",
       "      <td>1.79</td>\n",
       "      <td>11.536165</td>\n",
       "      <td>-0.02</td>\n",
       "      <td>8.184296</td>\n",
       "    </tr>\n",
       "    <tr>\n",
       "      <th>2</th>\n",
       "      <td>ASRI;Alam Sutera Realty Tbk</td>\n",
       "      <td>2</td>\n",
       "      <td>0.387449</td>\n",
       "      <td>0.390790</td>\n",
       "      <td>1.108545</td>\n",
       "      <td>ASRI</td>\n",
       "      <td>1.35</td>\n",
       "      <td>7.757196</td>\n",
       "      <td>-0.01</td>\n",
       "      <td>6.692310</td>\n",
       "    </tr>\n",
       "    <tr>\n",
       "      <th>3</th>\n",
       "      <td>ATAP;Trimitra Prawara Goldland Tbk</td>\n",
       "      <td>2</td>\n",
       "      <td>0.047070</td>\n",
       "      <td>-0.914342</td>\n",
       "      <td>0.988261</td>\n",
       "      <td>ATAP</td>\n",
       "      <td>0.24</td>\n",
       "      <td>0.233544</td>\n",
       "      <td>0.05</td>\n",
       "      <td>5.698101</td>\n",
       "    </tr>\n",
       "    <tr>\n",
       "      <th>4</th>\n",
       "      <td>BAPA;Bekasi Asri Pemula Tbk</td>\n",
       "      <td>2</td>\n",
       "      <td>-0.005060</td>\n",
       "      <td>-0.913650</td>\n",
       "      <td>-0.102504</td>\n",
       "      <td>BAPA</td>\n",
       "      <td>0.07</td>\n",
       "      <td>0.237532</td>\n",
       "      <td>-0.03</td>\n",
       "      <td>-3.317679</td>\n",
       "    </tr>\n",
       "    <tr>\n",
       "      <th>5</th>\n",
       "      <td>BAPI;Bhakti Agung Propertindo Tbk</td>\n",
       "      <td>2</td>\n",
       "      <td>0.117599</td>\n",
       "      <td>-0.946424</td>\n",
       "      <td>0.287241</td>\n",
       "      <td>BAPI</td>\n",
       "      <td>0.47</td>\n",
       "      <td>0.048601</td>\n",
       "      <td>-0.01</td>\n",
       "      <td>-0.096221</td>\n",
       "    </tr>\n",
       "    <tr>\n",
       "      <th>6</th>\n",
       "      <td>BCIP;Bumi Citra Permai Tbk</td>\n",
       "      <td>2</td>\n",
       "      <td>0.323053</td>\n",
       "      <td>-0.959327</td>\n",
       "      <td>-0.539473</td>\n",
       "      <td>BCIP</td>\n",
       "      <td>1.14</td>\n",
       "      <td>-0.025778</td>\n",
       "      <td>-0.01</td>\n",
       "      <td>-6.929469</td>\n",
       "    </tr>\n",
       "    <tr>\n",
       "      <th>7</th>\n",
       "      <td>BEST;Bekasi Fajar Industrial Estate Tbk</td>\n",
       "      <td>2</td>\n",
       "      <td>0.102267</td>\n",
       "      <td>0.523735</td>\n",
       "      <td>-0.723204</td>\n",
       "      <td>BEST</td>\n",
       "      <td>0.42</td>\n",
       "      <td>8.523578</td>\n",
       "      <td>-0.02</td>\n",
       "      <td>-8.448099</td>\n",
       "    </tr>\n",
       "    <tr>\n",
       "      <th>8</th>\n",
       "      <td>BIKA;Binakarya Jaya Abadi Tbk</td>\n",
       "      <td>4</td>\n",
       "      <td>-4.252127</td>\n",
       "      <td>0.908010</td>\n",
       "      <td>1.142541</td>\n",
       "      <td>BIKA</td>\n",
       "      <td>-13.78</td>\n",
       "      <td>10.738797</td>\n",
       "      <td>0.01</td>\n",
       "      <td>6.973307</td>\n",
       "    </tr>\n",
       "    <tr>\n",
       "      <th>9</th>\n",
       "      <td>BKDP;Bukit Darmo Property Tbk</td>\n",
       "      <td>2</td>\n",
       "      <td>0.197328</td>\n",
       "      <td>-0.632036</td>\n",
       "      <td>-0.850293</td>\n",
       "      <td>BKDP</td>\n",
       "      <td>0.73</td>\n",
       "      <td>1.860947</td>\n",
       "      <td>-0.05</td>\n",
       "      <td>-9.498563</td>\n",
       "    </tr>\n",
       "    <tr>\n",
       "      <th>10</th>\n",
       "      <td>BKSL;Sentul City Tbk</td>\n",
       "      <td>2</td>\n",
       "      <td>0.160530</td>\n",
       "      <td>-0.589700</td>\n",
       "      <td>0.750211</td>\n",
       "      <td>BKSL</td>\n",
       "      <td>0.61</td>\n",
       "      <td>2.104998</td>\n",
       "      <td>0.02</td>\n",
       "      <td>3.730487</td>\n",
       "    </tr>\n",
       "    <tr>\n",
       "      <th>11</th>\n",
       "      <td>BSDE;Bumi Serpong Damai Tbk</td>\n",
       "      <td>2</td>\n",
       "      <td>0.185062</td>\n",
       "      <td>1.281839</td>\n",
       "      <td>-0.573848</td>\n",
       "      <td>BSDE</td>\n",
       "      <td>0.69</td>\n",
       "      <td>12.893797</td>\n",
       "      <td>0.02</td>\n",
       "      <td>-7.213595</td>\n",
       "    </tr>\n",
       "    <tr>\n",
       "      <th>12</th>\n",
       "      <td>CITY;Natura City Developments Tbk</td>\n",
       "      <td>2</td>\n",
       "      <td>0.010273</td>\n",
       "      <td>-0.910441</td>\n",
       "      <td>-0.573848</td>\n",
       "      <td>CITY</td>\n",
       "      <td>0.12</td>\n",
       "      <td>0.256031</td>\n",
       "      <td>0.06</td>\n",
       "      <td>-7.213595</td>\n",
       "    </tr>\n",
       "    <tr>\n",
       "      <th>13</th>\n",
       "      <td>COWL;Cowell Development Tbk</td>\n",
       "      <td>2</td>\n",
       "      <td>0.924082</td>\n",
       "      <td>-0.812854</td>\n",
       "      <td>0.313400</td>\n",
       "      <td>COWL</td>\n",
       "      <td>3.10</td>\n",
       "      <td>0.818589</td>\n",
       "      <td>-0.01</td>\n",
       "      <td>0.120000</td>\n",
       "    </tr>\n",
       "    <tr>\n",
       "      <th>14</th>\n",
       "      <td>CPRI;Capri Nusa Satu Properti Tbk</td>\n",
       "      <td>2</td>\n",
       "      <td>0.013339</td>\n",
       "      <td>-0.952703</td>\n",
       "      <td>0.398189</td>\n",
       "      <td>CPRI</td>\n",
       "      <td>0.13</td>\n",
       "      <td>0.012406</td>\n",
       "      <td>-0.01</td>\n",
       "      <td>0.820829</td>\n",
       "    </tr>\n",
       "    <tr>\n",
       "      <th>15</th>\n",
       "      <td>CTRA;Ciputra Development Tbk</td>\n",
       "      <td>2</td>\n",
       "      <td>0.329186</td>\n",
       "      <td>1.650513</td>\n",
       "      <td>0.793254</td>\n",
       "      <td>CTRA</td>\n",
       "      <td>1.16</td>\n",
       "      <td>15.019076</td>\n",
       "      <td>0.05</td>\n",
       "      <td>4.086260</td>\n",
       "    </tr>\n",
       "    <tr>\n",
       "      <th>16</th>\n",
       "      <td>DADA;Diamond Citra Propertindo Tbk</td>\n",
       "      <td>2</td>\n",
       "      <td>0.280122</td>\n",
       "      <td>-0.945678</td>\n",
       "      <td>-1.906863</td>\n",
       "      <td>DADA</td>\n",
       "      <td>1.00</td>\n",
       "      <td>0.052904</td>\n",
       "      <td>0.03</td>\n",
       "      <td>-18.231694</td>\n",
       "    </tr>\n",
       "    <tr>\n",
       "      <th>17</th>\n",
       "      <td>DART;Duta Anggada Realty Tbk</td>\n",
       "      <td>2</td>\n",
       "      <td>0.454911</td>\n",
       "      <td>1.476168</td>\n",
       "      <td>-1.706130</td>\n",
       "      <td>DART</td>\n",
       "      <td>1.57</td>\n",
       "      <td>14.014038</td>\n",
       "      <td>-0.06</td>\n",
       "      <td>-16.572531</td>\n",
       "    </tr>\n",
       "    <tr>\n",
       "      <th>18</th>\n",
       "      <td>DMAS;Puradelta Lestari Tbk</td>\n",
       "      <td>2</td>\n",
       "      <td>0.010273</td>\n",
       "      <td>0.838113</td>\n",
       "      <td>1.535497</td>\n",
       "      <td>DMAS</td>\n",
       "      <td>0.12</td>\n",
       "      <td>10.335860</td>\n",
       "      <td>0.13</td>\n",
       "      <td>10.221301</td>\n",
       "    </tr>\n",
       "    <tr>\n",
       "      <th>19</th>\n",
       "      <td>DUTI;Duta Pertiwi Tbk</td>\n",
       "      <td>2</td>\n",
       "      <td>0.096134</td>\n",
       "      <td>1.408265</td>\n",
       "      <td>-1.469479</td>\n",
       "      <td>DUTI</td>\n",
       "      <td>0.40</td>\n",
       "      <td>13.622598</td>\n",
       "      <td>0.04</td>\n",
       "      <td>-14.616478</td>\n",
       "    </tr>\n",
       "  </tbody>\n",
       "</table>\n",
       "</div>"
      ],
      "text/plain": [
       "                            Emitten;Company  Category  DER (St.)  \\\n",
       "0             AMAN;Makmur Berkah Amanda Tbk         2   0.096134   \n",
       "1              APLN;Agung Podomoro Land Tbk         2   0.522374   \n",
       "2               ASRI;Alam Sutera Realty Tbk         2   0.387449   \n",
       "3        ATAP;Trimitra Prawara Goldland Tbk         2   0.047070   \n",
       "4               BAPA;Bekasi Asri Pemula Tbk         2  -0.005060   \n",
       "5         BAPI;Bhakti Agung Propertindo Tbk         2   0.117599   \n",
       "6                BCIP;Bumi Citra Permai Tbk         2   0.323053   \n",
       "7   BEST;Bekasi Fajar Industrial Estate Tbk         2   0.102267   \n",
       "8             BIKA;Binakarya Jaya Abadi Tbk         4  -4.252127   \n",
       "9             BKDP;Bukit Darmo Property Tbk         2   0.197328   \n",
       "10                     BKSL;Sentul City Tbk         2   0.160530   \n",
       "11              BSDE;Bumi Serpong Damai Tbk         2   0.185062   \n",
       "12        CITY;Natura City Developments Tbk         2   0.010273   \n",
       "13              COWL;Cowell Development Tbk         2   0.924082   \n",
       "14        CPRI;Capri Nusa Satu Properti Tbk         2   0.013339   \n",
       "15             CTRA;Ciputra Development Tbk         2   0.329186   \n",
       "16       DADA;Diamond Citra Propertindo Tbk         2   0.280122   \n",
       "17             DART;Duta Anggada Realty Tbk         2   0.454911   \n",
       "18               DMAS;Puradelta Lestari Tbk         2   0.010273   \n",
       "19                    DUTI;Duta Pertiwi Tbk         2   0.096134   \n",
       "\n",
       "    Operating Profit Margin (St.)  Sales Growth (St.) Emitten    DER  \\\n",
       "0                       -0.946609           -0.160547    AMAN   0.40   \n",
       "1                        1.046330            1.289051    APLN   1.79   \n",
       "2                        0.390790            1.108545    ASRI   1.35   \n",
       "3                       -0.914342            0.988261    ATAP   0.24   \n",
       "4                       -0.913650           -0.102504    BAPA   0.07   \n",
       "5                       -0.946424            0.287241    BAPI   0.47   \n",
       "6                       -0.959327           -0.539473    BCIP   1.14   \n",
       "7                        0.523735           -0.723204    BEST   0.42   \n",
       "8                        0.908010            1.142541    BIKA -13.78   \n",
       "9                       -0.632036           -0.850293    BKDP   0.73   \n",
       "10                      -0.589700            0.750211    BKSL   0.61   \n",
       "11                       1.281839           -0.573848    BSDE   0.69   \n",
       "12                      -0.910441           -0.573848    CITY   0.12   \n",
       "13                      -0.812854            0.313400    COWL   3.10   \n",
       "14                      -0.952703            0.398189    CPRI   0.13   \n",
       "15                       1.650513            0.793254    CTRA   1.16   \n",
       "16                      -0.945678           -1.906863    DADA   1.00   \n",
       "17                       1.476168           -1.706130    DART   1.57   \n",
       "18                       0.838113            1.535497    DMAS   0.12   \n",
       "19                       1.408265           -1.469479    DUTI   0.40   \n",
       "\n",
       "    Operating Profit Margin   ROA  Sales Growth  \n",
       "0                  0.047536  0.01     -3.797435  \n",
       "1                 11.536165 -0.02      8.184296  \n",
       "2                  7.757196 -0.01      6.692310  \n",
       "3                  0.233544  0.05      5.698101  \n",
       "4                  0.237532 -0.03     -3.317679  \n",
       "5                  0.048601 -0.01     -0.096221  \n",
       "6                 -0.025778 -0.01     -6.929469  \n",
       "7                  8.523578 -0.02     -8.448099  \n",
       "8                 10.738797  0.01      6.973307  \n",
       "9                  1.860947 -0.05     -9.498563  \n",
       "10                 2.104998  0.02      3.730487  \n",
       "11                12.893797  0.02     -7.213595  \n",
       "12                 0.256031  0.06     -7.213595  \n",
       "13                 0.818589 -0.01      0.120000  \n",
       "14                 0.012406 -0.01      0.820829  \n",
       "15                15.019076  0.05      4.086260  \n",
       "16                 0.052904  0.03    -18.231694  \n",
       "17                14.014038 -0.06    -16.572531  \n",
       "18                10.335860  0.13     10.221301  \n",
       "19                13.622598  0.04    -14.616478  "
      ]
     },
     "execution_count": 28,
     "metadata": {},
     "output_type": "execute_result"
    }
   ],
   "source": [
    "dftemp = pd.read_csv('../input/property-dataset/data Emitten Property Febyola.csv')\n",
    "df = pd.concat([dftemp, new_df, df0], axis=1)\n",
    "df.head(20)"
   ]
  },
  {
   "cell_type": "code",
   "execution_count": 29,
   "id": "68c890c9",
   "metadata": {
    "execution": {
     "iopub.execute_input": "2022-04-20T05:39:12.679599Z",
     "iopub.status.busy": "2022-04-20T05:39:12.679038Z",
     "iopub.status.idle": "2022-04-20T05:39:12.686501Z",
     "shell.execute_reply": "2022-04-20T05:39:12.685919Z"
    },
    "papermill": {
     "duration": 0.069173,
     "end_time": "2022-04-20T05:39:12.688456",
     "exception": false,
     "start_time": "2022-04-20T05:39:12.619283",
     "status": "completed"
    },
    "tags": []
   },
   "outputs": [],
   "source": [
    "df.to_csv('result.csv', index = False)"
   ]
  },
  {
   "cell_type": "code",
   "execution_count": 30,
   "id": "6f12338c",
   "metadata": {
    "execution": {
     "iopub.execute_input": "2022-04-20T05:39:12.807802Z",
     "iopub.status.busy": "2022-04-20T05:39:12.807476Z",
     "iopub.status.idle": "2022-04-20T05:39:12.813380Z",
     "shell.execute_reply": "2022-04-20T05:39:12.812783Z"
    },
    "papermill": {
     "duration": 0.067306,
     "end_time": "2022-04-20T05:39:12.815265",
     "exception": false,
     "start_time": "2022-04-20T05:39:12.747959",
     "status": "completed"
    },
    "tags": []
   },
   "outputs": [
    {
     "data": {
      "text/plain": [
       "array([[ 0.22379615, -0.04779002, -0.06013373],\n",
       "       [-4.25212693,  0.90801036,  1.14254095]])"
      ]
     },
     "execution_count": 30,
     "metadata": {},
     "output_type": "execute_result"
    }
   ],
   "source": [
    "kmeans.cluster_centers_"
   ]
  },
  {
   "cell_type": "code",
   "execution_count": 31,
   "id": "960d7c1f",
   "metadata": {
    "execution": {
     "iopub.execute_input": "2022-04-20T05:39:12.933957Z",
     "iopub.status.busy": "2022-04-20T05:39:12.933067Z",
     "iopub.status.idle": "2022-04-20T05:39:13.172184Z",
     "shell.execute_reply": "2022-04-20T05:39:13.171010Z"
    },
    "papermill": {
     "duration": 0.300857,
     "end_time": "2022-04-20T05:39:13.174601",
     "exception": false,
     "start_time": "2022-04-20T05:39:12.873744",
     "status": "completed"
    },
    "tags": []
   },
   "outputs": [
    {
     "data": {
      "image/png": "[encoded data removed]",
      "text/plain": [
       "<Figure size 576x576 with 1 Axes>"
      ]
     },
     "metadata": {
      "needs_background": "light"
     },
     "output_type": "display_data"
    }
   ],
   "source": [
    "from mpl_toolkits.mplot3d import Axes3D\n",
    "\n",
    "fig = plt.figure()\n",
    "ax = fig.add_subplot(111, projection = '3d')\n",
    "x = [0.07796577,3.3825386,-0.19978728,-0.22183117,-0.32525515]\n",
    "y = [1.27721216,-0.22442569,-1.39490532,0.15549501,-0.03911061]\n",
    "z = [-0.22773712,0.35006475,-0.89274149,4.44060221,0.14030381]\n",
    "\n",
    "ax.set_xlabel(\"DER (St.)\")\n",
    "ax.set_ylabel(\"Operating Profit Margin (St.)\")\n",
    "ax.set_zlabel(\"Sales Growth (St.)\")\n",
    "ax.scatter(x, y, z)\n",
    "plt.show()"
   ]
  },
  {
   "cell_type": "code",
   "execution_count": 32,
   "id": "86554e99",
   "metadata": {
    "execution": {
     "iopub.execute_input": "2022-04-20T05:39:13.303168Z",
     "iopub.status.busy": "2022-04-20T05:39:13.302887Z",
     "iopub.status.idle": "2022-04-20T05:39:13.339180Z",
     "shell.execute_reply": "2022-04-20T05:39:13.338289Z"
    },
    "papermill": {
     "duration": 0.101665,
     "end_time": "2022-04-20T05:39:13.341917",
     "exception": false,
     "start_time": "2022-04-20T05:39:13.240252",
     "status": "completed"
    },
    "tags": []
   },
   "outputs": [
    {
     "data": {
      "text/html": [
       "<div>\n",
       "<style scoped>\n",
       "    .dataframe tbody tr th:only-of-type {\n",
       "        vertical-align: middle;\n",
       "    }\n",
       "\n",
       "    .dataframe tbody tr th {\n",
       "        vertical-align: top;\n",
       "    }\n",
       "\n",
       "    .dataframe thead th {\n",
       "        text-align: right;\n",
       "    }\n",
       "</style>\n",
       "<table border=\"1\" class=\"dataframe\">\n",
       "  <thead>\n",
       "    <tr style=\"text-align: right;\">\n",
       "      <th></th>\n",
       "      <th>Category</th>\n",
       "      <th>DER (St.)</th>\n",
       "      <th>Operating Profit Margin (St.)</th>\n",
       "      <th>Sales Growth (St.)</th>\n",
       "      <th>DER</th>\n",
       "      <th>Operating Profit Margin</th>\n",
       "      <th>ROA</th>\n",
       "      <th>Sales Growth</th>\n",
       "    </tr>\n",
       "  </thead>\n",
       "  <tbody>\n",
       "    <tr>\n",
       "      <th>count</th>\n",
       "      <td>1.0</td>\n",
       "      <td>1.000000</td>\n",
       "      <td>1.00000</td>\n",
       "      <td>1.000000</td>\n",
       "      <td>1.00</td>\n",
       "      <td>1.000000</td>\n",
       "      <td>1.00</td>\n",
       "      <td>1.000000</td>\n",
       "    </tr>\n",
       "    <tr>\n",
       "      <th>mean</th>\n",
       "      <td>4.0</td>\n",
       "      <td>-4.252127</td>\n",
       "      <td>0.90801</td>\n",
       "      <td>1.142541</td>\n",
       "      <td>-13.78</td>\n",
       "      <td>10.738797</td>\n",
       "      <td>0.01</td>\n",
       "      <td>6.973307</td>\n",
       "    </tr>\n",
       "    <tr>\n",
       "      <th>std</th>\n",
       "      <td>NaN</td>\n",
       "      <td>NaN</td>\n",
       "      <td>NaN</td>\n",
       "      <td>NaN</td>\n",
       "      <td>NaN</td>\n",
       "      <td>NaN</td>\n",
       "      <td>NaN</td>\n",
       "      <td>NaN</td>\n",
       "    </tr>\n",
       "    <tr>\n",
       "      <th>min</th>\n",
       "      <td>4.0</td>\n",
       "      <td>-4.252127</td>\n",
       "      <td>0.90801</td>\n",
       "      <td>1.142541</td>\n",
       "      <td>-13.78</td>\n",
       "      <td>10.738797</td>\n",
       "      <td>0.01</td>\n",
       "      <td>6.973307</td>\n",
       "    </tr>\n",
       "    <tr>\n",
       "      <th>25%</th>\n",
       "      <td>4.0</td>\n",
       "      <td>-4.252127</td>\n",
       "      <td>0.90801</td>\n",
       "      <td>1.142541</td>\n",
       "      <td>-13.78</td>\n",
       "      <td>10.738797</td>\n",
       "      <td>0.01</td>\n",
       "      <td>6.973307</td>\n",
       "    </tr>\n",
       "    <tr>\n",
       "      <th>50%</th>\n",
       "      <td>4.0</td>\n",
       "      <td>-4.252127</td>\n",
       "      <td>0.90801</td>\n",
       "      <td>1.142541</td>\n",
       "      <td>-13.78</td>\n",
       "      <td>10.738797</td>\n",
       "      <td>0.01</td>\n",
       "      <td>6.973307</td>\n",
       "    </tr>\n",
       "    <tr>\n",
       "      <th>75%</th>\n",
       "      <td>4.0</td>\n",
       "      <td>-4.252127</td>\n",
       "      <td>0.90801</td>\n",
       "      <td>1.142541</td>\n",
       "      <td>-13.78</td>\n",
       "      <td>10.738797</td>\n",
       "      <td>0.01</td>\n",
       "      <td>6.973307</td>\n",
       "    </tr>\n",
       "    <tr>\n",
       "      <th>max</th>\n",
       "      <td>4.0</td>\n",
       "      <td>-4.252127</td>\n",
       "      <td>0.90801</td>\n",
       "      <td>1.142541</td>\n",
       "      <td>-13.78</td>\n",
       "      <td>10.738797</td>\n",
       "      <td>0.01</td>\n",
       "      <td>6.973307</td>\n",
       "    </tr>\n",
       "  </tbody>\n",
       "</table>\n",
       "</div>"
      ],
      "text/plain": [
       "       Category  DER (St.)  Operating Profit Margin (St.)  Sales Growth (St.)  \\\n",
       "count       1.0   1.000000                        1.00000            1.000000   \n",
       "mean        4.0  -4.252127                        0.90801            1.142541   \n",
       "std         NaN        NaN                            NaN                 NaN   \n",
       "min         4.0  -4.252127                        0.90801            1.142541   \n",
       "25%         4.0  -4.252127                        0.90801            1.142541   \n",
       "50%         4.0  -4.252127                        0.90801            1.142541   \n",
       "75%         4.0  -4.252127                        0.90801            1.142541   \n",
       "max         4.0  -4.252127                        0.90801            1.142541   \n",
       "\n",
       "         DER  Operating Profit Margin   ROA  Sales Growth  \n",
       "count   1.00                 1.000000  1.00      1.000000  \n",
       "mean  -13.78                10.738797  0.01      6.973307  \n",
       "std      NaN                      NaN   NaN           NaN  \n",
       "min   -13.78                10.738797  0.01      6.973307  \n",
       "25%   -13.78                10.738797  0.01      6.973307  \n",
       "50%   -13.78                10.738797  0.01      6.973307  \n",
       "75%   -13.78                10.738797  0.01      6.973307  \n",
       "max   -13.78                10.738797  0.01      6.973307  "
      ]
     },
     "execution_count": 32,
     "metadata": {},
     "output_type": "execute_result"
    }
   ],
   "source": [
    "df[df['Category'] == 4].describe() "
   ]
  },
  {
   "cell_type": "code",
   "execution_count": 33,
   "id": "51655287",
   "metadata": {
    "execution": {
     "iopub.execute_input": "2022-04-20T05:39:13.467445Z",
     "iopub.status.busy": "2022-04-20T05:39:13.466694Z",
     "iopub.status.idle": "2022-04-20T05:39:13.500042Z",
     "shell.execute_reply": "2022-04-20T05:39:13.499079Z"
    },
    "papermill": {
     "duration": 0.098055,
     "end_time": "2022-04-20T05:39:13.502102",
     "exception": false,
     "start_time": "2022-04-20T05:39:13.404047",
     "status": "completed"
    },
    "tags": []
   },
   "outputs": [
    {
     "data": {
      "text/html": [
       "<div>\n",
       "<style scoped>\n",
       "    .dataframe tbody tr th:only-of-type {\n",
       "        vertical-align: middle;\n",
       "    }\n",
       "\n",
       "    .dataframe tbody tr th {\n",
       "        vertical-align: top;\n",
       "    }\n",
       "\n",
       "    .dataframe thead th {\n",
       "        text-align: right;\n",
       "    }\n",
       "</style>\n",
       "<table border=\"1\" class=\"dataframe\">\n",
       "  <thead>\n",
       "    <tr style=\"text-align: right;\">\n",
       "      <th></th>\n",
       "      <th>Category</th>\n",
       "      <th>DER (St.)</th>\n",
       "      <th>Operating Profit Margin (St.)</th>\n",
       "      <th>Sales Growth (St.)</th>\n",
       "      <th>DER</th>\n",
       "      <th>Operating Profit Margin</th>\n",
       "      <th>ROA</th>\n",
       "      <th>Sales Growth</th>\n",
       "    </tr>\n",
       "  </thead>\n",
       "  <tbody>\n",
       "    <tr>\n",
       "      <th>count</th>\n",
       "      <td>0.0</td>\n",
       "      <td>0.0</td>\n",
       "      <td>0.0</td>\n",
       "      <td>0.0</td>\n",
       "      <td>0.0</td>\n",
       "      <td>0.0</td>\n",
       "      <td>0.0</td>\n",
       "      <td>0.0</td>\n",
       "    </tr>\n",
       "    <tr>\n",
       "      <th>mean</th>\n",
       "      <td>NaN</td>\n",
       "      <td>NaN</td>\n",
       "      <td>NaN</td>\n",
       "      <td>NaN</td>\n",
       "      <td>NaN</td>\n",
       "      <td>NaN</td>\n",
       "      <td>NaN</td>\n",
       "      <td>NaN</td>\n",
       "    </tr>\n",
       "    <tr>\n",
       "      <th>std</th>\n",
       "      <td>NaN</td>\n",
       "      <td>NaN</td>\n",
       "      <td>NaN</td>\n",
       "      <td>NaN</td>\n",
       "      <td>NaN</td>\n",
       "      <td>NaN</td>\n",
       "      <td>NaN</td>\n",
       "      <td>NaN</td>\n",
       "    </tr>\n",
       "    <tr>\n",
       "      <th>min</th>\n",
       "      <td>NaN</td>\n",
       "      <td>NaN</td>\n",
       "      <td>NaN</td>\n",
       "      <td>NaN</td>\n",
       "      <td>NaN</td>\n",
       "      <td>NaN</td>\n",
       "      <td>NaN</td>\n",
       "      <td>NaN</td>\n",
       "    </tr>\n",
       "    <tr>\n",
       "      <th>25%</th>\n",
       "      <td>NaN</td>\n",
       "      <td>NaN</td>\n",
       "      <td>NaN</td>\n",
       "      <td>NaN</td>\n",
       "      <td>NaN</td>\n",
       "      <td>NaN</td>\n",
       "      <td>NaN</td>\n",
       "      <td>NaN</td>\n",
       "    </tr>\n",
       "    <tr>\n",
       "      <th>50%</th>\n",
       "      <td>NaN</td>\n",
       "      <td>NaN</td>\n",
       "      <td>NaN</td>\n",
       "      <td>NaN</td>\n",
       "      <td>NaN</td>\n",
       "      <td>NaN</td>\n",
       "      <td>NaN</td>\n",
       "      <td>NaN</td>\n",
       "    </tr>\n",
       "    <tr>\n",
       "      <th>75%</th>\n",
       "      <td>NaN</td>\n",
       "      <td>NaN</td>\n",
       "      <td>NaN</td>\n",
       "      <td>NaN</td>\n",
       "      <td>NaN</td>\n",
       "      <td>NaN</td>\n",
       "      <td>NaN</td>\n",
       "      <td>NaN</td>\n",
       "    </tr>\n",
       "    <tr>\n",
       "      <th>max</th>\n",
       "      <td>NaN</td>\n",
       "      <td>NaN</td>\n",
       "      <td>NaN</td>\n",
       "      <td>NaN</td>\n",
       "      <td>NaN</td>\n",
       "      <td>NaN</td>\n",
       "      <td>NaN</td>\n",
       "      <td>NaN</td>\n",
       "    </tr>\n",
       "  </tbody>\n",
       "</table>\n",
       "</div>"
      ],
      "text/plain": [
       "       Category  DER (St.)  Operating Profit Margin (St.)  Sales Growth (St.)  \\\n",
       "count       0.0        0.0                            0.0                 0.0   \n",
       "mean        NaN        NaN                            NaN                 NaN   \n",
       "std         NaN        NaN                            NaN                 NaN   \n",
       "min         NaN        NaN                            NaN                 NaN   \n",
       "25%         NaN        NaN                            NaN                 NaN   \n",
       "50%         NaN        NaN                            NaN                 NaN   \n",
       "75%         NaN        NaN                            NaN                 NaN   \n",
       "max         NaN        NaN                            NaN                 NaN   \n",
       "\n",
       "       DER  Operating Profit Margin  ROA  Sales Growth  \n",
       "count  0.0                      0.0  0.0           0.0  \n",
       "mean   NaN                      NaN  NaN           NaN  \n",
       "std    NaN                      NaN  NaN           NaN  \n",
       "min    NaN                      NaN  NaN           NaN  \n",
       "25%    NaN                      NaN  NaN           NaN  \n",
       "50%    NaN                      NaN  NaN           NaN  \n",
       "75%    NaN                      NaN  NaN           NaN  \n",
       "max    NaN                      NaN  NaN           NaN  "
      ]
     },
     "execution_count": 33,
     "metadata": {},
     "output_type": "execute_result"
    }
   ],
   "source": [
    "#Highly Positively Impacted\n",
    "df[df['Category'] == 3].describe() "
   ]
  },
  {
   "cell_type": "code",
   "execution_count": 34,
   "id": "cc15e9fa",
   "metadata": {
    "execution": {
     "iopub.execute_input": "2022-04-20T05:39:13.629782Z",
     "iopub.status.busy": "2022-04-20T05:39:13.629462Z",
     "iopub.status.idle": "2022-04-20T05:39:13.667599Z",
     "shell.execute_reply": "2022-04-20T05:39:13.666782Z"
    },
    "papermill": {
     "duration": 0.104563,
     "end_time": "2022-04-20T05:39:13.669700",
     "exception": false,
     "start_time": "2022-04-20T05:39:13.565137",
     "status": "completed"
    },
    "tags": []
   },
   "outputs": [
    {
     "data": {
      "text/html": [
       "<div>\n",
       "<style scoped>\n",
       "    .dataframe tbody tr th:only-of-type {\n",
       "        vertical-align: middle;\n",
       "    }\n",
       "\n",
       "    .dataframe tbody tr th {\n",
       "        vertical-align: top;\n",
       "    }\n",
       "\n",
       "    .dataframe thead th {\n",
       "        text-align: right;\n",
       "    }\n",
       "</style>\n",
       "<table border=\"1\" class=\"dataframe\">\n",
       "  <thead>\n",
       "    <tr style=\"text-align: right;\">\n",
       "      <th></th>\n",
       "      <th>Category</th>\n",
       "      <th>DER (St.)</th>\n",
       "      <th>Operating Profit Margin (St.)</th>\n",
       "      <th>Sales Growth (St.)</th>\n",
       "      <th>DER</th>\n",
       "      <th>Operating Profit Margin</th>\n",
       "      <th>ROA</th>\n",
       "      <th>Sales Growth</th>\n",
       "    </tr>\n",
       "  </thead>\n",
       "  <tbody>\n",
       "    <tr>\n",
       "      <th>count</th>\n",
       "      <td>19.0</td>\n",
       "      <td>19.000000</td>\n",
       "      <td>19.000000</td>\n",
       "      <td>19.000000</td>\n",
       "      <td>19.000000</td>\n",
       "      <td>19.000000</td>\n",
       "      <td>19.000000</td>\n",
       "      <td>19.000000</td>\n",
       "    </tr>\n",
       "    <tr>\n",
       "      <th>mean</th>\n",
       "      <td>2.0</td>\n",
       "      <td>0.223796</td>\n",
       "      <td>-0.047790</td>\n",
       "      <td>-0.060134</td>\n",
       "      <td>0.816316</td>\n",
       "      <td>5.228927</td>\n",
       "      <td>0.009474</td>\n",
       "      <td>-2.967462</td>\n",
       "    </tr>\n",
       "    <tr>\n",
       "      <th>std</th>\n",
       "      <td>0.0</td>\n",
       "      <td>0.231877</td>\n",
       "      <td>1.030968</td>\n",
       "      <td>1.017237</td>\n",
       "      <td>0.756169</td>\n",
       "      <td>5.943188</td>\n",
       "      <td>0.044406</td>\n",
       "      <td>8.408027</td>\n",
       "    </tr>\n",
       "    <tr>\n",
       "      <th>min</th>\n",
       "      <td>2.0</td>\n",
       "      <td>-0.005060</td>\n",
       "      <td>-0.959327</td>\n",
       "      <td>-1.906863</td>\n",
       "      <td>0.070000</td>\n",
       "      <td>-0.025778</td>\n",
       "      <td>-0.060000</td>\n",
       "      <td>-18.231694</td>\n",
       "    </tr>\n",
       "    <tr>\n",
       "      <th>25%</th>\n",
       "      <td>2.0</td>\n",
       "      <td>0.071602</td>\n",
       "      <td>-0.930010</td>\n",
       "      <td>-0.648526</td>\n",
       "      <td>0.320000</td>\n",
       "      <td>0.143224</td>\n",
       "      <td>-0.015000</td>\n",
       "      <td>-7.830847</td>\n",
       "    </tr>\n",
       "    <tr>\n",
       "      <th>50%</th>\n",
       "      <td>2.0</td>\n",
       "      <td>0.160530</td>\n",
       "      <td>-0.632036</td>\n",
       "      <td>-0.102504</td>\n",
       "      <td>0.610000</td>\n",
       "      <td>1.860947</td>\n",
       "      <td>-0.010000</td>\n",
       "      <td>-3.317679</td>\n",
       "    </tr>\n",
       "    <tr>\n",
       "      <th>75%</th>\n",
       "      <td>2.0</td>\n",
       "      <td>0.326120</td>\n",
       "      <td>0.942221</td>\n",
       "      <td>0.771733</td>\n",
       "      <td>1.150000</td>\n",
       "      <td>10.936013</td>\n",
       "      <td>0.035000</td>\n",
       "      <td>3.908374</td>\n",
       "    </tr>\n",
       "    <tr>\n",
       "      <th>max</th>\n",
       "      <td>2.0</td>\n",
       "      <td>0.924082</td>\n",
       "      <td>1.650513</td>\n",
       "      <td>1.535497</td>\n",
       "      <td>3.100000</td>\n",
       "      <td>15.019076</td>\n",
       "      <td>0.130000</td>\n",
       "      <td>10.221301</td>\n",
       "    </tr>\n",
       "  </tbody>\n",
       "</table>\n",
       "</div>"
      ],
      "text/plain": [
       "       Category  DER (St.)  Operating Profit Margin (St.)  Sales Growth (St.)  \\\n",
       "count      19.0  19.000000                      19.000000           19.000000   \n",
       "mean        2.0   0.223796                      -0.047790           -0.060134   \n",
       "std         0.0   0.231877                       1.030968            1.017237   \n",
       "min         2.0  -0.005060                      -0.959327           -1.906863   \n",
       "25%         2.0   0.071602                      -0.930010           -0.648526   \n",
       "50%         2.0   0.160530                      -0.632036           -0.102504   \n",
       "75%         2.0   0.326120                       0.942221            0.771733   \n",
       "max         2.0   0.924082                       1.650513            1.535497   \n",
       "\n",
       "             DER  Operating Profit Margin        ROA  Sales Growth  \n",
       "count  19.000000                19.000000  19.000000     19.000000  \n",
       "mean    0.816316                 5.228927   0.009474     -2.967462  \n",
       "std     0.756169                 5.943188   0.044406      8.408027  \n",
       "min     0.070000                -0.025778  -0.060000    -18.231694  \n",
       "25%     0.320000                 0.143224  -0.015000     -7.830847  \n",
       "50%     0.610000                 1.860947  -0.010000     -3.317679  \n",
       "75%     1.150000                10.936013   0.035000      3.908374  \n",
       "max     3.100000                15.019076   0.130000     10.221301  "
      ]
     },
     "execution_count": 34,
     "metadata": {},
     "output_type": "execute_result"
    }
   ],
   "source": [
    "#Highly Positively Impacted\n",
    "df[df['Category'] == 2].describe() "
   ]
  },
  {
   "cell_type": "code",
   "execution_count": 35,
   "id": "2b4c45ab",
   "metadata": {
    "execution": {
     "iopub.execute_input": "2022-04-20T05:39:13.797696Z",
     "iopub.status.busy": "2022-04-20T05:39:13.797426Z",
     "iopub.status.idle": "2022-04-20T05:39:13.832944Z",
     "shell.execute_reply": "2022-04-20T05:39:13.832048Z"
    },
    "papermill": {
     "duration": 0.101535,
     "end_time": "2022-04-20T05:39:13.835046",
     "exception": false,
     "start_time": "2022-04-20T05:39:13.733511",
     "status": "completed"
    },
    "tags": []
   },
   "outputs": [
    {
     "data": {
      "text/html": [
       "<div>\n",
       "<style scoped>\n",
       "    .dataframe tbody tr th:only-of-type {\n",
       "        vertical-align: middle;\n",
       "    }\n",
       "\n",
       "    .dataframe tbody tr th {\n",
       "        vertical-align: top;\n",
       "    }\n",
       "\n",
       "    .dataframe thead th {\n",
       "        text-align: right;\n",
       "    }\n",
       "</style>\n",
       "<table border=\"1\" class=\"dataframe\">\n",
       "  <thead>\n",
       "    <tr style=\"text-align: right;\">\n",
       "      <th></th>\n",
       "      <th>Category</th>\n",
       "      <th>DER (St.)</th>\n",
       "      <th>Operating Profit Margin (St.)</th>\n",
       "      <th>Sales Growth (St.)</th>\n",
       "      <th>DER</th>\n",
       "      <th>Operating Profit Margin</th>\n",
       "      <th>ROA</th>\n",
       "      <th>Sales Growth</th>\n",
       "    </tr>\n",
       "  </thead>\n",
       "  <tbody>\n",
       "    <tr>\n",
       "      <th>count</th>\n",
       "      <td>0.0</td>\n",
       "      <td>0.0</td>\n",
       "      <td>0.0</td>\n",
       "      <td>0.0</td>\n",
       "      <td>0.0</td>\n",
       "      <td>0.0</td>\n",
       "      <td>0.0</td>\n",
       "      <td>0.0</td>\n",
       "    </tr>\n",
       "    <tr>\n",
       "      <th>mean</th>\n",
       "      <td>NaN</td>\n",
       "      <td>NaN</td>\n",
       "      <td>NaN</td>\n",
       "      <td>NaN</td>\n",
       "      <td>NaN</td>\n",
       "      <td>NaN</td>\n",
       "      <td>NaN</td>\n",
       "      <td>NaN</td>\n",
       "    </tr>\n",
       "    <tr>\n",
       "      <th>std</th>\n",
       "      <td>NaN</td>\n",
       "      <td>NaN</td>\n",
       "      <td>NaN</td>\n",
       "      <td>NaN</td>\n",
       "      <td>NaN</td>\n",
       "      <td>NaN</td>\n",
       "      <td>NaN</td>\n",
       "      <td>NaN</td>\n",
       "    </tr>\n",
       "    <tr>\n",
       "      <th>min</th>\n",
       "      <td>NaN</td>\n",
       "      <td>NaN</td>\n",
       "      <td>NaN</td>\n",
       "      <td>NaN</td>\n",
       "      <td>NaN</td>\n",
       "      <td>NaN</td>\n",
       "      <td>NaN</td>\n",
       "      <td>NaN</td>\n",
       "    </tr>\n",
       "    <tr>\n",
       "      <th>25%</th>\n",
       "      <td>NaN</td>\n",
       "      <td>NaN</td>\n",
       "      <td>NaN</td>\n",
       "      <td>NaN</td>\n",
       "      <td>NaN</td>\n",
       "      <td>NaN</td>\n",
       "      <td>NaN</td>\n",
       "      <td>NaN</td>\n",
       "    </tr>\n",
       "    <tr>\n",
       "      <th>50%</th>\n",
       "      <td>NaN</td>\n",
       "      <td>NaN</td>\n",
       "      <td>NaN</td>\n",
       "      <td>NaN</td>\n",
       "      <td>NaN</td>\n",
       "      <td>NaN</td>\n",
       "      <td>NaN</td>\n",
       "      <td>NaN</td>\n",
       "    </tr>\n",
       "    <tr>\n",
       "      <th>75%</th>\n",
       "      <td>NaN</td>\n",
       "      <td>NaN</td>\n",
       "      <td>NaN</td>\n",
       "      <td>NaN</td>\n",
       "      <td>NaN</td>\n",
       "      <td>NaN</td>\n",
       "      <td>NaN</td>\n",
       "      <td>NaN</td>\n",
       "    </tr>\n",
       "    <tr>\n",
       "      <th>max</th>\n",
       "      <td>NaN</td>\n",
       "      <td>NaN</td>\n",
       "      <td>NaN</td>\n",
       "      <td>NaN</td>\n",
       "      <td>NaN</td>\n",
       "      <td>NaN</td>\n",
       "      <td>NaN</td>\n",
       "      <td>NaN</td>\n",
       "    </tr>\n",
       "  </tbody>\n",
       "</table>\n",
       "</div>"
      ],
      "text/plain": [
       "       Category  DER (St.)  Operating Profit Margin (St.)  Sales Growth (St.)  \\\n",
       "count       0.0        0.0                            0.0                 0.0   \n",
       "mean        NaN        NaN                            NaN                 NaN   \n",
       "std         NaN        NaN                            NaN                 NaN   \n",
       "min         NaN        NaN                            NaN                 NaN   \n",
       "25%         NaN        NaN                            NaN                 NaN   \n",
       "50%         NaN        NaN                            NaN                 NaN   \n",
       "75%         NaN        NaN                            NaN                 NaN   \n",
       "max         NaN        NaN                            NaN                 NaN   \n",
       "\n",
       "       DER  Operating Profit Margin  ROA  Sales Growth  \n",
       "count  0.0                      0.0  0.0           0.0  \n",
       "mean   NaN                      NaN  NaN           NaN  \n",
       "std    NaN                      NaN  NaN           NaN  \n",
       "min    NaN                      NaN  NaN           NaN  \n",
       "25%    NaN                      NaN  NaN           NaN  \n",
       "50%    NaN                      NaN  NaN           NaN  \n",
       "75%    NaN                      NaN  NaN           NaN  \n",
       "max    NaN                      NaN  NaN           NaN  "
      ]
     },
     "execution_count": 35,
     "metadata": {},
     "output_type": "execute_result"
    }
   ],
   "source": [
    "#Highly Positively Impacted\n",
    "df[df['Category'] == 1].describe() "
   ]
  },
  {
   "cell_type": "code",
   "execution_count": 36,
   "id": "07fade11",
   "metadata": {
    "execution": {
     "iopub.execute_input": "2022-04-20T05:39:13.963051Z",
     "iopub.status.busy": "2022-04-20T05:39:13.962354Z",
     "iopub.status.idle": "2022-04-20T05:39:13.996456Z",
     "shell.execute_reply": "2022-04-20T05:39:13.995406Z"
    },
    "papermill": {
     "duration": 0.100372,
     "end_time": "2022-04-20T05:39:13.998617",
     "exception": false,
     "start_time": "2022-04-20T05:39:13.898245",
     "status": "completed"
    },
    "tags": []
   },
   "outputs": [
    {
     "data": {
      "text/html": [
       "<div>\n",
       "<style scoped>\n",
       "    .dataframe tbody tr th:only-of-type {\n",
       "        vertical-align: middle;\n",
       "    }\n",
       "\n",
       "    .dataframe tbody tr th {\n",
       "        vertical-align: top;\n",
       "    }\n",
       "\n",
       "    .dataframe thead th {\n",
       "        text-align: right;\n",
       "    }\n",
       "</style>\n",
       "<table border=\"1\" class=\"dataframe\">\n",
       "  <thead>\n",
       "    <tr style=\"text-align: right;\">\n",
       "      <th></th>\n",
       "      <th>Category</th>\n",
       "      <th>DER (St.)</th>\n",
       "      <th>Operating Profit Margin (St.)</th>\n",
       "      <th>Sales Growth (St.)</th>\n",
       "      <th>DER</th>\n",
       "      <th>Operating Profit Margin</th>\n",
       "      <th>ROA</th>\n",
       "      <th>Sales Growth</th>\n",
       "    </tr>\n",
       "  </thead>\n",
       "  <tbody>\n",
       "    <tr>\n",
       "      <th>count</th>\n",
       "      <td>0.0</td>\n",
       "      <td>0.0</td>\n",
       "      <td>0.0</td>\n",
       "      <td>0.0</td>\n",
       "      <td>0.0</td>\n",
       "      <td>0.0</td>\n",
       "      <td>0.0</td>\n",
       "      <td>0.0</td>\n",
       "    </tr>\n",
       "    <tr>\n",
       "      <th>mean</th>\n",
       "      <td>NaN</td>\n",
       "      <td>NaN</td>\n",
       "      <td>NaN</td>\n",
       "      <td>NaN</td>\n",
       "      <td>NaN</td>\n",
       "      <td>NaN</td>\n",
       "      <td>NaN</td>\n",
       "      <td>NaN</td>\n",
       "    </tr>\n",
       "    <tr>\n",
       "      <th>std</th>\n",
       "      <td>NaN</td>\n",
       "      <td>NaN</td>\n",
       "      <td>NaN</td>\n",
       "      <td>NaN</td>\n",
       "      <td>NaN</td>\n",
       "      <td>NaN</td>\n",
       "      <td>NaN</td>\n",
       "      <td>NaN</td>\n",
       "    </tr>\n",
       "    <tr>\n",
       "      <th>min</th>\n",
       "      <td>NaN</td>\n",
       "      <td>NaN</td>\n",
       "      <td>NaN</td>\n",
       "      <td>NaN</td>\n",
       "      <td>NaN</td>\n",
       "      <td>NaN</td>\n",
       "      <td>NaN</td>\n",
       "      <td>NaN</td>\n",
       "    </tr>\n",
       "    <tr>\n",
       "      <th>25%</th>\n",
       "      <td>NaN</td>\n",
       "      <td>NaN</td>\n",
       "      <td>NaN</td>\n",
       "      <td>NaN</td>\n",
       "      <td>NaN</td>\n",
       "      <td>NaN</td>\n",
       "      <td>NaN</td>\n",
       "      <td>NaN</td>\n",
       "    </tr>\n",
       "    <tr>\n",
       "      <th>50%</th>\n",
       "      <td>NaN</td>\n",
       "      <td>NaN</td>\n",
       "      <td>NaN</td>\n",
       "      <td>NaN</td>\n",
       "      <td>NaN</td>\n",
       "      <td>NaN</td>\n",
       "      <td>NaN</td>\n",
       "      <td>NaN</td>\n",
       "    </tr>\n",
       "    <tr>\n",
       "      <th>75%</th>\n",
       "      <td>NaN</td>\n",
       "      <td>NaN</td>\n",
       "      <td>NaN</td>\n",
       "      <td>NaN</td>\n",
       "      <td>NaN</td>\n",
       "      <td>NaN</td>\n",
       "      <td>NaN</td>\n",
       "      <td>NaN</td>\n",
       "    </tr>\n",
       "    <tr>\n",
       "      <th>max</th>\n",
       "      <td>NaN</td>\n",
       "      <td>NaN</td>\n",
       "      <td>NaN</td>\n",
       "      <td>NaN</td>\n",
       "      <td>NaN</td>\n",
       "      <td>NaN</td>\n",
       "      <td>NaN</td>\n",
       "      <td>NaN</td>\n",
       "    </tr>\n",
       "  </tbody>\n",
       "</table>\n",
       "</div>"
      ],
      "text/plain": [
       "       Category  DER (St.)  Operating Profit Margin (St.)  Sales Growth (St.)  \\\n",
       "count       0.0        0.0                            0.0                 0.0   \n",
       "mean        NaN        NaN                            NaN                 NaN   \n",
       "std         NaN        NaN                            NaN                 NaN   \n",
       "min         NaN        NaN                            NaN                 NaN   \n",
       "25%         NaN        NaN                            NaN                 NaN   \n",
       "50%         NaN        NaN                            NaN                 NaN   \n",
       "75%         NaN        NaN                            NaN                 NaN   \n",
       "max         NaN        NaN                            NaN                 NaN   \n",
       "\n",
       "       DER  Operating Profit Margin  ROA  Sales Growth  \n",
       "count  0.0                      0.0  0.0           0.0  \n",
       "mean   NaN                      NaN  NaN           NaN  \n",
       "std    NaN                      NaN  NaN           NaN  \n",
       "min    NaN                      NaN  NaN           NaN  \n",
       "25%    NaN                      NaN  NaN           NaN  \n",
       "50%    NaN                      NaN  NaN           NaN  \n",
       "75%    NaN                      NaN  NaN           NaN  \n",
       "max    NaN                      NaN  NaN           NaN  "
      ]
     },
     "execution_count": 36,
     "metadata": {},
     "output_type": "execute_result"
    }
   ],
   "source": [
    "#Highly Positively Impacted\n",
    "df[df['Category'] == 0].describe() "
   ]
  }
 ],
 "metadata": {
  "kernelspec": {
   "display_name": "Python 3",
   "language": "python",
   "name": "python3"
  },
  "language_info": {
   "codemirror_mode": {
    "name": "ipython",
    "version": 3
   },
   "file_extension": ".py",
   "mimetype": "text/x-python",
   "name": "python",
   "nbconvert_exporter": "python",
   "pygments_lexer": "ipython3",
   "version": "3.7.12"
  },
  "papermill": {
   "default_parameters": {},
   "duration": 21.887135,
   "end_time": "2022-04-20T05:39:14.884655",
   "environment_variables": {},
   "exception": null,
   "input_path": "__notebook__.ipynb",
   "output_path": "__notebook__.ipynb",
   "parameters": {},
   "start_time": "2022-04-20T05:38:52.997520",
   "version": "2.3.4"
  }
 },
 "nbformat": 4,
 "nbformat_minor": 5
}
