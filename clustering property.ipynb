{
 "cells": [
  {
   "cell_type": "code",
   "execution_count": 1,
   "id": "27c91d74",
   "metadata": {
    "_cell_guid": "b1076dfc-b9ad-4769-8c92-a6c4dae69d19",
    "_uuid": "8f2839f25d086af736a60e9eeb907d3b93b6e0e5",
    "execution": {
     "iopub.execute_input": "2022-04-17T16:29:11.878462Z",
     "iopub.status.busy": "2022-04-17T16:29:11.877863Z",
     "iopub.status.idle": "2022-04-17T16:29:11.895720Z",
     "shell.execute_reply": "2022-04-17T16:29:11.894896Z"
    },
    "jupyter": {
     "source_hidden": true
    },
    "papermill": {
     "duration": 0.062024,
     "end_time": "2022-04-17T16:29:11.898387",
     "exception": false,
     "start_time": "2022-04-17T16:29:11.836363",
     "status": "completed"
    },
    "tags": []
   },
   "outputs": [
    {
     "name": "stdout",
     "output_type": "stream",
     "text": [
      "/kaggle/input/property/Emittenlist Febyola.csv\n",
      "/kaggle/input/property/Property Febyola.csv\n"
     ]
    }
   ],
   "source": [
    "# This Python 3 environment comes with many helpful analytics libraries installed\n",
    "# It is defined by the kaggle/python Docker image: https://github.com/kaggle/docker-python\n",
    "# For example, here's several helpful packages to load\n",
    "\n",
    "import numpy as np # linear algebra\n",
    "import pandas as pd # data processing, CSV file I/O (e.g. pd.read_csv)\n",
    "\n",
    "# Input data files are available in the read-only \"../input/\" directory\n",
    "# For example, running this (by clicking run or pressing Shift+Enter) will list all files under the input directory\n",
    "\n",
    "import os\n",
    "for dirname, _, filenames in os.walk('/kaggle/input'):\n",
    "    for filename in filenames:\n",
    "        print(os.path.join(dirname, filename))\n",
    "\n",
    "# You can write up to 20GB to the current directory (/kaggle/working/) that gets preserved as output when you create a version using \"Save & Run All\" \n",
    "# You can also write temporary files to /kaggle/temp/, but they won't be saved outside of the current session"
   ]
  },
  {
   "cell_type": "code",
   "execution_count": 2,
   "id": "f39b4fac",
   "metadata": {
    "execution": {
     "iopub.execute_input": "2022-04-17T16:29:11.979562Z",
     "iopub.status.busy": "2022-04-17T16:29:11.979068Z",
     "iopub.status.idle": "2022-04-17T16:29:13.240399Z",
     "shell.execute_reply": "2022-04-17T16:29:13.239071Z"
    },
    "papermill": {
     "duration": 1.30424,
     "end_time": "2022-04-17T16:29:13.243018",
     "exception": false,
     "start_time": "2022-04-17T16:29:11.938778",
     "status": "completed"
    },
    "tags": []
   },
   "outputs": [],
   "source": [
    "import pandas as pd \n",
    "import numpy as np\n",
    "import matplotlib.pyplot as plt\n",
    "import seaborn as sns\n",
    "from matplotlib.colors import ListedColormap\n",
    "%matplotlib inline\n",
    "from scipy import stats"
   ]
  },
  {
   "cell_type": "code",
   "execution_count": 3,
   "id": "1b40ae78",
   "metadata": {
    "execution": {
     "iopub.execute_input": "2022-04-17T16:29:13.318433Z",
     "iopub.status.busy": "2022-04-17T16:29:13.317789Z",
     "iopub.status.idle": "2022-04-17T16:29:13.355807Z",
     "shell.execute_reply": "2022-04-17T16:29:13.354795Z"
    },
    "papermill": {
     "duration": 0.078619,
     "end_time": "2022-04-17T16:29:13.358364",
     "exception": false,
     "start_time": "2022-04-17T16:29:13.279745",
     "status": "completed"
    },
    "tags": []
   },
   "outputs": [
    {
     "name": "stdout",
     "output_type": "stream",
     "text": [
      "<class 'pandas.core.frame.DataFrame'>\n",
      "RangeIndex: 6 entries, 0 to 5\n",
      "Data columns (total 6 columns):\n",
      " #   Column                   Non-Null Count  Dtype  \n",
      "---  ------                   --------------  -----  \n",
      " 0   Emitten                  6 non-null      object \n",
      " 1   DER                      6 non-null      float64\n",
      " 2   Operating Profit Margin  6 non-null      float64\n",
      " 3   Return On Asset          6 non-null      float64\n",
      " 4   Sales Growth             6 non-null      int64  \n",
      " 5   Category                 0 non-null      float64\n",
      "dtypes: float64(4), int64(1), object(1)\n",
      "memory usage: 416.0+ bytes\n"
     ]
    }
   ],
   "source": [
    "df0 = pd.read_csv('../input/property/Property Febyola.csv')\n",
    "df0.info()"
   ]
  },
  {
   "cell_type": "code",
   "execution_count": 4,
   "id": "0ee3c2d3",
   "metadata": {
    "execution": {
     "iopub.execute_input": "2022-04-17T16:29:13.438129Z",
     "iopub.status.busy": "2022-04-17T16:29:13.437752Z",
     "iopub.status.idle": "2022-04-17T16:29:13.472598Z",
     "shell.execute_reply": "2022-04-17T16:29:13.471772Z"
    },
    "papermill": {
     "duration": 0.078051,
     "end_time": "2022-04-17T16:29:13.475704",
     "exception": false,
     "start_time": "2022-04-17T16:29:13.397653",
     "status": "completed"
    },
    "tags": []
   },
   "outputs": [
    {
     "data": {
      "text/html": [
       "<div>\n",
       "<style scoped>\n",
       "    .dataframe tbody tr th:only-of-type {\n",
       "        vertical-align: middle;\n",
       "    }\n",
       "\n",
       "    .dataframe tbody tr th {\n",
       "        vertical-align: top;\n",
       "    }\n",
       "\n",
       "    .dataframe thead th {\n",
       "        text-align: right;\n",
       "    }\n",
       "</style>\n",
       "<table border=\"1\" class=\"dataframe\">\n",
       "  <thead>\n",
       "    <tr style=\"text-align: right;\">\n",
       "      <th></th>\n",
       "      <th>DER</th>\n",
       "      <th>Operating Profit Margin</th>\n",
       "      <th>Return On Asset</th>\n",
       "      <th>Sales Growth</th>\n",
       "      <th>Category</th>\n",
       "    </tr>\n",
       "  </thead>\n",
       "  <tbody>\n",
       "    <tr>\n",
       "      <th>count</th>\n",
       "      <td>6.000000</td>\n",
       "      <td>6.000000</td>\n",
       "      <td>6.000000</td>\n",
       "      <td>6.000000e+00</td>\n",
       "      <td>0.0</td>\n",
       "    </tr>\n",
       "    <tr>\n",
       "      <th>mean</th>\n",
       "      <td>-1.383237</td>\n",
       "      <td>0.245260</td>\n",
       "      <td>0.141790</td>\n",
       "      <td>9.280682e+08</td>\n",
       "      <td>NaN</td>\n",
       "    </tr>\n",
       "    <tr>\n",
       "      <th>std</th>\n",
       "      <td>5.670877</td>\n",
       "      <td>0.205069</td>\n",
       "      <td>0.318741</td>\n",
       "      <td>5.904430e+09</td>\n",
       "      <td>NaN</td>\n",
       "    </tr>\n",
       "    <tr>\n",
       "      <th>min</th>\n",
       "      <td>-12.915507</td>\n",
       "      <td>0.067262</td>\n",
       "      <td>-0.030777</td>\n",
       "      <td>-7.000794e+09</td>\n",
       "      <td>NaN</td>\n",
       "    </tr>\n",
       "    <tr>\n",
       "      <th>25%</th>\n",
       "      <td>0.500256</td>\n",
       "      <td>0.079833</td>\n",
       "      <td>-0.017563</td>\n",
       "      <td>-3.841199e+09</td>\n",
       "      <td>NaN</td>\n",
       "    </tr>\n",
       "    <tr>\n",
       "      <th>50%</th>\n",
       "      <td>0.707175</td>\n",
       "      <td>0.202636</td>\n",
       "      <td>0.024914</td>\n",
       "      <td>2.880824e+09</td>\n",
       "      <td>NaN</td>\n",
       "    </tr>\n",
       "    <tr>\n",
       "      <th>75%</th>\n",
       "      <td>0.859409</td>\n",
       "      <td>0.335348</td>\n",
       "      <td>0.063141</td>\n",
       "      <td>5.116358e+09</td>\n",
       "      <td>NaN</td>\n",
       "    </tr>\n",
       "    <tr>\n",
       "      <th>max</th>\n",
       "      <td>1.860299</td>\n",
       "      <td>0.580543</td>\n",
       "      <td>0.787529</td>\n",
       "      <td>7.027893e+09</td>\n",
       "      <td>NaN</td>\n",
       "    </tr>\n",
       "  </tbody>\n",
       "</table>\n",
       "</div>"
      ],
      "text/plain": [
       "             DER  Operating Profit Margin  Return On Asset  Sales Growth  \\\n",
       "count   6.000000                 6.000000         6.000000  6.000000e+00   \n",
       "mean   -1.383237                 0.245260         0.141790  9.280682e+08   \n",
       "std     5.670877                 0.205069         0.318741  5.904430e+09   \n",
       "min   -12.915507                 0.067262        -0.030777 -7.000794e+09   \n",
       "25%     0.500256                 0.079833        -0.017563 -3.841199e+09   \n",
       "50%     0.707175                 0.202636         0.024914  2.880824e+09   \n",
       "75%     0.859409                 0.335348         0.063141  5.116358e+09   \n",
       "max     1.860299                 0.580543         0.787529  7.027893e+09   \n",
       "\n",
       "       Category  \n",
       "count       0.0  \n",
       "mean        NaN  \n",
       "std         NaN  \n",
       "min         NaN  \n",
       "25%         NaN  \n",
       "50%         NaN  \n",
       "75%         NaN  \n",
       "max         NaN  "
      ]
     },
     "execution_count": 4,
     "metadata": {},
     "output_type": "execute_result"
    }
   ],
   "source": [
    "df0.describe()"
   ]
  },
  {
   "cell_type": "code",
   "execution_count": 5,
   "id": "9f45f389",
   "metadata": {
    "execution": {
     "iopub.execute_input": "2022-04-17T16:29:13.557288Z",
     "iopub.status.busy": "2022-04-17T16:29:13.556989Z",
     "iopub.status.idle": "2022-04-17T16:29:13.562826Z",
     "shell.execute_reply": "2022-04-17T16:29:13.561816Z"
    },
    "papermill": {
     "duration": 0.048461,
     "end_time": "2022-04-17T16:29:13.565180",
     "exception": false,
     "start_time": "2022-04-17T16:29:13.516719",
     "status": "completed"
    },
    "tags": []
   },
   "outputs": [],
   "source": [
    "df0.drop([\"Emitten\",\"Category\"], axis=1, inplace=True)"
   ]
  },
  {
   "cell_type": "code",
   "execution_count": 6,
   "id": "7b907eb6",
   "metadata": {
    "execution": {
     "iopub.execute_input": "2022-04-17T16:29:13.642307Z",
     "iopub.status.busy": "2022-04-17T16:29:13.641954Z",
     "iopub.status.idle": "2022-04-17T16:29:15.622823Z",
     "shell.execute_reply": "2022-04-17T16:29:15.622016Z"
    },
    "papermill": {
     "duration": 2.022741,
     "end_time": "2022-04-17T16:29:15.625436",
     "exception": false,
     "start_time": "2022-04-17T16:29:13.602695",
     "status": "completed"
    },
    "tags": []
   },
   "outputs": [
    {
     "data": {
      "text/plain": [
       "<Figure size 1080x1080 with 0 Axes>"
      ]
     },
     "metadata": {},
     "output_type": "display_data"
    },
    {
     "data": {
      "image/png": "[encoded data removed]",
      "text/plain": [
       "<Figure size 540x540 with 12 Axes>"
      ]
     },
     "metadata": {
      "needs_background": "light"
     },
     "output_type": "display_data"
    }
   ],
   "source": [
    "plt.figure(figsize=(15, 15))\n",
    "sns.pairplot(df0, vars = df0.columns[1:13]);"
   ]
  },
  {
   "cell_type": "code",
   "execution_count": 7,
   "id": "49eda66f",
   "metadata": {
    "execution": {
     "iopub.execute_input": "2022-04-17T16:29:15.711772Z",
     "iopub.status.busy": "2022-04-17T16:29:15.711464Z",
     "iopub.status.idle": "2022-04-17T16:29:15.741552Z",
     "shell.execute_reply": "2022-04-17T16:29:15.740655Z"
    },
    "papermill": {
     "duration": 0.07612,
     "end_time": "2022-04-17T16:29:15.743801",
     "exception": false,
     "start_time": "2022-04-17T16:29:15.667681",
     "status": "completed"
    },
    "tags": []
   },
   "outputs": [
    {
     "data": {
      "text/html": [
       "<div>\n",
       "<style scoped>\n",
       "    .dataframe tbody tr th:only-of-type {\n",
       "        vertical-align: middle;\n",
       "    }\n",
       "\n",
       "    .dataframe tbody tr th {\n",
       "        vertical-align: top;\n",
       "    }\n",
       "\n",
       "    .dataframe thead th {\n",
       "        text-align: right;\n",
       "    }\n",
       "</style>\n",
       "<table border=\"1\" class=\"dataframe\">\n",
       "  <thead>\n",
       "    <tr style=\"text-align: right;\">\n",
       "      <th></th>\n",
       "      <th>DER</th>\n",
       "      <th>Operating Profit Margin</th>\n",
       "      <th>Return On Asset</th>\n",
       "      <th>Sales Growth</th>\n",
       "      <th>Category</th>\n",
       "    </tr>\n",
       "  </thead>\n",
       "  <tbody>\n",
       "    <tr>\n",
       "      <th>count</th>\n",
       "      <td>6.000000</td>\n",
       "      <td>6.000000</td>\n",
       "      <td>6.000000</td>\n",
       "      <td>6.000000e+00</td>\n",
       "      <td>0.0</td>\n",
       "    </tr>\n",
       "    <tr>\n",
       "      <th>mean</th>\n",
       "      <td>-1.383237</td>\n",
       "      <td>0.245260</td>\n",
       "      <td>0.141790</td>\n",
       "      <td>9.280682e+08</td>\n",
       "      <td>NaN</td>\n",
       "    </tr>\n",
       "    <tr>\n",
       "      <th>std</th>\n",
       "      <td>5.670877</td>\n",
       "      <td>0.205069</td>\n",
       "      <td>0.318741</td>\n",
       "      <td>5.904430e+09</td>\n",
       "      <td>NaN</td>\n",
       "    </tr>\n",
       "    <tr>\n",
       "      <th>min</th>\n",
       "      <td>-12.915507</td>\n",
       "      <td>0.067262</td>\n",
       "      <td>-0.030777</td>\n",
       "      <td>-7.000794e+09</td>\n",
       "      <td>NaN</td>\n",
       "    </tr>\n",
       "    <tr>\n",
       "      <th>25%</th>\n",
       "      <td>0.500256</td>\n",
       "      <td>0.079833</td>\n",
       "      <td>-0.017563</td>\n",
       "      <td>-3.841199e+09</td>\n",
       "      <td>NaN</td>\n",
       "    </tr>\n",
       "    <tr>\n",
       "      <th>50%</th>\n",
       "      <td>0.707175</td>\n",
       "      <td>0.202636</td>\n",
       "      <td>0.024914</td>\n",
       "      <td>2.880824e+09</td>\n",
       "      <td>NaN</td>\n",
       "    </tr>\n",
       "    <tr>\n",
       "      <th>75%</th>\n",
       "      <td>0.859409</td>\n",
       "      <td>0.335348</td>\n",
       "      <td>0.063141</td>\n",
       "      <td>5.116358e+09</td>\n",
       "      <td>NaN</td>\n",
       "    </tr>\n",
       "    <tr>\n",
       "      <th>max</th>\n",
       "      <td>1.860299</td>\n",
       "      <td>0.580543</td>\n",
       "      <td>0.787529</td>\n",
       "      <td>7.027893e+09</td>\n",
       "      <td>NaN</td>\n",
       "    </tr>\n",
       "  </tbody>\n",
       "</table>\n",
       "</div>"
      ],
      "text/plain": [
       "             DER  Operating Profit Margin  Return On Asset  Sales Growth  \\\n",
       "count   6.000000                 6.000000         6.000000  6.000000e+00   \n",
       "mean   -1.383237                 0.245260         0.141790  9.280682e+08   \n",
       "std     5.670877                 0.205069         0.318741  5.904430e+09   \n",
       "min   -12.915507                 0.067262        -0.030777 -7.000794e+09   \n",
       "25%     0.500256                 0.079833        -0.017563 -3.841199e+09   \n",
       "50%     0.707175                 0.202636         0.024914  2.880824e+09   \n",
       "75%     0.859409                 0.335348         0.063141  5.116358e+09   \n",
       "max     1.860299                 0.580543         0.787529  7.027893e+09   \n",
       "\n",
       "       Category  \n",
       "count       0.0  \n",
       "mean        NaN  \n",
       "std         NaN  \n",
       "min         NaN  \n",
       "25%         NaN  \n",
       "50%         NaN  \n",
       "75%         NaN  \n",
       "max         NaN  "
      ]
     },
     "execution_count": 7,
     "metadata": {},
     "output_type": "execute_result"
    }
   ],
   "source": [
    "df0 = pd.read_csv('../input/property/Property Febyola.csv')\n",
    "df1 = df0[['DER','Operating Profit Margin' ,'Return On Asset','Sales Growth','Category']]\n",
    "df1.describe()"
   ]
  },
  {
   "cell_type": "code",
   "execution_count": 8,
   "id": "1a9ba5de",
   "metadata": {
    "execution": {
     "iopub.execute_input": "2022-04-17T16:29:15.827170Z",
     "iopub.status.busy": "2022-04-17T16:29:15.826876Z",
     "iopub.status.idle": "2022-04-17T16:29:16.062793Z",
     "shell.execute_reply": "2022-04-17T16:29:16.061794Z"
    },
    "papermill": {
     "duration": 0.280691,
     "end_time": "2022-04-17T16:29:16.065322",
     "exception": false,
     "start_time": "2022-04-17T16:29:15.784631",
     "status": "completed"
    },
    "tags": []
   },
   "outputs": [
    {
     "data": {
      "text/plain": [
       "<AxesSubplot:xlabel='Emitten', ylabel='Operating Profit Margin'>"
      ]
     },
     "execution_count": 8,
     "metadata": {},
     "output_type": "execute_result"
    },
    {
     "data": {
      "image/png": "[encoded data removed]",
      "text/plain": [
       "<Figure size 1296x288 with 1 Axes>"
      ]
     },
     "metadata": {
      "needs_background": "light"
     },
     "output_type": "display_data"
    }
   ],
   "source": [
    "plt.figure(figsize=(18, 4))\n",
    "plt.xticks(rotation=45)\n",
    "sns.scatterplot(x='Emitten', y='Operating Profit Margin', \n",
    "                data=df0, s=80)"
   ]
  },
  {
   "cell_type": "code",
   "execution_count": 9,
   "id": "a78156ad",
   "metadata": {
    "execution": {
     "iopub.execute_input": "2022-04-17T16:29:16.150106Z",
     "iopub.status.busy": "2022-04-17T16:29:16.149692Z",
     "iopub.status.idle": "2022-04-17T16:29:16.529238Z",
     "shell.execute_reply": "2022-04-17T16:29:16.528329Z"
    },
    "papermill": {
     "duration": 0.424741,
     "end_time": "2022-04-17T16:29:16.531501",
     "exception": false,
     "start_time": "2022-04-17T16:29:16.106760",
     "status": "completed"
    },
    "tags": []
   },
   "outputs": [
    {
     "data": {
      "text/plain": [
       "<AxesSubplot:xlabel='Emitten', ylabel='DER'>"
      ]
     },
     "execution_count": 9,
     "metadata": {},
     "output_type": "execute_result"
    },
    {
     "data": {
      "image/png": "[encoded data removed]",
      "text/plain": [
       "<Figure size 1296x288 with 1 Axes>"
      ]
     },
     "metadata": {
      "needs_background": "light"
     },
     "output_type": "display_data"
    }
   ],
   "source": [
    "plt.figure(figsize=(18, 4))\n",
    "plt.xticks(rotation=45)\n",
    "sns.scatterplot(x='Emitten', y='DER', \n",
    "                data=df0, s=80)"
   ]
  },
  {
   "cell_type": "code",
   "execution_count": 10,
   "id": "27af0fec",
   "metadata": {
    "execution": {
     "iopub.execute_input": "2022-04-17T16:29:16.619110Z",
     "iopub.status.busy": "2022-04-17T16:29:16.618574Z",
     "iopub.status.idle": "2022-04-17T16:29:16.803130Z",
     "shell.execute_reply": "2022-04-17T16:29:16.802046Z"
    },
    "papermill": {
     "duration": 0.230738,
     "end_time": "2022-04-17T16:29:16.805349",
     "exception": false,
     "start_time": "2022-04-17T16:29:16.574611",
     "status": "completed"
    },
    "tags": []
   },
   "outputs": [
    {
     "data": {
      "text/plain": [
       "<AxesSubplot:xlabel='Emitten', ylabel='Sales Growth'>"
      ]
     },
     "execution_count": 10,
     "metadata": {},
     "output_type": "execute_result"
    },
    {
     "data": {
      "image/png": "[encoded data removed]",
      "text/plain": [
       "<Figure size 1296x288 with 1 Axes>"
      ]
     },
     "metadata": {
      "needs_background": "light"
     },
     "output_type": "display_data"
    }
   ],
   "source": [
    "plt.figure(figsize=(18, 4))\n",
    "plt.xticks(rotation=45)\n",
    "sns.scatterplot(x='Emitten', y='Sales Growth', \n",
    "                data=df0, s=80)"
   ]
  },
  {
   "cell_type": "code",
   "execution_count": 11,
   "id": "b9ae1783",
   "metadata": {
    "execution": {
     "iopub.execute_input": "2022-04-17T16:29:16.896310Z",
     "iopub.status.busy": "2022-04-17T16:29:16.895410Z",
     "iopub.status.idle": "2022-04-17T16:29:16.906069Z",
     "shell.execute_reply": "2022-04-17T16:29:16.905237Z"
    },
    "papermill": {
     "duration": 0.058918,
     "end_time": "2022-04-17T16:29:16.908604",
     "exception": false,
     "start_time": "2022-04-17T16:29:16.849686",
     "status": "completed"
    },
    "tags": []
   },
   "outputs": [
    {
     "name": "stdout",
     "output_type": "stream",
     "text": [
      "Jumlah baris sebelum memfilter outlier: 6\n",
      "Jumlah baris setelah memfilter outlier: 6\n"
     ]
    }
   ],
   "source": [
    "print(f'Jumlah baris sebelum memfilter outlier: {len(df1)}')\n",
    "\n",
    "filtered_entries = np.array([False] * len(df1))\n",
    "for col in ['Operating Profit Margin']:\n",
    "    zscore = abs(stats.zscore(df1[col]))\n",
    "    filtered_entries = (zscore < 3) | filtered_entries\n",
    "    \n",
    "df1 = df1[filtered_entries]\n",
    "\n",
    "print(f'Jumlah baris setelah memfilter outlier: {len(df1)}')"
   ]
  },
  {
   "cell_type": "code",
   "execution_count": 12,
   "id": "3fcb477a",
   "metadata": {
    "execution": {
     "iopub.execute_input": "2022-04-17T16:29:17.002257Z",
     "iopub.status.busy": "2022-04-17T16:29:17.001405Z",
     "iopub.status.idle": "2022-04-17T16:29:17.028104Z",
     "shell.execute_reply": "2022-04-17T16:29:17.027238Z"
    },
    "papermill": {
     "duration": 0.07671,
     "end_time": "2022-04-17T16:29:17.030556",
     "exception": false,
     "start_time": "2022-04-17T16:29:16.953846",
     "status": "completed"
    },
    "tags": []
   },
   "outputs": [
    {
     "data": {
      "text/html": [
       "<div>\n",
       "<style scoped>\n",
       "    .dataframe tbody tr th:only-of-type {\n",
       "        vertical-align: middle;\n",
       "    }\n",
       "\n",
       "    .dataframe tbody tr th {\n",
       "        vertical-align: top;\n",
       "    }\n",
       "\n",
       "    .dataframe thead th {\n",
       "        text-align: right;\n",
       "    }\n",
       "</style>\n",
       "<table border=\"1\" class=\"dataframe\">\n",
       "  <thead>\n",
       "    <tr style=\"text-align: right;\">\n",
       "      <th></th>\n",
       "      <th>DER</th>\n",
       "      <th>Operating Profit Margin</th>\n",
       "      <th>Return On Asset</th>\n",
       "      <th>Sales Growth</th>\n",
       "      <th>Category</th>\n",
       "    </tr>\n",
       "  </thead>\n",
       "  <tbody>\n",
       "    <tr>\n",
       "      <th>count</th>\n",
       "      <td>6.000000</td>\n",
       "      <td>6.000000</td>\n",
       "      <td>6.000000</td>\n",
       "      <td>6.000000e+00</td>\n",
       "      <td>0.0</td>\n",
       "    </tr>\n",
       "    <tr>\n",
       "      <th>mean</th>\n",
       "      <td>-1.383237</td>\n",
       "      <td>0.245260</td>\n",
       "      <td>0.141790</td>\n",
       "      <td>9.280682e+08</td>\n",
       "      <td>NaN</td>\n",
       "    </tr>\n",
       "    <tr>\n",
       "      <th>std</th>\n",
       "      <td>5.670877</td>\n",
       "      <td>0.205069</td>\n",
       "      <td>0.318741</td>\n",
       "      <td>5.904430e+09</td>\n",
       "      <td>NaN</td>\n",
       "    </tr>\n",
       "    <tr>\n",
       "      <th>min</th>\n",
       "      <td>-12.915507</td>\n",
       "      <td>0.067262</td>\n",
       "      <td>-0.030777</td>\n",
       "      <td>-7.000794e+09</td>\n",
       "      <td>NaN</td>\n",
       "    </tr>\n",
       "    <tr>\n",
       "      <th>25%</th>\n",
       "      <td>0.500256</td>\n",
       "      <td>0.079833</td>\n",
       "      <td>-0.017563</td>\n",
       "      <td>-3.841199e+09</td>\n",
       "      <td>NaN</td>\n",
       "    </tr>\n",
       "    <tr>\n",
       "      <th>50%</th>\n",
       "      <td>0.707175</td>\n",
       "      <td>0.202636</td>\n",
       "      <td>0.024914</td>\n",
       "      <td>2.880824e+09</td>\n",
       "      <td>NaN</td>\n",
       "    </tr>\n",
       "    <tr>\n",
       "      <th>75%</th>\n",
       "      <td>0.859409</td>\n",
       "      <td>0.335348</td>\n",
       "      <td>0.063141</td>\n",
       "      <td>5.116358e+09</td>\n",
       "      <td>NaN</td>\n",
       "    </tr>\n",
       "    <tr>\n",
       "      <th>max</th>\n",
       "      <td>1.860299</td>\n",
       "      <td>0.580543</td>\n",
       "      <td>0.787529</td>\n",
       "      <td>7.027893e+09</td>\n",
       "      <td>NaN</td>\n",
       "    </tr>\n",
       "  </tbody>\n",
       "</table>\n",
       "</div>"
      ],
      "text/plain": [
       "             DER  Operating Profit Margin  Return On Asset  Sales Growth  \\\n",
       "count   6.000000                 6.000000         6.000000  6.000000e+00   \n",
       "mean   -1.383237                 0.245260         0.141790  9.280682e+08   \n",
       "std     5.670877                 0.205069         0.318741  5.904430e+09   \n",
       "min   -12.915507                 0.067262        -0.030777 -7.000794e+09   \n",
       "25%     0.500256                 0.079833        -0.017563 -3.841199e+09   \n",
       "50%     0.707175                 0.202636         0.024914  2.880824e+09   \n",
       "75%     0.859409                 0.335348         0.063141  5.116358e+09   \n",
       "max     1.860299                 0.580543         0.787529  7.027893e+09   \n",
       "\n",
       "       Category  \n",
       "count       0.0  \n",
       "mean        NaN  \n",
       "std         NaN  \n",
       "min         NaN  \n",
       "25%         NaN  \n",
       "50%         NaN  \n",
       "75%         NaN  \n",
       "max         NaN  "
      ]
     },
     "execution_count": 12,
     "metadata": {},
     "output_type": "execute_result"
    }
   ],
   "source": [
    "df1.describe()"
   ]
  },
  {
   "cell_type": "code",
   "execution_count": 13,
   "id": "32748908",
   "metadata": {
    "execution": {
     "iopub.execute_input": "2022-04-17T16:29:17.126427Z",
     "iopub.status.busy": "2022-04-17T16:29:17.125854Z",
     "iopub.status.idle": "2022-04-17T16:29:17.301712Z",
     "shell.execute_reply": "2022-04-17T16:29:17.300712Z"
    },
    "papermill": {
     "duration": 0.226852,
     "end_time": "2022-04-17T16:29:17.303948",
     "exception": false,
     "start_time": "2022-04-17T16:29:17.077096",
     "status": "completed"
    },
    "tags": []
   },
   "outputs": [
    {
     "data": {
      "text/html": [
       "<div>\n",
       "<style scoped>\n",
       "    .dataframe tbody tr th:only-of-type {\n",
       "        vertical-align: middle;\n",
       "    }\n",
       "\n",
       "    .dataframe tbody tr th {\n",
       "        vertical-align: top;\n",
       "    }\n",
       "\n",
       "    .dataframe thead th {\n",
       "        text-align: right;\n",
       "    }\n",
       "</style>\n",
       "<table border=\"1\" class=\"dataframe\">\n",
       "  <thead>\n",
       "    <tr style=\"text-align: right;\">\n",
       "      <th></th>\n",
       "      <th>DER</th>\n",
       "      <th>Operating Profit Margin</th>\n",
       "      <th>Sales Growth</th>\n",
       "    </tr>\n",
       "  </thead>\n",
       "  <tbody>\n",
       "    <tr>\n",
       "      <th>count</th>\n",
       "      <td>6.000000e+00</td>\n",
       "      <td>6.000000e+00</td>\n",
       "      <td>6.000000e+00</td>\n",
       "    </tr>\n",
       "    <tr>\n",
       "      <th>mean</th>\n",
       "      <td>6.476301e-17</td>\n",
       "      <td>-1.480297e-16</td>\n",
       "      <td>3.700743e-17</td>\n",
       "    </tr>\n",
       "    <tr>\n",
       "      <th>std</th>\n",
       "      <td>1.095445e+00</td>\n",
       "      <td>1.095445e+00</td>\n",
       "      <td>1.095445e+00</td>\n",
       "    </tr>\n",
       "    <tr>\n",
       "      <th>min</th>\n",
       "      <td>-2.227692e+00</td>\n",
       "      <td>-9.508366e-01</td>\n",
       "      <td>-1.471037e+00</td>\n",
       "    </tr>\n",
       "    <tr>\n",
       "      <th>25%</th>\n",
       "      <td>3.638350e-01</td>\n",
       "      <td>-8.836872e-01</td>\n",
       "      <td>-8.848391e-01</td>\n",
       "    </tr>\n",
       "    <tr>\n",
       "      <th>50%</th>\n",
       "      <td>4.038055e-01</td>\n",
       "      <td>-2.276921e-01</td>\n",
       "      <td>3.622935e-01</td>\n",
       "    </tr>\n",
       "    <tr>\n",
       "      <th>75%</th>\n",
       "      <td>4.332127e-01</td>\n",
       "      <td>4.812348e-01</td>\n",
       "      <td>7.770506e-01</td>\n",
       "    </tr>\n",
       "    <tr>\n",
       "      <th>max</th>\n",
       "      <td>6.265548e-01</td>\n",
       "      <td>1.791029e+00</td>\n",
       "      <td>1.131697e+00</td>\n",
       "    </tr>\n",
       "  </tbody>\n",
       "</table>\n",
       "</div>"
      ],
      "text/plain": [
       "                DER  Operating Profit Margin  Sales Growth\n",
       "count  6.000000e+00             6.000000e+00  6.000000e+00\n",
       "mean   6.476301e-17            -1.480297e-16  3.700743e-17\n",
       "std    1.095445e+00             1.095445e+00  1.095445e+00\n",
       "min   -2.227692e+00            -9.508366e-01 -1.471037e+00\n",
       "25%    3.638350e-01            -8.836872e-01 -8.848391e-01\n",
       "50%    4.038055e-01            -2.276921e-01  3.622935e-01\n",
       "75%    4.332127e-01             4.812348e-01  7.770506e-01\n",
       "max    6.265548e-01             1.791029e+00  1.131697e+00"
      ]
     },
     "execution_count": 13,
     "metadata": {},
     "output_type": "execute_result"
    }
   ],
   "source": [
    "feats = ['DER','Operating Profit Margin','Sales Growth']\n",
    "X = df1[feats].values\n",
    "y = df1['Category'].values\n",
    "\n",
    "from sklearn.preprocessing import StandardScaler\n",
    "X_std = StandardScaler().fit_transform(X)\n",
    "new_df = pd.DataFrame(data = X_std, columns = feats)\n",
    "new_df.describe()"
   ]
  },
  {
   "cell_type": "code",
   "execution_count": 14,
   "id": "ec2e5a9d",
   "metadata": {
    "execution": {
     "iopub.execute_input": "2022-04-17T16:29:17.397692Z",
     "iopub.status.busy": "2022-04-17T16:29:17.397416Z",
     "iopub.status.idle": "2022-04-17T16:29:17.708140Z",
     "shell.execute_reply": "2022-04-17T16:29:17.706765Z"
    },
    "papermill": {
     "duration": 0.360007,
     "end_time": "2022-04-17T16:29:17.710662",
     "exception": false,
     "start_time": "2022-04-17T16:29:17.350655",
     "status": "completed"
    },
    "tags": []
   },
   "outputs": [],
   "source": [
    "from sklearn.cluster import KMeans\n",
    "wcss=[]"
   ]
  },
  {
   "cell_type": "code",
   "execution_count": 15,
   "id": "c6d77749",
   "metadata": {
    "execution": {
     "iopub.execute_input": "2022-04-17T16:29:17.805190Z",
     "iopub.status.busy": "2022-04-17T16:29:17.804096Z",
     "iopub.status.idle": "2022-04-17T16:29:17.811233Z",
     "shell.execute_reply": "2022-04-17T16:29:17.809902Z"
    },
    "papermill": {
     "duration": 0.057299,
     "end_time": "2022-04-17T16:29:17.813788",
     "exception": false,
     "start_time": "2022-04-17T16:29:17.756489",
     "status": "completed"
    },
    "tags": []
   },
   "outputs": [
    {
     "data": {
      "text/plain": [
       "(6, 6)"
      ]
     },
     "execution_count": 15,
     "metadata": {},
     "output_type": "execute_result"
    }
   ],
   "source": [
    "df0.shape"
   ]
  },
  {
   "cell_type": "code",
   "execution_count": 16,
   "id": "d19815ac",
   "metadata": {
    "execution": {
     "iopub.execute_input": "2022-04-17T16:29:17.909407Z",
     "iopub.status.busy": "2022-04-17T16:29:17.908914Z",
     "iopub.status.idle": "2022-04-17T16:29:18.402971Z",
     "shell.execute_reply": "2022-04-17T16:29:18.401831Z"
    },
    "papermill": {
     "duration": 0.545247,
     "end_time": "2022-04-17T16:29:18.405200",
     "exception": false,
     "start_time": "2022-04-17T16:29:17.859953",
     "status": "completed"
    },
    "tags": []
   },
   "outputs": [
    {
     "data": {
      "text/plain": [
       "[<matplotlib.lines.Line2D at 0x7f46d0db5f90>]"
      ]
     },
     "execution_count": 16,
     "metadata": {},
     "output_type": "execute_result"
    },
    {
     "data": {
      "image/png": "[encoded data removed]",
      "text/plain": [
       "<Figure size 864x432 with 1 Axes>"
      ]
     },
     "metadata": {
      "needs_background": "light"
     },
     "output_type": "display_data"
    }
   ],
   "source": [
    "from sklearn.cluster import KMeans\n",
    "inertia = []\n",
    "\n",
    "for i in range(1, 7):\n",
    "  kmeans = KMeans(n_clusters=i, init='k-means++', max_iter=300, n_init=10, random_state=0)\n",
    "  kmeans.fit(new_df.values)\n",
    "  inertia.append(kmeans.inertia_)\n",
    "\n",
    "plt.figure(figsize=(12, 6))\n",
    "plt.plot(inertia) #Elbow Method"
   ]
  },
  {
   "cell_type": "code",
   "execution_count": 17,
   "id": "5627d668",
   "metadata": {
    "execution": {
     "iopub.execute_input": "2022-04-17T16:29:18.504339Z",
     "iopub.status.busy": "2022-04-17T16:29:18.503954Z",
     "iopub.status.idle": "2022-04-17T16:29:18.530526Z",
     "shell.execute_reply": "2022-04-17T16:29:18.529227Z"
    },
    "papermill": {
     "duration": 0.081625,
     "end_time": "2022-04-17T16:29:18.533585",
     "exception": false,
     "start_time": "2022-04-17T16:29:18.451960",
     "status": "completed"
    },
    "tags": []
   },
   "outputs": [
    {
     "data": {
      "text/plain": [
       "KMeans(n_clusters=2, random_state=0)"
      ]
     },
     "execution_count": 17,
     "metadata": {},
     "output_type": "execute_result"
    }
   ],
   "source": [
    "from sklearn.cluster import KMeans\n",
    "kmeans = KMeans(n_clusters=2, init='k-means++', max_iter=300, n_init=10, random_state=0)\n",
    "kmeans.fit(new_df.values)"
   ]
  },
  {
   "cell_type": "code",
   "execution_count": 18,
   "id": "a02f92fd",
   "metadata": {
    "execution": {
     "iopub.execute_input": "2022-04-17T16:29:18.642928Z",
     "iopub.status.busy": "2022-04-17T16:29:18.642570Z",
     "iopub.status.idle": "2022-04-17T16:29:18.649613Z",
     "shell.execute_reply": "2022-04-17T16:29:18.648900Z"
    },
    "papermill": {
     "duration": 0.062866,
     "end_time": "2022-04-17T16:29:18.651998",
     "exception": false,
     "start_time": "2022-04-17T16:29:18.589132",
     "status": "completed"
    },
    "tags": []
   },
   "outputs": [],
   "source": [
    "new_df['target'] = y\n",
    "new_df['fit'] = kmeans.labels_"
   ]
  },
  {
   "cell_type": "code",
   "execution_count": 19,
   "id": "4028c871",
   "metadata": {
    "execution": {
     "iopub.execute_input": "2022-04-17T16:29:18.759501Z",
     "iopub.status.busy": "2022-04-17T16:29:18.759178Z",
     "iopub.status.idle": "2022-04-17T16:29:18.948728Z",
     "shell.execute_reply": "2022-04-17T16:29:18.947826Z"
    },
    "papermill": {
     "duration": 0.244013,
     "end_time": "2022-04-17T16:29:18.950908",
     "exception": false,
     "start_time": "2022-04-17T16:29:18.706895",
     "status": "completed"
    },
    "tags": []
   },
   "outputs": [
    {
     "data": {
      "image/png": "[encoded data removed]",
      "text/plain": [
       "<Figure size 576x576 with 1 Axes>"
      ]
     },
     "metadata": {
      "needs_background": "light"
     },
     "output_type": "display_data"
    }
   ],
   "source": [
    "plt.rcParams[\"figure.figsize\"] = (8, 8)\n",
    "sns.scatterplot(x='DER', y='Operating Profit Margin', hue=new_df.target.to_list(), data=new_df);"
   ]
  },
  {
   "cell_type": "code",
   "execution_count": 20,
   "id": "2566de5c",
   "metadata": {
    "execution": {
     "iopub.execute_input": "2022-04-17T16:29:19.055617Z",
     "iopub.status.busy": "2022-04-17T16:29:19.055325Z",
     "iopub.status.idle": "2022-04-17T16:29:19.066885Z",
     "shell.execute_reply": "2022-04-17T16:29:19.066321Z"
    },
    "papermill": {
     "duration": 0.065576,
     "end_time": "2022-04-17T16:29:19.068834",
     "exception": false,
     "start_time": "2022-04-17T16:29:19.003258",
     "status": "completed"
    },
    "tags": []
   },
   "outputs": [
    {
     "data": {
      "text/html": [
       "<div>\n",
       "<style scoped>\n",
       "    .dataframe tbody tr th:only-of-type {\n",
       "        vertical-align: middle;\n",
       "    }\n",
       "\n",
       "    .dataframe tbody tr th {\n",
       "        vertical-align: top;\n",
       "    }\n",
       "\n",
       "    .dataframe thead th {\n",
       "        text-align: right;\n",
       "    }\n",
       "</style>\n",
       "<table border=\"1\" class=\"dataframe\">\n",
       "  <thead>\n",
       "    <tr style=\"text-align: right;\">\n",
       "      <th></th>\n",
       "      <th>DER</th>\n",
       "      <th>Operating Profit Margin</th>\n",
       "      <th>Sales Growth</th>\n",
       "      <th>target</th>\n",
       "      <th>fit</th>\n",
       "    </tr>\n",
       "  </thead>\n",
       "  <tbody>\n",
       "    <tr>\n",
       "      <th>0</th>\n",
       "      <td>0.626555</td>\n",
       "      <td>-0.906479</td>\n",
       "      <td>1.131697</td>\n",
       "      <td>NaN</td>\n",
       "      <td>0</td>\n",
       "    </tr>\n",
       "    <tr>\n",
       "      <th>1</th>\n",
       "      <td>-2.227692</td>\n",
       "      <td>-0.950837</td>\n",
       "      <td>-1.471037</td>\n",
       "      <td>NaN</td>\n",
       "      <td>1</td>\n",
       "    </tr>\n",
       "    <tr>\n",
       "      <th>2</th>\n",
       "      <td>0.437874</td>\n",
       "      <td>-0.815311</td>\n",
       "      <td>0.630708</td>\n",
       "      <td>NaN</td>\n",
       "      <td>0</td>\n",
       "    </tr>\n",
       "    <tr>\n",
       "      <th>3</th>\n",
       "      <td>0.419230</td>\n",
       "      <td>0.521671</td>\n",
       "      <td>0.093879</td>\n",
       "      <td>NaN</td>\n",
       "      <td>0</td>\n",
       "    </tr>\n",
       "    <tr>\n",
       "      <th>4</th>\n",
       "      <td>0.388381</td>\n",
       "      <td>0.359927</td>\n",
       "      <td>0.825831</td>\n",
       "      <td>NaN</td>\n",
       "      <td>0</td>\n",
       "    </tr>\n",
       "  </tbody>\n",
       "</table>\n",
       "</div>"
      ],
      "text/plain": [
       "        DER  Operating Profit Margin  Sales Growth  target  fit\n",
       "0  0.626555                -0.906479      1.131697     NaN    0\n",
       "1 -2.227692                -0.950837     -1.471037     NaN    1\n",
       "2  0.437874                -0.815311      0.630708     NaN    0\n",
       "3  0.419230                 0.521671      0.093879     NaN    0\n",
       "4  0.388381                 0.359927      0.825831     NaN    0"
      ]
     },
     "execution_count": 20,
     "metadata": {},
     "output_type": "execute_result"
    }
   ],
   "source": [
    "new_df.head(5)"
   ]
  },
  {
   "cell_type": "code",
   "execution_count": 21,
   "id": "ff8c7d80",
   "metadata": {
    "execution": {
     "iopub.execute_input": "2022-04-17T16:29:19.170446Z",
     "iopub.status.busy": "2022-04-17T16:29:19.169924Z",
     "iopub.status.idle": "2022-04-17T16:29:19.188586Z",
     "shell.execute_reply": "2022-04-17T16:29:19.187899Z"
    },
    "papermill": {
     "duration": 0.071345,
     "end_time": "2022-04-17T16:29:19.190447",
     "exception": false,
     "start_time": "2022-04-17T16:29:19.119102",
     "status": "completed"
    },
    "tags": []
   },
   "outputs": [
    {
     "data": {
      "text/html": [
       "<div>\n",
       "<style scoped>\n",
       "    .dataframe tbody tr th:only-of-type {\n",
       "        vertical-align: middle;\n",
       "    }\n",
       "\n",
       "    .dataframe tbody tr th {\n",
       "        vertical-align: top;\n",
       "    }\n",
       "\n",
       "    .dataframe thead th {\n",
       "        text-align: right;\n",
       "    }\n",
       "</style>\n",
       "<table border=\"1\" class=\"dataframe\">\n",
       "  <thead>\n",
       "    <tr style=\"text-align: right;\">\n",
       "      <th></th>\n",
       "      <th>Category</th>\n",
       "      <th>DER</th>\n",
       "      <th>Operating Profit Margin</th>\n",
       "      <th>Sales Growth</th>\n",
       "      <th>target</th>\n",
       "      <th>fit</th>\n",
       "    </tr>\n",
       "  </thead>\n",
       "  <tbody>\n",
       "    <tr>\n",
       "      <th>0</th>\n",
       "      <td>2</td>\n",
       "      <td>0.626555</td>\n",
       "      <td>-0.906479</td>\n",
       "      <td>1.131697</td>\n",
       "      <td>NaN</td>\n",
       "      <td>0</td>\n",
       "    </tr>\n",
       "    <tr>\n",
       "      <th>1</th>\n",
       "      <td>4</td>\n",
       "      <td>-2.227692</td>\n",
       "      <td>-0.950837</td>\n",
       "      <td>-1.471037</td>\n",
       "      <td>NaN</td>\n",
       "      <td>1</td>\n",
       "    </tr>\n",
       "    <tr>\n",
       "      <th>2</th>\n",
       "      <td>2</td>\n",
       "      <td>0.437874</td>\n",
       "      <td>-0.815311</td>\n",
       "      <td>0.630708</td>\n",
       "      <td>NaN</td>\n",
       "      <td>0</td>\n",
       "    </tr>\n",
       "    <tr>\n",
       "      <th>3</th>\n",
       "      <td>2</td>\n",
       "      <td>0.419230</td>\n",
       "      <td>0.521671</td>\n",
       "      <td>0.093879</td>\n",
       "      <td>NaN</td>\n",
       "      <td>0</td>\n",
       "    </tr>\n",
       "    <tr>\n",
       "      <th>4</th>\n",
       "      <td>2</td>\n",
       "      <td>0.388381</td>\n",
       "      <td>0.359927</td>\n",
       "      <td>0.825831</td>\n",
       "      <td>NaN</td>\n",
       "      <td>0</td>\n",
       "    </tr>\n",
       "  </tbody>\n",
       "</table>\n",
       "</div>"
      ],
      "text/plain": [
       "   Category       DER  Operating Profit Margin  Sales Growth  target  fit\n",
       "0         2  0.626555                -0.906479      1.131697     NaN    0\n",
       "1         4 -2.227692                -0.950837     -1.471037     NaN    1\n",
       "2         2  0.437874                -0.815311      0.630708     NaN    0\n",
       "3         2  0.419230                 0.521671      0.093879     NaN    0\n",
       "4         2  0.388381                 0.359927      0.825831     NaN    0"
      ]
     },
     "execution_count": 21,
     "metadata": {},
     "output_type": "execute_result"
    }
   ],
   "source": [
    "new_df.insert(0,\"Category\",np.nan,True)\n",
    "new_df.loc[new_df['fit'] == 0, 'Category'] = 2\n",
    "new_df.loc[new_df['fit'] == 1, 'Category'] = 4\n",
    "new_df.loc[new_df['fit'] == 2, 'Category'] = 1\n",
    "new_df.loc[new_df['fit'] == 3, 'Category'] = 0\n",
    "new_df.loc[new_df['fit'] == 4, 'Category'] = 3\n",
    "new_df['Category'] = new_df['Category'].astype(int)\n",
    "new_df.head(5)"
   ]
  },
  {
   "cell_type": "code",
   "execution_count": 22,
   "id": "d4165808",
   "metadata": {
    "execution": {
     "iopub.execute_input": "2022-04-17T16:29:19.295403Z",
     "iopub.status.busy": "2022-04-17T16:29:19.294853Z",
     "iopub.status.idle": "2022-04-17T16:29:19.308427Z",
     "shell.execute_reply": "2022-04-17T16:29:19.307703Z"
    },
    "papermill": {
     "duration": 0.067758,
     "end_time": "2022-04-17T16:29:19.310962",
     "exception": false,
     "start_time": "2022-04-17T16:29:19.243204",
     "status": "completed"
    },
    "tags": []
   },
   "outputs": [
    {
     "name": "stdout",
     "output_type": "stream",
     "text": [
      "<class 'pandas.core.frame.DataFrame'>\n",
      "RangeIndex: 6 entries, 0 to 5\n",
      "Data columns (total 4 columns):\n",
      " #   Column                         Non-Null Count  Dtype  \n",
      "---  ------                         --------------  -----  \n",
      " 0   Category                       6 non-null      int64  \n",
      " 1   DER (St.)                      6 non-null      float64\n",
      " 2   Operating Profit Margin (St.)  6 non-null      float64\n",
      " 3   Sales Growth (St.)             6 non-null      float64\n",
      "dtypes: float64(3), int64(1)\n",
      "memory usage: 320.0 bytes\n"
     ]
    }
   ],
   "source": [
    "new_df.drop([\"fit\",\"target\"], axis=1, inplace=True)\n",
    "new_df.columns = ['Category','DER (St.)','Operating Profit Margin (St.)', 'Sales Growth (St.)']\n",
    "new_df.info()"
   ]
  },
  {
   "cell_type": "code",
   "execution_count": 23,
   "id": "3d39e7a2",
   "metadata": {
    "execution": {
     "iopub.execute_input": "2022-04-17T16:29:19.417999Z",
     "iopub.status.busy": "2022-04-17T16:29:19.417421Z",
     "iopub.status.idle": "2022-04-17T16:29:19.855076Z",
     "shell.execute_reply": "2022-04-17T16:29:19.854023Z"
    },
    "papermill": {
     "duration": 0.494852,
     "end_time": "2022-04-17T16:29:19.857490",
     "exception": false,
     "start_time": "2022-04-17T16:29:19.362638",
     "status": "completed"
    },
    "tags": []
   },
   "outputs": [
    {
     "data": {
      "image/png": "[encoded data removed]",
      "text/plain": [
       "<Figure size 576x576 with 1 Axes>"
      ]
     },
     "metadata": {
      "needs_background": "light"
     },
     "output_type": "display_data"
    }
   ],
   "source": [
    "from mpl_toolkits.mplot3d import Axes3D\n",
    "\n",
    "fig = plt.figure()\n",
    "ax = fig.add_subplot(111, projection = '3d')\n",
    "\n",
    "\n",
    "x = new_df['DER (St.)']\n",
    "y = new_df['Operating Profit Margin (St.)']\n",
    "z = new_df['Sales Growth (St.)']\n",
    "\n",
    "ax.set_xlabel(\"DER (St.)\")\n",
    "ax.set_ylabel(\"Operating Profit Margin (St.)\")\n",
    "ax.set_zlabel(\"Sales Growth (St.)\")\n",
    "\n",
    "cmap = ListedColormap(sns.color_palette(\"RdYlGn\", 256).as_hex())\n",
    "\n",
    "sc = ax.scatter(x, y, z, s=40, c=new_df['Category'], marker='o', cmap=cmap, alpha=1)\n",
    "plt.legend(*sc.legend_elements(), bbox_to_anchor=(1.05, 1), loc=2)\n",
    "\n",
    "plt.show()"
   ]
  },
  {
   "cell_type": "code",
   "execution_count": 24,
   "id": "2bfc69db",
   "metadata": {
    "execution": {
     "iopub.execute_input": "2022-04-17T16:29:19.966029Z",
     "iopub.status.busy": "2022-04-17T16:29:19.965722Z",
     "iopub.status.idle": "2022-04-17T16:29:20.180416Z",
     "shell.execute_reply": "2022-04-17T16:29:20.179347Z"
    },
    "papermill": {
     "duration": 0.272539,
     "end_time": "2022-04-17T16:29:20.182620",
     "exception": false,
     "start_time": "2022-04-17T16:29:19.910081",
     "status": "completed"
    },
    "tags": []
   },
   "outputs": [
    {
     "data": {
      "image/png": "[encoded data removed]",
      "text/plain": [
       "<Figure size 576x576 with 1 Axes>"
      ]
     },
     "metadata": {
      "needs_background": "light"
     },
     "output_type": "display_data"
    }
   ],
   "source": [
    "# color palette as dictionary\n",
    "palette = {0:\"tab:red\",\n",
    "           1:\"tab:orange\", \n",
    "           2:\"yellow\",\n",
    "           3:\"lime\",\n",
    "           4:\"darkgreen\"}\n",
    "\n",
    "sns.scatterplot(x='DER (St.)', y='Sales Growth (St.)', \n",
    "                hue='Category', data=new_df, s=80,\n",
    "                palette=palette)\n",
    "plt.title(\"DER vs Sales Growth (Standardisasi)\", fontsize=18, y=1.05)\n",
    "plt.show()"
   ]
  },
  {
   "cell_type": "code",
   "execution_count": 25,
   "id": "aecca99a",
   "metadata": {
    "execution": {
     "iopub.execute_input": "2022-04-17T16:29:20.293908Z",
     "iopub.status.busy": "2022-04-17T16:29:20.293131Z",
     "iopub.status.idle": "2022-04-17T16:29:20.509165Z",
     "shell.execute_reply": "2022-04-17T16:29:20.508253Z"
    },
    "papermill": {
     "duration": 0.272937,
     "end_time": "2022-04-17T16:29:20.511293",
     "exception": false,
     "start_time": "2022-04-17T16:29:20.238356",
     "status": "completed"
    },
    "tags": []
   },
   "outputs": [
    {
     "data": {
      "image/png": "[encoded data removed]",
      "text/plain": [
       "<Figure size 576x576 with 1 Axes>"
      ]
     },
     "metadata": {
      "needs_background": "light"
     },
     "output_type": "display_data"
    }
   ],
   "source": [
    "sns.scatterplot(x='Operating Profit Margin (St.)', y='Sales Growth (St.)', \n",
    "                hue='Category', data=new_df, s=80,\n",
    "                palette=palette)\n",
    "plt.title(\"Operating Profit Margin vs Sales Growth (Standardisasi)\", fontsize=18, y=1.05)\n",
    "plt.show()"
   ]
  },
  {
   "cell_type": "code",
   "execution_count": 26,
   "id": "ddb555f8",
   "metadata": {
    "execution": {
     "iopub.execute_input": "2022-04-17T16:29:20.626196Z",
     "iopub.status.busy": "2022-04-17T16:29:20.625882Z",
     "iopub.status.idle": "2022-04-17T16:29:20.918059Z",
     "shell.execute_reply": "2022-04-17T16:29:20.917373Z"
    },
    "papermill": {
     "duration": 0.351999,
     "end_time": "2022-04-17T16:29:20.920168",
     "exception": false,
     "start_time": "2022-04-17T16:29:20.568169",
     "status": "completed"
    },
    "tags": []
   },
   "outputs": [
    {
     "data": {
      "image/png": "[encoded data removed]",
      "text/plain": [
       "<Figure size 576x576 with 1 Axes>"
      ]
     },
     "metadata": {
      "needs_background": "light"
     },
     "output_type": "display_data"
    }
   ],
   "source": [
    "sns.scatterplot(x='DER (St.)', y='Operating Profit Margin (St.)', \n",
    "                hue='Category', data=new_df, s=80,\n",
    "                palette=palette)\n",
    "plt.title(\"DER vs Operating Profit Margin (Standardisasi)\", fontsize=18, y=1.05)\n",
    "plt.show()"
   ]
  },
  {
   "cell_type": "code",
   "execution_count": 27,
   "id": "cd8d3865",
   "metadata": {
    "execution": {
     "iopub.execute_input": "2022-04-17T16:29:21.051037Z",
     "iopub.status.busy": "2022-04-17T16:29:21.050100Z",
     "iopub.status.idle": "2022-04-17T16:29:21.061306Z",
     "shell.execute_reply": "2022-04-17T16:29:21.060368Z"
    },
    "papermill": {
     "duration": 0.076604,
     "end_time": "2022-04-17T16:29:21.063896",
     "exception": false,
     "start_time": "2022-04-17T16:29:20.987292",
     "status": "completed"
    },
    "tags": []
   },
   "outputs": [],
   "source": [
    "# drop these row indexes\n",
    "# from dataFrame\n",
    "index_names = df0[ df0['Emitten'] == 'ARTO' ].index\n",
    "df0.drop(index_names, inplace = True)\n",
    "df0.reset_index(drop=True, inplace=True)\n",
    "df0.drop([\"Category\"\n",
    "         ], axis=1, inplace=True)"
   ]
  },
  {
   "cell_type": "code",
   "execution_count": 28,
   "id": "bb09a47a",
   "metadata": {
    "execution": {
     "iopub.execute_input": "2022-04-17T16:29:21.181410Z",
     "iopub.status.busy": "2022-04-17T16:29:21.179825Z",
     "iopub.status.idle": "2022-04-17T16:29:21.207347Z",
     "shell.execute_reply": "2022-04-17T16:29:21.206512Z"
    },
    "papermill": {
     "duration": 0.08723,
     "end_time": "2022-04-17T16:29:21.209444",
     "exception": false,
     "start_time": "2022-04-17T16:29:21.122214",
     "status": "completed"
    },
    "tags": []
   },
   "outputs": [
    {
     "data": {
      "text/html": [
       "<div>\n",
       "<style scoped>\n",
       "    .dataframe tbody tr th:only-of-type {\n",
       "        vertical-align: middle;\n",
       "    }\n",
       "\n",
       "    .dataframe tbody tr th {\n",
       "        vertical-align: top;\n",
       "    }\n",
       "\n",
       "    .dataframe thead th {\n",
       "        text-align: right;\n",
       "    }\n",
       "</style>\n",
       "<table border=\"1\" class=\"dataframe\">\n",
       "  <thead>\n",
       "    <tr style=\"text-align: right;\">\n",
       "      <th></th>\n",
       "      <th>Industry;Company</th>\n",
       "      <th>Category</th>\n",
       "      <th>DER (St.)</th>\n",
       "      <th>Operating Profit Margin (St.)</th>\n",
       "      <th>Sales Growth (St.)</th>\n",
       "      <th>Emitten</th>\n",
       "      <th>DER</th>\n",
       "      <th>Operating Profit Margin</th>\n",
       "      <th>Return On Asset</th>\n",
       "      <th>Sales Growth</th>\n",
       "    </tr>\n",
       "  </thead>\n",
       "  <tbody>\n",
       "    <tr>\n",
       "      <th>0</th>\n",
       "      <td>Keuangan;PT Adhi Karya (Persero) Tbk (ADHI.JK)</td>\n",
       "      <td>2</td>\n",
       "      <td>0.626555</td>\n",
       "      <td>-0.906479</td>\n",
       "      <td>1.131697</td>\n",
       "      <td>ADHI.JK</td>\n",
       "      <td>1.860299</td>\n",
       "      <td>0.075566</td>\n",
       "      <td>0.787529</td>\n",
       "      <td>7027892965</td>\n",
       "    </tr>\n",
       "    <tr>\n",
       "      <th>1</th>\n",
       "      <td>Keuangan;PT Agung Podomoro Land Tbk (APLN.JK)</td>\n",
       "      <td>4</td>\n",
       "      <td>-2.227692</td>\n",
       "      <td>-0.950837</td>\n",
       "      <td>-1.471037</td>\n",
       "      <td>APLN.JK</td>\n",
       "      <td>-12.915507</td>\n",
       "      <td>0.067262</td>\n",
       "      <td>-0.027559</td>\n",
       "      <td>-7000793514</td>\n",
       "    </tr>\n",
       "    <tr>\n",
       "      <th>2</th>\n",
       "      <td>Keuangan;PT Lippo Karawaci Tbk (LPKR.JK)</td>\n",
       "      <td>2</td>\n",
       "      <td>0.437874</td>\n",
       "      <td>-0.815311</td>\n",
       "      <td>0.630708</td>\n",
       "      <td>LPKR.JK</td>\n",
       "      <td>0.883538</td>\n",
       "      <td>0.092633</td>\n",
       "      <td>-0.030777</td>\n",
       "      <td>4327576000</td>\n",
       "    </tr>\n",
       "    <tr>\n",
       "      <th>3</th>\n",
       "      <td>Keuangan;PT Alam Sutera Realty Tbk (ASRI.JK)</td>\n",
       "      <td>2</td>\n",
       "      <td>0.419230</td>\n",
       "      <td>0.521671</td>\n",
       "      <td>0.093879</td>\n",
       "      <td>ASRI.JK</td>\n",
       "      <td>0.787023</td>\n",
       "      <td>0.342917</td>\n",
       "      <td>0.071720</td>\n",
       "      <td>1434071756</td>\n",
       "    </tr>\n",
       "    <tr>\n",
       "      <th>4</th>\n",
       "      <td>Keuangan;PT Summarecon Agung Tbk (SMRA.JK)</td>\n",
       "      <td>2</td>\n",
       "      <td>0.388381</td>\n",
       "      <td>0.359927</td>\n",
       "      <td>0.825831</td>\n",
       "      <td>SMRA.JK</td>\n",
       "      <td>0.627327</td>\n",
       "      <td>0.312639</td>\n",
       "      <td>0.012427</td>\n",
       "      <td>5379284786</td>\n",
       "    </tr>\n",
       "    <tr>\n",
       "      <th>5</th>\n",
       "      <td>Keuangan;PT Plaza Indonesia Realty Tbk (PLIN.JK)</td>\n",
       "      <td>2</td>\n",
       "      <td>0.355653</td>\n",
       "      <td>1.791029</td>\n",
       "      <td>-1.211078</td>\n",
       "      <td>PLIN.JK</td>\n",
       "      <td>0.457899</td>\n",
       "      <td>0.580543</td>\n",
       "      <td>0.037401</td>\n",
       "      <td>-5599623067</td>\n",
       "    </tr>\n",
       "  </tbody>\n",
       "</table>\n",
       "</div>"
      ],
      "text/plain": [
       "                                   Industry;Company  Category  DER (St.)  \\\n",
       "0    Keuangan;PT Adhi Karya (Persero) Tbk (ADHI.JK)         2   0.626555   \n",
       "1     Keuangan;PT Agung Podomoro Land Tbk (APLN.JK)         4  -2.227692   \n",
       "2          Keuangan;PT Lippo Karawaci Tbk (LPKR.JK)         2   0.437874   \n",
       "3      Keuangan;PT Alam Sutera Realty Tbk (ASRI.JK)         2   0.419230   \n",
       "4        Keuangan;PT Summarecon Agung Tbk (SMRA.JK)         2   0.388381   \n",
       "5  Keuangan;PT Plaza Indonesia Realty Tbk (PLIN.JK)         2   0.355653   \n",
       "\n",
       "   Operating Profit Margin (St.)  Sales Growth (St.)  Emitten        DER  \\\n",
       "0                      -0.906479            1.131697  ADHI.JK   1.860299   \n",
       "1                      -0.950837           -1.471037  APLN.JK -12.915507   \n",
       "2                      -0.815311            0.630708  LPKR.JK   0.883538   \n",
       "3                       0.521671            0.093879  ASRI.JK   0.787023   \n",
       "4                       0.359927            0.825831  SMRA.JK   0.627327   \n",
       "5                       1.791029           -1.211078  PLIN.JK   0.457899   \n",
       "\n",
       "   Operating Profit Margin  Return On Asset  Sales Growth  \n",
       "0                 0.075566         0.787529    7027892965  \n",
       "1                 0.067262        -0.027559   -7000793514  \n",
       "2                 0.092633        -0.030777    4327576000  \n",
       "3                 0.342917         0.071720    1434071756  \n",
       "4                 0.312639         0.012427    5379284786  \n",
       "5                 0.580543         0.037401   -5599623067  "
      ]
     },
     "execution_count": 28,
     "metadata": {},
     "output_type": "execute_result"
    }
   ],
   "source": [
    "dftemp = pd.read_csv('../input/property/Emittenlist Febyola.csv')\n",
    "df = pd.concat([dftemp, new_df, df0], axis=1)\n",
    "df.head(6)"
   ]
  },
  {
   "cell_type": "code",
   "execution_count": 29,
   "id": "d4ecaa74",
   "metadata": {
    "execution": {
     "iopub.execute_input": "2022-04-17T16:29:21.325039Z",
     "iopub.status.busy": "2022-04-17T16:29:21.324475Z",
     "iopub.status.idle": "2022-04-17T16:29:21.334948Z",
     "shell.execute_reply": "2022-04-17T16:29:21.333801Z"
    },
    "papermill": {
     "duration": 0.071225,
     "end_time": "2022-04-17T16:29:21.337597",
     "exception": false,
     "start_time": "2022-04-17T16:29:21.266372",
     "status": "completed"
    },
    "tags": []
   },
   "outputs": [],
   "source": [
    "df.to_csv('result.csv', index = False)"
   ]
  },
  {
   "cell_type": "code",
   "execution_count": 30,
   "id": "88ab4d3e",
   "metadata": {
    "execution": {
     "iopub.execute_input": "2022-04-17T16:29:21.453653Z",
     "iopub.status.busy": "2022-04-17T16:29:21.453206Z",
     "iopub.status.idle": "2022-04-17T16:29:21.461168Z",
     "shell.execute_reply": "2022-04-17T16:29:21.460253Z"
    },
    "papermill": {
     "duration": 0.06849,
     "end_time": "2022-04-17T16:29:21.463097",
     "exception": false,
     "start_time": "2022-04-17T16:29:21.394607",
     "status": "completed"
    },
    "tags": []
   },
   "outputs": [
    {
     "data": {
      "text/plain": [
       "array([[ 0.44553847,  0.19016731,  0.29420731],\n",
       "       [-2.22769235, -0.95083656, -1.47103655]])"
      ]
     },
     "execution_count": 30,
     "metadata": {},
     "output_type": "execute_result"
    }
   ],
   "source": [
    "kmeans.cluster_centers_"
   ]
  },
  {
   "cell_type": "code",
   "execution_count": 31,
   "id": "4f777398",
   "metadata": {
    "execution": {
     "iopub.execute_input": "2022-04-17T16:29:21.583180Z",
     "iopub.status.busy": "2022-04-17T16:29:21.582761Z",
     "iopub.status.idle": "2022-04-17T16:29:21.768051Z",
     "shell.execute_reply": "2022-04-17T16:29:21.766992Z"
    },
    "papermill": {
     "duration": 0.249582,
     "end_time": "2022-04-17T16:29:21.770764",
     "exception": false,
     "start_time": "2022-04-17T16:29:21.521182",
     "status": "completed"
    },
    "tags": []
   },
   "outputs": [
    {
     "data": {
      "image/png": "[encoded data removed]",
      "text/plain": [
       "<Figure size 576x576 with 1 Axes>"
      ]
     },
     "metadata": {
      "needs_background": "light"
     },
     "output_type": "display_data"
    }
   ],
   "source": [
    "from mpl_toolkits.mplot3d import Axes3D\n",
    "\n",
    "fig = plt.figure()\n",
    "ax = fig.add_subplot(111, projection = '3d')\n",
    "x = [0.07796577,3.3825386,-0.19978728,-0.22183117,-0.32525515]\n",
    "y = [1.27721216,-0.22442569,-1.39490532,0.15549501,-0.03911061]\n",
    "z = [-0.22773712,0.35006475,-0.89274149,4.44060221,0.14030381]\n",
    "\n",
    "ax.set_xlabel(\"DER (St.)\")\n",
    "ax.set_ylabel(\"Operating Profit Margin (St.)\")\n",
    "ax.set_zlabel(\"Sales Growth (St.)\")\n",
    "ax.scatter(x, y, z)\n",
    "plt.show()"
   ]
  },
  {
   "cell_type": "code",
   "execution_count": 32,
   "id": "a7d46ff0",
   "metadata": {
    "execution": {
     "iopub.execute_input": "2022-04-17T16:29:21.911561Z",
     "iopub.status.busy": "2022-04-17T16:29:21.911253Z",
     "iopub.status.idle": "2022-04-17T16:29:21.949255Z",
     "shell.execute_reply": "2022-04-17T16:29:21.948599Z"
    },
    "papermill": {
     "duration": 0.112412,
     "end_time": "2022-04-17T16:29:21.951217",
     "exception": false,
     "start_time": "2022-04-17T16:29:21.838805",
     "status": "completed"
    },
    "tags": []
   },
   "outputs": [
    {
     "data": {
      "text/html": [
       "<div>\n",
       "<style scoped>\n",
       "    .dataframe tbody tr th:only-of-type {\n",
       "        vertical-align: middle;\n",
       "    }\n",
       "\n",
       "    .dataframe tbody tr th {\n",
       "        vertical-align: top;\n",
       "    }\n",
       "\n",
       "    .dataframe thead th {\n",
       "        text-align: right;\n",
       "    }\n",
       "</style>\n",
       "<table border=\"1\" class=\"dataframe\">\n",
       "  <thead>\n",
       "    <tr style=\"text-align: right;\">\n",
       "      <th></th>\n",
       "      <th>Category</th>\n",
       "      <th>DER (St.)</th>\n",
       "      <th>Operating Profit Margin (St.)</th>\n",
       "      <th>Sales Growth (St.)</th>\n",
       "      <th>DER</th>\n",
       "      <th>Operating Profit Margin</th>\n",
       "      <th>Return On Asset</th>\n",
       "      <th>Sales Growth</th>\n",
       "    </tr>\n",
       "  </thead>\n",
       "  <tbody>\n",
       "    <tr>\n",
       "      <th>count</th>\n",
       "      <td>1.0</td>\n",
       "      <td>1.000000</td>\n",
       "      <td>1.000000</td>\n",
       "      <td>1.000000</td>\n",
       "      <td>1.000000</td>\n",
       "      <td>1.000000</td>\n",
       "      <td>1.000000</td>\n",
       "      <td>1.000000e+00</td>\n",
       "    </tr>\n",
       "    <tr>\n",
       "      <th>mean</th>\n",
       "      <td>4.0</td>\n",
       "      <td>-2.227692</td>\n",
       "      <td>-0.950837</td>\n",
       "      <td>-1.471037</td>\n",
       "      <td>-12.915507</td>\n",
       "      <td>0.067262</td>\n",
       "      <td>-0.027559</td>\n",
       "      <td>-7.000794e+09</td>\n",
       "    </tr>\n",
       "    <tr>\n",
       "      <th>std</th>\n",
       "      <td>NaN</td>\n",
       "      <td>NaN</td>\n",
       "      <td>NaN</td>\n",
       "      <td>NaN</td>\n",
       "      <td>NaN</td>\n",
       "      <td>NaN</td>\n",
       "      <td>NaN</td>\n",
       "      <td>NaN</td>\n",
       "    </tr>\n",
       "    <tr>\n",
       "      <th>min</th>\n",
       "      <td>4.0</td>\n",
       "      <td>-2.227692</td>\n",
       "      <td>-0.950837</td>\n",
       "      <td>-1.471037</td>\n",
       "      <td>-12.915507</td>\n",
       "      <td>0.067262</td>\n",
       "      <td>-0.027559</td>\n",
       "      <td>-7.000794e+09</td>\n",
       "    </tr>\n",
       "    <tr>\n",
       "      <th>25%</th>\n",
       "      <td>4.0</td>\n",
       "      <td>-2.227692</td>\n",
       "      <td>-0.950837</td>\n",
       "      <td>-1.471037</td>\n",
       "      <td>-12.915507</td>\n",
       "      <td>0.067262</td>\n",
       "      <td>-0.027559</td>\n",
       "      <td>-7.000794e+09</td>\n",
       "    </tr>\n",
       "    <tr>\n",
       "      <th>50%</th>\n",
       "      <td>4.0</td>\n",
       "      <td>-2.227692</td>\n",
       "      <td>-0.950837</td>\n",
       "      <td>-1.471037</td>\n",
       "      <td>-12.915507</td>\n",
       "      <td>0.067262</td>\n",
       "      <td>-0.027559</td>\n",
       "      <td>-7.000794e+09</td>\n",
       "    </tr>\n",
       "    <tr>\n",
       "      <th>75%</th>\n",
       "      <td>4.0</td>\n",
       "      <td>-2.227692</td>\n",
       "      <td>-0.950837</td>\n",
       "      <td>-1.471037</td>\n",
       "      <td>-12.915507</td>\n",
       "      <td>0.067262</td>\n",
       "      <td>-0.027559</td>\n",
       "      <td>-7.000794e+09</td>\n",
       "    </tr>\n",
       "    <tr>\n",
       "      <th>max</th>\n",
       "      <td>4.0</td>\n",
       "      <td>-2.227692</td>\n",
       "      <td>-0.950837</td>\n",
       "      <td>-1.471037</td>\n",
       "      <td>-12.915507</td>\n",
       "      <td>0.067262</td>\n",
       "      <td>-0.027559</td>\n",
       "      <td>-7.000794e+09</td>\n",
       "    </tr>\n",
       "  </tbody>\n",
       "</table>\n",
       "</div>"
      ],
      "text/plain": [
       "       Category  DER (St.)  Operating Profit Margin (St.)  Sales Growth (St.)  \\\n",
       "count       1.0   1.000000                       1.000000            1.000000   \n",
       "mean        4.0  -2.227692                      -0.950837           -1.471037   \n",
       "std         NaN        NaN                            NaN                 NaN   \n",
       "min         4.0  -2.227692                      -0.950837           -1.471037   \n",
       "25%         4.0  -2.227692                      -0.950837           -1.471037   \n",
       "50%         4.0  -2.227692                      -0.950837           -1.471037   \n",
       "75%         4.0  -2.227692                      -0.950837           -1.471037   \n",
       "max         4.0  -2.227692                      -0.950837           -1.471037   \n",
       "\n",
       "             DER  Operating Profit Margin  Return On Asset  Sales Growth  \n",
       "count   1.000000                 1.000000         1.000000  1.000000e+00  \n",
       "mean  -12.915507                 0.067262        -0.027559 -7.000794e+09  \n",
       "std          NaN                      NaN              NaN           NaN  \n",
       "min   -12.915507                 0.067262        -0.027559 -7.000794e+09  \n",
       "25%   -12.915507                 0.067262        -0.027559 -7.000794e+09  \n",
       "50%   -12.915507                 0.067262        -0.027559 -7.000794e+09  \n",
       "75%   -12.915507                 0.067262        -0.027559 -7.000794e+09  \n",
       "max   -12.915507                 0.067262        -0.027559 -7.000794e+09  "
      ]
     },
     "execution_count": 32,
     "metadata": {},
     "output_type": "execute_result"
    }
   ],
   "source": [
    "df[df['Category'] == 4].describe() "
   ]
  },
  {
   "cell_type": "code",
   "execution_count": 33,
   "id": "1d430821",
   "metadata": {
    "execution": {
     "iopub.execute_input": "2022-04-17T16:29:22.073881Z",
     "iopub.status.busy": "2022-04-17T16:29:22.073332Z",
     "iopub.status.idle": "2022-04-17T16:29:22.106750Z",
     "shell.execute_reply": "2022-04-17T16:29:22.105904Z"
    },
    "papermill": {
     "duration": 0.097221,
     "end_time": "2022-04-17T16:29:22.108951",
     "exception": false,
     "start_time": "2022-04-17T16:29:22.011730",
     "status": "completed"
    },
    "tags": []
   },
   "outputs": [
    {
     "data": {
      "text/html": [
       "<div>\n",
       "<style scoped>\n",
       "    .dataframe tbody tr th:only-of-type {\n",
       "        vertical-align: middle;\n",
       "    }\n",
       "\n",
       "    .dataframe tbody tr th {\n",
       "        vertical-align: top;\n",
       "    }\n",
       "\n",
       "    .dataframe thead th {\n",
       "        text-align: right;\n",
       "    }\n",
       "</style>\n",
       "<table border=\"1\" class=\"dataframe\">\n",
       "  <thead>\n",
       "    <tr style=\"text-align: right;\">\n",
       "      <th></th>\n",
       "      <th>Category</th>\n",
       "      <th>DER (St.)</th>\n",
       "      <th>Operating Profit Margin (St.)</th>\n",
       "      <th>Sales Growth (St.)</th>\n",
       "      <th>DER</th>\n",
       "      <th>Operating Profit Margin</th>\n",
       "      <th>Return On Asset</th>\n",
       "      <th>Sales Growth</th>\n",
       "    </tr>\n",
       "  </thead>\n",
       "  <tbody>\n",
       "    <tr>\n",
       "      <th>count</th>\n",
       "      <td>0.0</td>\n",
       "      <td>0.0</td>\n",
       "      <td>0.0</td>\n",
       "      <td>0.0</td>\n",
       "      <td>0.0</td>\n",
       "      <td>0.0</td>\n",
       "      <td>0.0</td>\n",
       "      <td>0.0</td>\n",
       "    </tr>\n",
       "    <tr>\n",
       "      <th>mean</th>\n",
       "      <td>NaN</td>\n",
       "      <td>NaN</td>\n",
       "      <td>NaN</td>\n",
       "      <td>NaN</td>\n",
       "      <td>NaN</td>\n",
       "      <td>NaN</td>\n",
       "      <td>NaN</td>\n",
       "      <td>NaN</td>\n",
       "    </tr>\n",
       "    <tr>\n",
       "      <th>std</th>\n",
       "      <td>NaN</td>\n",
       "      <td>NaN</td>\n",
       "      <td>NaN</td>\n",
       "      <td>NaN</td>\n",
       "      <td>NaN</td>\n",
       "      <td>NaN</td>\n",
       "      <td>NaN</td>\n",
       "      <td>NaN</td>\n",
       "    </tr>\n",
       "    <tr>\n",
       "      <th>min</th>\n",
       "      <td>NaN</td>\n",
       "      <td>NaN</td>\n",
       "      <td>NaN</td>\n",
       "      <td>NaN</td>\n",
       "      <td>NaN</td>\n",
       "      <td>NaN</td>\n",
       "      <td>NaN</td>\n",
       "      <td>NaN</td>\n",
       "    </tr>\n",
       "    <tr>\n",
       "      <th>25%</th>\n",
       "      <td>NaN</td>\n",
       "      <td>NaN</td>\n",
       "      <td>NaN</td>\n",
       "      <td>NaN</td>\n",
       "      <td>NaN</td>\n",
       "      <td>NaN</td>\n",
       "      <td>NaN</td>\n",
       "      <td>NaN</td>\n",
       "    </tr>\n",
       "    <tr>\n",
       "      <th>50%</th>\n",
       "      <td>NaN</td>\n",
       "      <td>NaN</td>\n",
       "      <td>NaN</td>\n",
       "      <td>NaN</td>\n",
       "      <td>NaN</td>\n",
       "      <td>NaN</td>\n",
       "      <td>NaN</td>\n",
       "      <td>NaN</td>\n",
       "    </tr>\n",
       "    <tr>\n",
       "      <th>75%</th>\n",
       "      <td>NaN</td>\n",
       "      <td>NaN</td>\n",
       "      <td>NaN</td>\n",
       "      <td>NaN</td>\n",
       "      <td>NaN</td>\n",
       "      <td>NaN</td>\n",
       "      <td>NaN</td>\n",
       "      <td>NaN</td>\n",
       "    </tr>\n",
       "    <tr>\n",
       "      <th>max</th>\n",
       "      <td>NaN</td>\n",
       "      <td>NaN</td>\n",
       "      <td>NaN</td>\n",
       "      <td>NaN</td>\n",
       "      <td>NaN</td>\n",
       "      <td>NaN</td>\n",
       "      <td>NaN</td>\n",
       "      <td>NaN</td>\n",
       "    </tr>\n",
       "  </tbody>\n",
       "</table>\n",
       "</div>"
      ],
      "text/plain": [
       "       Category  DER (St.)  Operating Profit Margin (St.)  Sales Growth (St.)  \\\n",
       "count       0.0        0.0                            0.0                 0.0   \n",
       "mean        NaN        NaN                            NaN                 NaN   \n",
       "std         NaN        NaN                            NaN                 NaN   \n",
       "min         NaN        NaN                            NaN                 NaN   \n",
       "25%         NaN        NaN                            NaN                 NaN   \n",
       "50%         NaN        NaN                            NaN                 NaN   \n",
       "75%         NaN        NaN                            NaN                 NaN   \n",
       "max         NaN        NaN                            NaN                 NaN   \n",
       "\n",
       "       DER  Operating Profit Margin  Return On Asset  Sales Growth  \n",
       "count  0.0                      0.0              0.0           0.0  \n",
       "mean   NaN                      NaN              NaN           NaN  \n",
       "std    NaN                      NaN              NaN           NaN  \n",
       "min    NaN                      NaN              NaN           NaN  \n",
       "25%    NaN                      NaN              NaN           NaN  \n",
       "50%    NaN                      NaN              NaN           NaN  \n",
       "75%    NaN                      NaN              NaN           NaN  \n",
       "max    NaN                      NaN              NaN           NaN  "
      ]
     },
     "execution_count": 33,
     "metadata": {},
     "output_type": "execute_result"
    }
   ],
   "source": [
    "#Highly Positively Impacted\n",
    "df[df['Category'] == 3].describe() "
   ]
  },
  {
   "cell_type": "code",
   "execution_count": 34,
   "id": "1d406d9e",
   "metadata": {
    "execution": {
     "iopub.execute_input": "2022-04-17T16:29:22.233983Z",
     "iopub.status.busy": "2022-04-17T16:29:22.233676Z",
     "iopub.status.idle": "2022-04-17T16:29:22.268384Z",
     "shell.execute_reply": "2022-04-17T16:29:22.267692Z"
    },
    "papermill": {
     "duration": 0.100242,
     "end_time": "2022-04-17T16:29:22.270288",
     "exception": false,
     "start_time": "2022-04-17T16:29:22.170046",
     "status": "completed"
    },
    "tags": []
   },
   "outputs": [
    {
     "data": {
      "text/html": [
       "<div>\n",
       "<style scoped>\n",
       "    .dataframe tbody tr th:only-of-type {\n",
       "        vertical-align: middle;\n",
       "    }\n",
       "\n",
       "    .dataframe tbody tr th {\n",
       "        vertical-align: top;\n",
       "    }\n",
       "\n",
       "    .dataframe thead th {\n",
       "        text-align: right;\n",
       "    }\n",
       "</style>\n",
       "<table border=\"1\" class=\"dataframe\">\n",
       "  <thead>\n",
       "    <tr style=\"text-align: right;\">\n",
       "      <th></th>\n",
       "      <th>Category</th>\n",
       "      <th>DER (St.)</th>\n",
       "      <th>Operating Profit Margin (St.)</th>\n",
       "      <th>Sales Growth (St.)</th>\n",
       "      <th>DER</th>\n",
       "      <th>Operating Profit Margin</th>\n",
       "      <th>Return On Asset</th>\n",
       "      <th>Sales Growth</th>\n",
       "    </tr>\n",
       "  </thead>\n",
       "  <tbody>\n",
       "    <tr>\n",
       "      <th>count</th>\n",
       "      <td>5.0</td>\n",
       "      <td>5.000000</td>\n",
       "      <td>5.000000</td>\n",
       "      <td>5.000000</td>\n",
       "      <td>5.000000</td>\n",
       "      <td>5.000000</td>\n",
       "      <td>5.000000</td>\n",
       "      <td>5.000000e+00</td>\n",
       "    </tr>\n",
       "    <tr>\n",
       "      <th>mean</th>\n",
       "      <td>2.0</td>\n",
       "      <td>0.445538</td>\n",
       "      <td>0.190167</td>\n",
       "      <td>0.294207</td>\n",
       "      <td>0.923217</td>\n",
       "      <td>0.280859</td>\n",
       "      <td>0.175660</td>\n",
       "      <td>2.513840e+09</td>\n",
       "    </tr>\n",
       "    <tr>\n",
       "      <th>std</th>\n",
       "      <td>0.0</td>\n",
       "      <td>0.105906</td>\n",
       "      <td>1.108500</td>\n",
       "      <td>0.922397</td>\n",
       "      <td>0.548251</td>\n",
       "      <td>0.207513</td>\n",
       "      <td>0.344080</td>\n",
       "      <td>4.971702e+09</td>\n",
       "    </tr>\n",
       "    <tr>\n",
       "      <th>min</th>\n",
       "      <td>2.0</td>\n",
       "      <td>0.355653</td>\n",
       "      <td>-0.906479</td>\n",
       "      <td>-1.211078</td>\n",
       "      <td>0.457899</td>\n",
       "      <td>0.075566</td>\n",
       "      <td>-0.030777</td>\n",
       "      <td>-5.599623e+09</td>\n",
       "    </tr>\n",
       "    <tr>\n",
       "      <th>25%</th>\n",
       "      <td>2.0</td>\n",
       "      <td>0.388381</td>\n",
       "      <td>-0.815311</td>\n",
       "      <td>0.093879</td>\n",
       "      <td>0.627327</td>\n",
       "      <td>0.092633</td>\n",
       "      <td>0.012427</td>\n",
       "      <td>1.434072e+09</td>\n",
       "    </tr>\n",
       "    <tr>\n",
       "      <th>50%</th>\n",
       "      <td>2.0</td>\n",
       "      <td>0.419230</td>\n",
       "      <td>0.359927</td>\n",
       "      <td>0.630708</td>\n",
       "      <td>0.787023</td>\n",
       "      <td>0.312639</td>\n",
       "      <td>0.037401</td>\n",
       "      <td>4.327576e+09</td>\n",
       "    </tr>\n",
       "    <tr>\n",
       "      <th>75%</th>\n",
       "      <td>2.0</td>\n",
       "      <td>0.437874</td>\n",
       "      <td>0.521671</td>\n",
       "      <td>0.825831</td>\n",
       "      <td>0.883538</td>\n",
       "      <td>0.342917</td>\n",
       "      <td>0.071720</td>\n",
       "      <td>5.379285e+09</td>\n",
       "    </tr>\n",
       "    <tr>\n",
       "      <th>max</th>\n",
       "      <td>2.0</td>\n",
       "      <td>0.626555</td>\n",
       "      <td>1.791029</td>\n",
       "      <td>1.131697</td>\n",
       "      <td>1.860299</td>\n",
       "      <td>0.580543</td>\n",
       "      <td>0.787529</td>\n",
       "      <td>7.027893e+09</td>\n",
       "    </tr>\n",
       "  </tbody>\n",
       "</table>\n",
       "</div>"
      ],
      "text/plain": [
       "       Category  DER (St.)  Operating Profit Margin (St.)  Sales Growth (St.)  \\\n",
       "count       5.0   5.000000                       5.000000            5.000000   \n",
       "mean        2.0   0.445538                       0.190167            0.294207   \n",
       "std         0.0   0.105906                       1.108500            0.922397   \n",
       "min         2.0   0.355653                      -0.906479           -1.211078   \n",
       "25%         2.0   0.388381                      -0.815311            0.093879   \n",
       "50%         2.0   0.419230                       0.359927            0.630708   \n",
       "75%         2.0   0.437874                       0.521671            0.825831   \n",
       "max         2.0   0.626555                       1.791029            1.131697   \n",
       "\n",
       "            DER  Operating Profit Margin  Return On Asset  Sales Growth  \n",
       "count  5.000000                 5.000000         5.000000  5.000000e+00  \n",
       "mean   0.923217                 0.280859         0.175660  2.513840e+09  \n",
       "std    0.548251                 0.207513         0.344080  4.971702e+09  \n",
       "min    0.457899                 0.075566        -0.030777 -5.599623e+09  \n",
       "25%    0.627327                 0.092633         0.012427  1.434072e+09  \n",
       "50%    0.787023                 0.312639         0.037401  4.327576e+09  \n",
       "75%    0.883538                 0.342917         0.071720  5.379285e+09  \n",
       "max    1.860299                 0.580543         0.787529  7.027893e+09  "
      ]
     },
     "execution_count": 34,
     "metadata": {},
     "output_type": "execute_result"
    }
   ],
   "source": [
    "#Highly Positively Impacted\n",
    "df[df['Category'] == 2].describe() "
   ]
  },
  {
   "cell_type": "code",
   "execution_count": 35,
   "id": "150bdbf7",
   "metadata": {
    "execution": {
     "iopub.execute_input": "2022-04-17T16:29:22.396482Z",
     "iopub.status.busy": "2022-04-17T16:29:22.395758Z",
     "iopub.status.idle": "2022-04-17T16:29:22.429683Z",
     "shell.execute_reply": "2022-04-17T16:29:22.428835Z"
    },
    "papermill": {
     "duration": 0.1,
     "end_time": "2022-04-17T16:29:22.431895",
     "exception": false,
     "start_time": "2022-04-17T16:29:22.331895",
     "status": "completed"
    },
    "tags": []
   },
   "outputs": [
    {
     "data": {
      "text/html": [
       "<div>\n",
       "<style scoped>\n",
       "    .dataframe tbody tr th:only-of-type {\n",
       "        vertical-align: middle;\n",
       "    }\n",
       "\n",
       "    .dataframe tbody tr th {\n",
       "        vertical-align: top;\n",
       "    }\n",
       "\n",
       "    .dataframe thead th {\n",
       "        text-align: right;\n",
       "    }\n",
       "</style>\n",
       "<table border=\"1\" class=\"dataframe\">\n",
       "  <thead>\n",
       "    <tr style=\"text-align: right;\">\n",
       "      <th></th>\n",
       "      <th>Category</th>\n",
       "      <th>DER (St.)</th>\n",
       "      <th>Operating Profit Margin (St.)</th>\n",
       "      <th>Sales Growth (St.)</th>\n",
       "      <th>DER</th>\n",
       "      <th>Operating Profit Margin</th>\n",
       "      <th>Return On Asset</th>\n",
       "      <th>Sales Growth</th>\n",
       "    </tr>\n",
       "  </thead>\n",
       "  <tbody>\n",
       "    <tr>\n",
       "      <th>count</th>\n",
       "      <td>0.0</td>\n",
       "      <td>0.0</td>\n",
       "      <td>0.0</td>\n",
       "      <td>0.0</td>\n",
       "      <td>0.0</td>\n",
       "      <td>0.0</td>\n",
       "      <td>0.0</td>\n",
       "      <td>0.0</td>\n",
       "    </tr>\n",
       "    <tr>\n",
       "      <th>mean</th>\n",
       "      <td>NaN</td>\n",
       "      <td>NaN</td>\n",
       "      <td>NaN</td>\n",
       "      <td>NaN</td>\n",
       "      <td>NaN</td>\n",
       "      <td>NaN</td>\n",
       "      <td>NaN</td>\n",
       "      <td>NaN</td>\n",
       "    </tr>\n",
       "    <tr>\n",
       "      <th>std</th>\n",
       "      <td>NaN</td>\n",
       "      <td>NaN</td>\n",
       "      <td>NaN</td>\n",
       "      <td>NaN</td>\n",
       "      <td>NaN</td>\n",
       "      <td>NaN</td>\n",
       "      <td>NaN</td>\n",
       "      <td>NaN</td>\n",
       "    </tr>\n",
       "    <tr>\n",
       "      <th>min</th>\n",
       "      <td>NaN</td>\n",
       "      <td>NaN</td>\n",
       "      <td>NaN</td>\n",
       "      <td>NaN</td>\n",
       "      <td>NaN</td>\n",
       "      <td>NaN</td>\n",
       "      <td>NaN</td>\n",
       "      <td>NaN</td>\n",
       "    </tr>\n",
       "    <tr>\n",
       "      <th>25%</th>\n",
       "      <td>NaN</td>\n",
       "      <td>NaN</td>\n",
       "      <td>NaN</td>\n",
       "      <td>NaN</td>\n",
       "      <td>NaN</td>\n",
       "      <td>NaN</td>\n",
       "      <td>NaN</td>\n",
       "      <td>NaN</td>\n",
       "    </tr>\n",
       "    <tr>\n",
       "      <th>50%</th>\n",
       "      <td>NaN</td>\n",
       "      <td>NaN</td>\n",
       "      <td>NaN</td>\n",
       "      <td>NaN</td>\n",
       "      <td>NaN</td>\n",
       "      <td>NaN</td>\n",
       "      <td>NaN</td>\n",
       "      <td>NaN</td>\n",
       "    </tr>\n",
       "    <tr>\n",
       "      <th>75%</th>\n",
       "      <td>NaN</td>\n",
       "      <td>NaN</td>\n",
       "      <td>NaN</td>\n",
       "      <td>NaN</td>\n",
       "      <td>NaN</td>\n",
       "      <td>NaN</td>\n",
       "      <td>NaN</td>\n",
       "      <td>NaN</td>\n",
       "    </tr>\n",
       "    <tr>\n",
       "      <th>max</th>\n",
       "      <td>NaN</td>\n",
       "      <td>NaN</td>\n",
       "      <td>NaN</td>\n",
       "      <td>NaN</td>\n",
       "      <td>NaN</td>\n",
       "      <td>NaN</td>\n",
       "      <td>NaN</td>\n",
       "      <td>NaN</td>\n",
       "    </tr>\n",
       "  </tbody>\n",
       "</table>\n",
       "</div>"
      ],
      "text/plain": [
       "       Category  DER (St.)  Operating Profit Margin (St.)  Sales Growth (St.)  \\\n",
       "count       0.0        0.0                            0.0                 0.0   \n",
       "mean        NaN        NaN                            NaN                 NaN   \n",
       "std         NaN        NaN                            NaN                 NaN   \n",
       "min         NaN        NaN                            NaN                 NaN   \n",
       "25%         NaN        NaN                            NaN                 NaN   \n",
       "50%         NaN        NaN                            NaN                 NaN   \n",
       "75%         NaN        NaN                            NaN                 NaN   \n",
       "max         NaN        NaN                            NaN                 NaN   \n",
       "\n",
       "       DER  Operating Profit Margin  Return On Asset  Sales Growth  \n",
       "count  0.0                      0.0              0.0           0.0  \n",
       "mean   NaN                      NaN              NaN           NaN  \n",
       "std    NaN                      NaN              NaN           NaN  \n",
       "min    NaN                      NaN              NaN           NaN  \n",
       "25%    NaN                      NaN              NaN           NaN  \n",
       "50%    NaN                      NaN              NaN           NaN  \n",
       "75%    NaN                      NaN              NaN           NaN  \n",
       "max    NaN                      NaN              NaN           NaN  "
      ]
     },
     "execution_count": 35,
     "metadata": {},
     "output_type": "execute_result"
    }
   ],
   "source": [
    "#Highly Positively Impacted\n",
    "df[df['Category'] == 1].describe() "
   ]
  },
  {
   "cell_type": "code",
   "execution_count": 36,
   "id": "82a390df",
   "metadata": {
    "execution": {
     "iopub.execute_input": "2022-04-17T16:29:22.558114Z",
     "iopub.status.busy": "2022-04-17T16:29:22.557579Z",
     "iopub.status.idle": "2022-04-17T16:29:22.593107Z",
     "shell.execute_reply": "2022-04-17T16:29:22.592233Z"
    },
    "papermill": {
     "duration": 0.10198,
     "end_time": "2022-04-17T16:29:22.595225",
     "exception": false,
     "start_time": "2022-04-17T16:29:22.493245",
     "status": "completed"
    },
    "tags": []
   },
   "outputs": [
    {
     "data": {
      "text/html": [
       "<div>\n",
       "<style scoped>\n",
       "    .dataframe tbody tr th:only-of-type {\n",
       "        vertical-align: middle;\n",
       "    }\n",
       "\n",
       "    .dataframe tbody tr th {\n",
       "        vertical-align: top;\n",
       "    }\n",
       "\n",
       "    .dataframe thead th {\n",
       "        text-align: right;\n",
       "    }\n",
       "</style>\n",
       "<table border=\"1\" class=\"dataframe\">\n",
       "  <thead>\n",
       "    <tr style=\"text-align: right;\">\n",
       "      <th></th>\n",
       "      <th>Category</th>\n",
       "      <th>DER (St.)</th>\n",
       "      <th>Operating Profit Margin (St.)</th>\n",
       "      <th>Sales Growth (St.)</th>\n",
       "      <th>DER</th>\n",
       "      <th>Operating Profit Margin</th>\n",
       "      <th>Return On Asset</th>\n",
       "      <th>Sales Growth</th>\n",
       "    </tr>\n",
       "  </thead>\n",
       "  <tbody>\n",
       "    <tr>\n",
       "      <th>count</th>\n",
       "      <td>0.0</td>\n",
       "      <td>0.0</td>\n",
       "      <td>0.0</td>\n",
       "      <td>0.0</td>\n",
       "      <td>0.0</td>\n",
       "      <td>0.0</td>\n",
       "      <td>0.0</td>\n",
       "      <td>0.0</td>\n",
       "    </tr>\n",
       "    <tr>\n",
       "      <th>mean</th>\n",
       "      <td>NaN</td>\n",
       "      <td>NaN</td>\n",
       "      <td>NaN</td>\n",
       "      <td>NaN</td>\n",
       "      <td>NaN</td>\n",
       "      <td>NaN</td>\n",
       "      <td>NaN</td>\n",
       "      <td>NaN</td>\n",
       "    </tr>\n",
       "    <tr>\n",
       "      <th>std</th>\n",
       "      <td>NaN</td>\n",
       "      <td>NaN</td>\n",
       "      <td>NaN</td>\n",
       "      <td>NaN</td>\n",
       "      <td>NaN</td>\n",
       "      <td>NaN</td>\n",
       "      <td>NaN</td>\n",
       "      <td>NaN</td>\n",
       "    </tr>\n",
       "    <tr>\n",
       "      <th>min</th>\n",
       "      <td>NaN</td>\n",
       "      <td>NaN</td>\n",
       "      <td>NaN</td>\n",
       "      <td>NaN</td>\n",
       "      <td>NaN</td>\n",
       "      <td>NaN</td>\n",
       "      <td>NaN</td>\n",
       "      <td>NaN</td>\n",
       "    </tr>\n",
       "    <tr>\n",
       "      <th>25%</th>\n",
       "      <td>NaN</td>\n",
       "      <td>NaN</td>\n",
       "      <td>NaN</td>\n",
       "      <td>NaN</td>\n",
       "      <td>NaN</td>\n",
       "      <td>NaN</td>\n",
       "      <td>NaN</td>\n",
       "      <td>NaN</td>\n",
       "    </tr>\n",
       "    <tr>\n",
       "      <th>50%</th>\n",
       "      <td>NaN</td>\n",
       "      <td>NaN</td>\n",
       "      <td>NaN</td>\n",
       "      <td>NaN</td>\n",
       "      <td>NaN</td>\n",
       "      <td>NaN</td>\n",
       "      <td>NaN</td>\n",
       "      <td>NaN</td>\n",
       "    </tr>\n",
       "    <tr>\n",
       "      <th>75%</th>\n",
       "      <td>NaN</td>\n",
       "      <td>NaN</td>\n",
       "      <td>NaN</td>\n",
       "      <td>NaN</td>\n",
       "      <td>NaN</td>\n",
       "      <td>NaN</td>\n",
       "      <td>NaN</td>\n",
       "      <td>NaN</td>\n",
       "    </tr>\n",
       "    <tr>\n",
       "      <th>max</th>\n",
       "      <td>NaN</td>\n",
       "      <td>NaN</td>\n",
       "      <td>NaN</td>\n",
       "      <td>NaN</td>\n",
       "      <td>NaN</td>\n",
       "      <td>NaN</td>\n",
       "      <td>NaN</td>\n",
       "      <td>NaN</td>\n",
       "    </tr>\n",
       "  </tbody>\n",
       "</table>\n",
       "</div>"
      ],
      "text/plain": [
       "       Category  DER (St.)  Operating Profit Margin (St.)  Sales Growth (St.)  \\\n",
       "count       0.0        0.0                            0.0                 0.0   \n",
       "mean        NaN        NaN                            NaN                 NaN   \n",
       "std         NaN        NaN                            NaN                 NaN   \n",
       "min         NaN        NaN                            NaN                 NaN   \n",
       "25%         NaN        NaN                            NaN                 NaN   \n",
       "50%         NaN        NaN                            NaN                 NaN   \n",
       "75%         NaN        NaN                            NaN                 NaN   \n",
       "max         NaN        NaN                            NaN                 NaN   \n",
       "\n",
       "       DER  Operating Profit Margin  Return On Asset  Sales Growth  \n",
       "count  0.0                      0.0              0.0           0.0  \n",
       "mean   NaN                      NaN              NaN           NaN  \n",
       "std    NaN                      NaN              NaN           NaN  \n",
       "min    NaN                      NaN              NaN           NaN  \n",
       "25%    NaN                      NaN              NaN           NaN  \n",
       "50%    NaN                      NaN              NaN           NaN  \n",
       "75%    NaN                      NaN              NaN           NaN  \n",
       "max    NaN                      NaN              NaN           NaN  "
      ]
     },
     "execution_count": 36,
     "metadata": {},
     "output_type": "execute_result"
    }
   ],
   "source": [
    "#Highly Positively Impacted\n",
    "df[df['Category'] == 0].describe() "
   ]
  }
 ],
 "metadata": {
  "kernelspec": {
   "display_name": "Python 3",
   "language": "python",
   "name": "python3"
  },
  "language_info": {
   "codemirror_mode": {
    "name": "ipython",
    "version": 3
   },
   "file_extension": ".py",
   "mimetype": "text/x-python",
   "name": "python",
   "nbconvert_exporter": "python",
   "pygments_lexer": "ipython3",
   "version": "3.7.12"
  },
  "papermill": {
   "default_parameters": {},
   "duration": 23.081392,
   "end_time": "2022-04-17T16:29:23.480489",
   "environment_variables": {},
   "exception": null,
   "input_path": "__notebook__.ipynb",
   "output_path": "__notebook__.ipynb",
   "parameters": {},
   "start_time": "2022-04-17T16:29:00.399097",
   "version": "2.3.4"
  }
 },
 "nbformat": 4,
 "nbformat_minor": 5
}
